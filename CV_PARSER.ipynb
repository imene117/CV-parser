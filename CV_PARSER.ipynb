{
 "cells": [
  {
   "cell_type": "code",
   "execution_count": 3,
   "metadata": {},
   "outputs": [
    {
     "name": "stderr",
     "output_type": "stream",
     "text": [
      "[nltk_data] Downloading package stopwords to\n",
      "[nltk_data]     /Users/hocine/nltk_data...\n",
      "[nltk_data]   Package stopwords is already up-to-date!\n",
      "[nltk_data] Downloading package wordnet to /Users/hocine/nltk_data...\n",
      "[nltk_data]   Package wordnet is already up-to-date!\n"
     ]
    }
   ],
   "source": [
    "import numpy as np\n",
    "import random\n",
    "import networkx as nx\n",
    "from IPython.display import Image\n",
    "import matplotlib.pyplot as plt\n",
    "import spacy\n",
    "from spacy.matcher import Matcher\n",
    "\n",
    "#read from pdf\n",
    "import PyPDF2\n",
    "import os\n",
    "from os import listdir\n",
    "from os.path import isfile, join\n",
    "from io import StringIO\n",
    "import pandas as pd\n",
    "from collections import Counter\n",
    "import en_core_web_sm\n",
    "nlp = en_core_web_sm.load()\n",
    "from spacy.matcher import PhraseMatcher\n",
    "\n",
    "import subprocess  # noqa: S404\n",
    "import sys\n",
    "\n",
    "\n",
    "import nltk  \n",
    "import string\n",
    "\n",
    "import bs4 as bs  \n",
    "import urllib.request  \n",
    "import re  \n",
    "import docx2txt\n",
    "\n",
    "\n",
    "\n",
    "from nltk.tokenize import WordPunctTokenizer\n",
    "nltk.download('stopwords')\n",
    "from nltk.corpus import stopwords\n",
    "# needed for nltk.pos_tag function nltk.download(’averaged_perceptron_tagger’)\n",
    "nltk.download('wordnet')\n",
    "from nltk.stem import WordNetLemmatizer\n",
    "import textract\n"
   ]
  },
  {
   "cell_type": "code",
   "execution_count": 4,
   "metadata": {},
   "outputs": [
    {
     "name": "stdout",
     "output_type": "stream",
     "text": [
      "3.9.5 (default, May 18 2021, 12:31:01) \n",
      "[Clang 10.0.0 ]\n"
     ]
    }
   ],
   "source": [
    "# python version\n",
    "import sys\n",
    "print(sys.version)"
   ]
  },
  {
   "cell_type": "code",
   "execution_count": 5,
   "metadata": {},
   "outputs": [
    {
     "name": "stdout",
     "output_type": "stream",
     "text": [
      "3\n"
     ]
    }
   ],
   "source": [
    "# 1st version\n",
    "\n",
    "# creating a pdf file object \n",
    "pdfFileObj = open('///Users/hocine/Documents/Imene/github_code/cv_pars/Resume-4.pdf', 'rb') \n",
    "\n",
    "#pdfFileObj = open('///Users/imene/Desktop/resume_006.pdf', 'rb') \n",
    "\n",
    "\n",
    "# creating a pdf reader object \n",
    "pdfReader = PyPDF2.PdfFileReader(pdfFileObj) \n",
    "    \n",
    "# printing number of pages in pdf file \n",
    "print(pdfReader.numPages) \n",
    "    \n",
    "# creating a page object \n",
    "pageObj = pdfReader.getPage(0) \n",
    "    \n",
    "# extracting text from page \n",
    "pdfTotext = pageObj.extractText()\n",
    "    \n",
    "# closing the pdf file object \n",
    "pdfFileObj.close() \n",
    "    \n",
    "\n"
   ]
  },
  {
   "cell_type": "code",
   "execution_count": 6,
   "metadata": {},
   "outputs": [
    {
     "data": {
      "text/plain": [
       "['Florian',\n",
       " ' Wilhelm',\n",
       " 'Principal Data Scientist',\n",
       " 'Cologne, Germany',\n",
       " 'k',\n",
       " 'Florian.Wilhelm@gmail.com',\n",
       " 'Personal Information',\n",
       " 'Date of Birth',\n",
       " '23/11/1981',\n",
       " 'Place of Birth',\n",
       " 'Neustadt an der Weinstraÿe, Germany',\n",
       " 'Marital status',\n",
       " 'single',\n",
       " 'Nationality',\n",
       " 'Germany',\n",
       " 'Work Experience',\n",
       " '04/2016 \\x15 today',\n",
       " 'Principal Data Scientist',\n",
       " ',',\n",
       " 'inovex GmbH',\n",
       " ', Cologne, Germany.',\n",
       " 'Consultant for Data Science, mathematical modelling and Big Data maximizing the bene˝ts',\n",
       " 'of the digital transformation for our customers. Tasks:',\n",
       " '\\x0f',\n",
       " 'building a recommendation engine and user preference service for a large e-commerce com-',\n",
       " 'pany (mobile.de),',\n",
       " '\\x0f',\n",
       " 'fraud and account takeover detection for a large e-commerce company,',\n",
       " '\\x0f',\n",
       " 'learning to rank to improve search results of customers for a large e-commerce company,',\n",
       " '\\x0f',\n",
       " 'research projects in OCR with deep learning, NLP interface for SQL, reinforcement learning',\n",
       " 'and uncertainty quanti˝cation,',\n",
       " '\\x0f',\n",
       " 'project lead, support of presales activities and supervisor for bachelor and master students.',\n",
       " '11/2015 \\x15 03/2016',\n",
       " 'Senior Professional: Data Scientist',\n",
       " ',',\n",
       " 'CSC Consulting GmbH',\n",
       " ', Cologne, Germany.',\n",
       " 'Consultant for advanced Data Science, Big Data and Analytics solutions:',\n",
       " '\\x0f',\n",
       " 'predictive maintenance for a component manufacturer of commercial vehicles,',\n",
       " '\\x0f',\n",
       " 'training and coaching of new employees in the ˝eld of Data Science,',\n",
       " '\\x0f',\n",
       " 'support of PreSales activities, i.e. presentations, customer events, preparation of o˙ers and',\n",
       " 'cost estimation.',\n",
       " '12/2012 \\x15 09/2015',\n",
       " 'Senior Data Scientist',\n",
       " ',',\n",
       " 'Blue Yonder',\n",
       " ', Karlsruhe, Germany.',\n",
       " 'Predictive analytics and statistical modelling in Big Data projects:',\n",
       " '\\x0f',\n",
       " 'demand forecasts and replenishment for a consumer packaged goods company as project',\n",
       " 'leader. Development of new methods to handle out-of-stock situations,',\n",
       " '\\x0f',\n",
       " 'forecasts of the production costs with respect to the commodity market for a large manu-',\n",
       " 'facturing company as project leader,',\n",
       " '\\x0f',\n",
       " 'optimizations of the algorithms for trade promotion management in an integrated platform',\n",
       " 'for the consumer goods industry,',\n",
       " '\\x0f',\n",
       " 'forecasts of price developments and market trends of raw materials for a large chemical',\n",
       " 'producer,',\n",
       " '\\x0f',\n",
       " 'demand forecasts for a global discount supermarket chain,',\n",
       " '\\x0f',\n",
       " 'participation in the development of the Blue Yonder Forward Demand product,',\n",
       " '\\x0f',\n",
       " 'tutor in the Data Science Academy,',\n",
       " '\\x0f',\n",
       " 'contributions to open-source projects like Scikit-Learn, SciPy, PySca˙old and PyDSE.',\n",
       " '1/3',\n",
       " '']"
      ]
     },
     "execution_count": 6,
     "metadata": {},
     "output_type": "execute_result"
    }
   ],
   "source": [
    "pdfTotext.split(\"\\n\")"
   ]
  },
  {
   "cell_type": "code",
   "execution_count": 7,
   "metadata": {},
   "outputs": [
    {
     "data": {
      "text/html": [
       "<div>\n",
       "<style scoped>\n",
       "    .dataframe tbody tr th:only-of-type {\n",
       "        vertical-align: middle;\n",
       "    }\n",
       "\n",
       "    .dataframe tbody tr th {\n",
       "        vertical-align: top;\n",
       "    }\n",
       "\n",
       "    .dataframe thead th {\n",
       "        text-align: right;\n",
       "    }\n",
       "</style>\n",
       "<table border=\"1\" class=\"dataframe\">\n",
       "  <thead>\n",
       "    <tr style=\"text-align: right;\">\n",
       "      <th></th>\n",
       "      <th>0</th>\n",
       "    </tr>\n",
       "  </thead>\n",
       "  <tbody>\n",
       "    <tr>\n",
       "      <th>0</th>\n",
       "      <td>Florian</td>\n",
       "    </tr>\n",
       "    <tr>\n",
       "      <th>1</th>\n",
       "      <td>Wilhelm</td>\n",
       "    </tr>\n",
       "    <tr>\n",
       "      <th>2</th>\n",
       "      <td>Principal Data Scientist</td>\n",
       "    </tr>\n",
       "    <tr>\n",
       "      <th>3</th>\n",
       "      <td>Cologne, Germany</td>\n",
       "    </tr>\n",
       "    <tr>\n",
       "      <th>4</th>\n",
       "      <td>k</td>\n",
       "    </tr>\n",
       "    <tr>\n",
       "      <th>...</th>\n",
       "      <td>...</td>\n",
       "    </tr>\n",
       "    <tr>\n",
       "      <th>71</th>\n",
       "      <td>tutor in the Data Science Academy,</td>\n",
       "    </tr>\n",
       "    <tr>\n",
       "      <th>72</th>\n",
       "      <td>\u000f</td>\n",
       "    </tr>\n",
       "    <tr>\n",
       "      <th>73</th>\n",
       "      <td>contributions to open-source projects like Sci...</td>\n",
       "    </tr>\n",
       "    <tr>\n",
       "      <th>74</th>\n",
       "      <td>1/3</td>\n",
       "    </tr>\n",
       "    <tr>\n",
       "      <th>75</th>\n",
       "      <td></td>\n",
       "    </tr>\n",
       "  </tbody>\n",
       "</table>\n",
       "<p>76 rows × 1 columns</p>\n",
       "</div>"
      ],
      "text/plain": [
       "                                                    0\n",
       "0                                             Florian\n",
       "1                                             Wilhelm\n",
       "2                            Principal Data Scientist\n",
       "3                                    Cologne, Germany\n",
       "4                                                   k\n",
       "..                                                ...\n",
       "71                 tutor in the Data Science Academy,\n",
       "72                                                  \u000f\n",
       "73  contributions to open-source projects like Sci...\n",
       "74                                                1/3\n",
       "75                                                   \n",
       "\n",
       "[76 rows x 1 columns]"
      ]
     },
     "execution_count": 7,
     "metadata": {},
     "output_type": "execute_result"
    }
   ],
   "source": [
    "# Check the text on a dataframe\n",
    "pd.DataFrame(pdfTotext.split(\"\\n\"))"
   ]
  },
  {
   "cell_type": "code",
   "execution_count": 8,
   "metadata": {},
   "outputs": [],
   "source": [
    "PHONE_REG = re.compile(r'[\\+\\(]?[1-9][0-9 .\\-\\(\\)]{8,}[0-9]')\n",
    "\n",
    "\n",
    "def doc_to_text_catdoc(file_path):\n",
    "    try:\n",
    "        process = subprocess.Popen(  # noqa: S607,S603\n",
    "            ['catdoc', '-w', file_path],\n",
    "            stdout=subprocess.PIPE,\n",
    "            stderr=subprocess.PIPE,\n",
    "            universal_newlines=True,\n",
    "        )\n",
    "    except (\n",
    "        FileNotFoundError,\n",
    "        ValueError,\n",
    "        subprocess.TimeoutExpired,\n",
    "        subprocess.SubprocessError,\n",
    "    ) as err:\n",
    "        return (None, str(err))\n",
    "    else:\n",
    "        stdout, stderr = process.communicate()\n",
    "\n",
    "    return (stdout.strip(), stderr.strip())\n",
    "\n",
    "\n",
    "def extract_phone_number(resume_text):\n",
    "    phone = re.findall(PHONE_REG, resume_text)\n",
    "\n",
    "    if phone:\n",
    "        number = ''.join(phone[0])\n",
    "\n",
    "        if resume_text.find(number) >= 0 and len(number) < 16:\n",
    "            return number\n",
    "    return None\n",
    "\n"
   ]
  },
  {
   "cell_type": "code",
   "execution_count": null,
   "metadata": {},
   "outputs": [],
   "source": [
    "df=pd.DataFrame()"
   ]
  },
  {
   "cell_type": "code",
   "execution_count": null,
   "metadata": {},
   "outputs": [],
   "source": [
    "process = subprocess.Popen(  # noqa: S607,S603\n",
    "            ['textutil', '-convert', 'txt', '-stdout', \"/Users/imene/Desktop/testcv/ME.docx\"],\n",
    "            stdout=subprocess.PIPE,\n",
    "            stderr=subprocess.PIPE,\n",
    "            universal_newlines=True,\n",
    ")"
   ]
  },
  {
   "cell_type": "code",
   "execution_count": null,
   "metadata": {},
   "outputs": [],
   "source": [
    "doc2textOut = process.communicate()"
   ]
  },
  {
   "cell_type": "code",
   "execution_count": null,
   "metadata": {},
   "outputs": [],
   "source": [
    "process.terminate()"
   ]
  },
  {
   "cell_type": "code",
   "execution_count": null,
   "metadata": {},
   "outputs": [],
   "source": [
    "doc2textOut[0].split(\"\\n\")"
   ]
  },
  {
   "cell_type": "code",
   "execution_count": null,
   "metadata": {},
   "outputs": [],
   "source": []
  },
  {
   "cell_type": "code",
   "execution_count": null,
   "metadata": {},
   "outputs": [],
   "source": [
    "#2nd version"
   ]
  },
  {
   "cell_type": "code",
   "execution_count": null,
   "metadata": {},
   "outputs": [],
   "source": [
    "import docx2txt\n"
   ]
  },
  {
   "cell_type": "code",
   "execution_count": null,
   "metadata": {},
   "outputs": [],
   "source": [
    "print(extract_text_from_docx('///Users/imene/Desktop/testcv/ME.docx'))  "
   ]
  },
  {
   "cell_type": "code",
   "execution_count": 9,
   "metadata": {},
   "outputs": [],
   "source": [
    "\n",
    "# doc to text function\n",
    "\n",
    "def doc_to_text_catdoc(file_path):\n",
    "    try:\n",
    "        process = subprocess.Popen(  # noqa: S607,S603\n",
    "            ['textutil', '-convert', 'txt', '-stdout', file_path],\n",
    "            stdout=subprocess.PIPE,\n",
    "            stderr=subprocess.PIPE,\n",
    "            universal_newlines=True,\n",
    "        )\n",
    "    except (\n",
    "        FileNotFoundError,\n",
    "        ValueError,\n",
    "        subprocess.TimeoutExpired,\n",
    "        subprocess.SubprocessError,\n",
    "    ) as err:\n",
    "        return (None, str(err))\n",
    "    else:\n",
    "        stdout, stderr = process.communicate()\n",
    "\n",
    "    return (stdout.strip(), stderr.strip())\n",
    "\n",
    "\n"
   ]
  },
  {
   "cell_type": "code",
   "execution_count": 11,
   "metadata": {},
   "outputs": [
    {
     "name": "stdout",
     "output_type": "stream",
     "text": [
      "+1 (970) 333-3833  \n",
      "matthew.eliot@mail.com \n",
      "https://linkedin.com/mattheweliot\n",
      "+1 (970) 333-3833  \n",
      "matthew.eliot@mail.com \n",
      "https://linkedin.com/mattheweliot\n",
      "Hocine Bouarab\n",
      "Hocine Bouarab\n",
      "Summary\n",
      "Senior Web Developer specializing in front end development. Experienced with all stages of the development cycle for dynamic web projects. Well-versed in numerous programming languages including HTML5, PHP OOP, JavaScript, CSS, MySQL. Strong background in project management and customer relations.\n",
      "Skill Highlights\n",
      "\t•\tProject management\n",
      "\t•\tStrong decision maker\n",
      "\t•\tComplex problem solver\n",
      "\t•\tCreative design\n",
      "\t•\tInnovative\n",
      "\t•\tService-focused\n",
      "Experience\n",
      "Web Developer - 09/2015 to 05/2019\n",
      "Luna Web Design, New York\n",
      "\t•\tCooperate with designers to create clean interfaces and simple, intuitive interactions and experiences.\n",
      "\t•\tDevelop project concepts and maintain optimal workflow.\n",
      "\t•\tWork with senior developer to manage large, complex design projects for corporate clients.\n",
      "\t•\tComplete detailed programming and development tasks for front end public and internal websites as well as challenging back-end server code.\n",
      "\t•\tCarry out quality assurance tests to discover errors and optimize usability.\n",
      "Education\n",
      "Bachelor of Science: Computer Information Systems - 2014\n",
      "Columbia University, NY\n",
      "Certifications\n",
      "PHP Framework (certificate): Zend, Codeigniter, Symfony.\n",
      "Programming Languages: JavaScript, HTML5, PHP, CSS, SQL, MySQL.\n",
      "\n",
      "Summary\n",
      "Senior Web Developer specializing in front end development. Experienced with all stages of the development cycle for dynamic web projects. Well-versed in numerous programming languages including HTML5, PHP OOP, JavaScript, CSS, MySQL. Strong background in project management and customer relations.\n",
      "Skill Highlights\n",
      "\t•\tProject management\n",
      "\t•\tStrong decision maker\n",
      "\t•\tComplex problem solver\n",
      "\t•\tCreative design\n",
      "\t•\tInnovative\n",
      "\t•\tService-focused\n",
      "Experience\n",
      "Web Developer - 09/2015 to 05/2019\n",
      "Luna Web Design, New York\n",
      "\t•\tCooperate with designers to create clean interfaces and simple, intuitive interactions and experiences.\n",
      "\t•\tDevelop project concepts and maintain optimal workflow.\n",
      "\t•\tWork with senior developer to manage large, complex design projects for corporate clients.\n",
      "\t•\tComplete detailed programming and development tasks for front end public and internal websites as well as challenging back-end server code.\n",
      "\t•\tCarry out quality assurance tests to discover errors and optimize usability.\n",
      "Education\n",
      "Bachelor of Science: Computer Information Systems - 2014\n",
      "Columbia University, NY\n",
      "Certifications\n",
      "PHP Framework (certificate): Zend, Codeigniter, Symfony.\n",
      "Programming Languages: JavaScript, HTML5, PHP, CSS, SQL, MySQL.\n"
     ]
    }
   ],
   "source": [
    "text, err = doc_to_text_catdoc('///Users/hocine/Documents/Imene/github_code/cv_pars/ME.docx')\n",
    "\n",
    "if err:\n",
    "    print(err)  # noqa: T001\n",
    "    exit\n",
    "\n",
    "print(text)  # noqa: T001"
   ]
  },
  {
   "cell_type": "code",
   "execution_count": 12,
   "metadata": {},
   "outputs": [
    {
     "name": "stderr",
     "output_type": "stream",
     "text": [
      "[nltk_data] Downloading package punkt to /Users/hocine/nltk_data...\n",
      "[nltk_data]   Package punkt is already up-to-date!\n",
      "[nltk_data] Downloading package averaged_perceptron_tagger to\n",
      "[nltk_data]     /Users/hocine/nltk_data...\n",
      "[nltk_data]   Package averaged_perceptron_tagger is already up-to-\n",
      "[nltk_data]       date!\n",
      "[nltk_data] Downloading package maxent_ne_chunker to\n",
      "[nltk_data]     /Users/hocine/nltk_data...\n",
      "[nltk_data]   Package maxent_ne_chunker is already up-to-date!\n",
      "[nltk_data] Downloading package words to /Users/hocine/nltk_data...\n",
      "[nltk_data]   Package words is already up-to-date!\n"
     ]
    },
    {
     "data": {
      "text/plain": [
       "True"
      ]
     },
     "execution_count": 12,
     "metadata": {},
     "output_type": "execute_result"
    }
   ],
   "source": [
    "nltk.download('punkt')\n",
    "nltk.download('averaged_perceptron_tagger')\n",
    "nltk.download('maxent_ne_chunker')\n",
    "nltk.download('words')\n"
   ]
  },
  {
   "cell_type": "code",
   "execution_count": 13,
   "metadata": {},
   "outputs": [],
   "source": [
    "#Putting a docx in .txt\n",
    "def extract_text_from_docx(docx_path):\n",
    "    txt = docx2txt.process(docx_path)\n",
    "    if txt:\n",
    "        return txt.replace('\\t', ' ')\n",
    "    return None\n",
    "\n",
    "\n",
    "\n"
   ]
  },
  {
   "cell_type": "code",
   "execution_count": 14,
   "metadata": {},
   "outputs": [],
   "source": [
    "def extract_names(txt):\n",
    "    person_names = []\n",
    "\n",
    "    for sent in nltk.sent_tokenize(txt):\n",
    "        for chunk in nltk.ne_chunk(nltk.pos_tag(nltk.word_tokenize(sent))):\n",
    "            if hasattr(chunk, 'label') and chunk.label() == 'PERSON':\n",
    "                person_names.append(\n",
    "                    ' '.join(chunk_leave[0] for chunk_leave in chunk.leaves())\n",
    "                )\n",
    "\n",
    "    return person_names"
   ]
  },
  {
   "cell_type": "code",
   "execution_count": 16,
   "metadata": {},
   "outputs": [],
   "source": [
    "text = extract_text_from_docx('///Users/hocine/Documents/Imene/github_code/cv_pars/ME.docx')\n"
   ]
  },
  {
   "cell_type": "code",
   "execution_count": 19,
   "metadata": {},
   "outputs": [
    {
     "name": "stdout",
     "output_type": "stream",
     "text": [
      "Hocine Bouarab Hocine Bouarab Summary Senior Web Developer\n"
     ]
    }
   ],
   "source": [
    "#Function to extract names\n",
    "names = extract_names(text)\n",
    "\n",
    "if names:\n",
    "    print(names[0]) "
   ]
  },
  {
   "cell_type": "code",
   "execution_count": 18,
   "metadata": {},
   "outputs": [
    {
     "data": {
      "text/plain": [
       "'+1 (970) 333-3833  \\n\\nmatthew.eliot@mail.com \\n\\nhttps://linkedin.com/mattheweliot\\n\\n+1 (970) 333-3833  \\n\\nmatthew.eliot@mail.com \\n\\nhttps://linkedin.com/mattheweliot\\n\\nHocine Bouarab\\n\\nHocine Bouarab\\n\\nSummary\\n\\nSenior Web Developer specializing in front end development. Experienced with all stages of the development cycle for dynamic web projects. Well-versed in numerous programming languages including HTML5, PHP OOP, JavaScript, CSS, MySQL. Strong background in project management and customer relations.\\n\\nSkill Highlights\\n\\nProject management\\n\\nStrong decision maker\\n\\nComplex problem solver\\n\\nCreative design\\n\\nInnovative\\n\\nService-focused\\n\\nExperience\\n\\nWeb Developer - 09/2015 to 05/2019\\n\\nLuna Web Design, New York\\n\\nCooperate with designers to create clean interfaces and simple, intuitive interactions and experiences.\\n\\nDevelop project concepts and maintain optimal workflow.\\n\\nWork with senior developer to manage large, complex design projects for corporate clients.\\n\\nComplete detailed programming and development tasks for front end public and internal websites as well as challenging back-end server code.\\n\\nCarry out quality assurance tests to discover errors and optimize usability.\\n\\nEducation\\n\\nBachelor of Science: Computer Information Systems - 2014\\n\\nColumbia University, NY\\n\\nCertifications\\n\\nPHP Framework (certificate): Zend, Codeigniter, Symfony.\\n\\nProgramming Languages: JavaScript, HTML5, PHP, CSS, SQL, MySQL.\\n\\n\\n\\nSummary\\n\\nSenior Web Developer specializing in front end development. Experienced with all stages of the development cycle for dynamic web projects. Well-versed in numerous programming languages including HTML5, PHP OOP, JavaScript, CSS, MySQL. Strong background in project management and customer relations.\\n\\nSkill Highlights\\n\\nProject management\\n\\nStrong decision maker\\n\\nComplex problem solver\\n\\nCreative design\\n\\nInnovative\\n\\nService-focused\\n\\nExperience\\n\\nWeb Developer - 09/2015 to 05/2019\\n\\nLuna Web Design, New York\\n\\nCooperate with designers to create clean interfaces and simple, intuitive interactions and experiences.\\n\\nDevelop project concepts and maintain optimal workflow.\\n\\nWork with senior developer to manage large, complex design projects for corporate clients.\\n\\nComplete detailed programming and development tasks for front end public and internal websites as well as challenging back-end server code.\\n\\nCarry out quality assurance tests to discover errors and optimize usability.\\n\\nEducation\\n\\nBachelor of Science: Computer Information Systems - 2014\\n\\nColumbia University, NY\\n\\nCertifications\\n\\nPHP Framework (certificate): Zend, Codeigniter, Symfony.\\n\\nProgramming Languages: JavaScript, HTML5, PHP, CSS, SQL, MySQL.'"
      ]
     },
     "execution_count": 18,
     "metadata": {},
     "output_type": "execute_result"
    }
   ],
   "source": [
    "text"
   ]
  },
  {
   "cell_type": "code",
   "execution_count": null,
   "metadata": {},
   "outputs": [],
   "source": []
  },
  {
   "cell_type": "code",
   "execution_count": null,
   "metadata": {},
   "outputs": [],
   "source": [
    "# 3rd version"
   ]
  },
  {
   "cell_type": "code",
   "execution_count": 20,
   "metadata": {},
   "outputs": [],
   "source": [
    "from pdfminer.converter import TextConverter\n",
    "from pdfminer.pdfinterp import PDFPageInterpreter\n",
    "from pdfminer.pdfinterp import PDFResourceManager\n",
    "from pdfminer.layout import LAParams\n",
    "from pdfminer.pdfpage import PDFPage\n",
    "\n",
    "def extract_text_from_pdf(pdf_path):\n",
    "    with open(pdf_path, 'rb') as fh:\n",
    "        # iterate over all pages of PDF document\n",
    "        for page in PDFPage.get_pages(fh, caching=True, check_extractable=True):\n",
    "            # creating a resoure manager\n",
    "            resource_manager = PDFResourceManager()\n",
    "            \n",
    "            # create a file handle\n",
    "            fake_file_handle = io.StringIO()\n",
    "            \n",
    "            # creating a text converter object\n",
    "            converter = TextConverter(\n",
    "                                resource_manager, \n",
    "                                fake_file_handle, \n",
    "                                codec='utf-8', \n",
    "                                laparams=LAParams()\n",
    "                        )\n",
    "\n",
    "            # creating a page interpreter\n",
    "            page_interpreter = PDFPageInterpreter(\n",
    "                                resource_manager, \n",
    "                                converter\n",
    "                            )\n",
    "\n",
    "            # process current page\n",
    "            page_interpreter.process_page(page)\n",
    "            \n",
    "            # extract text\n",
    "            text = fake_file_handle.getvalue()\n",
    "            yield text\n",
    "\n",
    "            # close open handles\n",
    "            converter.close()\n",
    "            fake_file_handle.close()\n",
    "\n"
   ]
  },
  {
   "cell_type": "code",
   "execution_count": 22,
   "metadata": {},
   "outputs": [],
   "source": [
    "pdf_path='///Users/hocine/Documents/Imene/github_code/cv_pars/Resume-4.pdf'\n",
    "textout=extract_text_from_pdf(pdf_path)"
   ]
  },
  {
   "cell_type": "code",
   "execution_count": 24,
   "metadata": {},
   "outputs": [],
   "source": [
    "text = extract_text_from_docx('///Users/hocine/Documents/Imene/github_code/cv_pars/resume_006.docx')\n",
    "\n"
   ]
  },
  {
   "cell_type": "code",
   "execution_count": null,
   "metadata": {},
   "outputs": [],
   "source": [
    "text"
   ]
  },
  {
   "cell_type": "code",
   "execution_count": 25,
   "metadata": {},
   "outputs": [],
   "source": [
    "from pdfminer.converter import TextConverter\n",
    "from pdfminer.pdfinterp import PDFPageInterpreter\n",
    "from pdfminer.pdfinterp import PDFResourceManager\n",
    "from pdfminer.layout import LAParams\n",
    "from pdfminer.pdfpage import PDFPage"
   ]
  },
  {
   "cell_type": "code",
   "execution_count": 26,
   "metadata": {},
   "outputs": [],
   "source": [
    "import spacy\n",
    "from spacy.matcher import Matcher\n",
    "\n",
    "# load pre-trained model\n",
    "nlp = spacy.load('en_core_web_sm')\n",
    "\n",
    "# initialize matcher with a vocab\n",
    "matcher = Matcher(nlp.vocab)\n",
    "\n"
   ]
  },
  {
   "cell_type": "code",
   "execution_count": 27,
   "metadata": {},
   "outputs": [],
   "source": [
    "def extract_name(resume_text):\n",
    "    nlp_text = nlp(resume_text)\n",
    "    \n",
    "    # First name and Last name are always Proper Nouns\n",
    "    pattern = [{'POS': 'PROPN'}, {'POS': 'PROPN'}]\n",
    "\n",
    "    matcher.add(key=\"NAME\", on_match=None, patterns=[pattern])\n",
    "    \n",
    "    matches = matcher(nlp_text)\n",
    "    \n",
    "    for match_id, start, end in matches:\n",
    "        span = nlp_text[start:end]\n",
    "        return span.text\n",
    "\n"
   ]
  },
  {
   "cell_type": "code",
   "execution_count": 28,
   "metadata": {},
   "outputs": [],
   "source": [
    "#extract_name('///Users/imene/Desktop/Resume-4.pdf')\n",
    "pattern = [{'POS': 'PROPN'}, {'POS': 'PROPN'}]\n",
    "matcher.add(key=\"NAME\", on_match=None, patterns=[pattern])"
   ]
  },
  {
   "cell_type": "code",
   "execution_count": 29,
   "metadata": {},
   "outputs": [],
   "source": [
    "matches = matcher(nlp(text))"
   ]
  },
  {
   "cell_type": "code",
   "execution_count": 30,
   "metadata": {},
   "outputs": [
    {
     "data": {
      "text/plain": [
       "[(424143666773229379, 33, 35),\n",
       " (424143666773229379, 73, 75),\n",
       " (424143666773229379, 134, 136),\n",
       " (424143666773229379, 151, 153),\n",
       " (424143666773229379, 152, 154),\n",
       " (424143666773229379, 230, 232),\n",
       " (424143666773229379, 270, 272),\n",
       " (424143666773229379, 331, 333),\n",
       " (424143666773229379, 348, 350),\n",
       " (424143666773229379, 349, 351),\n",
       " (424143666773229379, 405, 407),\n",
       " (424143666773229379, 472, 474),\n",
       " (424143666773229379, 495, 497),\n",
       " (424143666773229379, 496, 498),\n",
       " (424143666773229379, 549, 551),\n",
       " (424143666773229379, 572, 574),\n",
       " (424143666773229379, 576, 578),\n",
       " (424143666773229379, 585, 587),\n",
       " (424143666773229379, 663, 665),\n",
       " (424143666773229379, 730, 732),\n",
       " (424143666773229379, 753, 755),\n",
       " (424143666773229379, 754, 756),\n",
       " (424143666773229379, 807, 809),\n",
       " (424143666773229379, 830, 832),\n",
       " (424143666773229379, 834, 836),\n",
       " (424143666773229379, 843, 845),\n",
       " (424143666773229379, 910, 912),\n",
       " (424143666773229379, 911, 913),\n",
       " (424143666773229379, 928, 930),\n",
       " (424143666773229379, 937, 939),\n",
       " (424143666773229379, 938, 940),\n",
       " (424143666773229379, 955, 957)]"
      ]
     },
     "execution_count": 30,
     "metadata": {},
     "output_type": "execute_result"
    }
   ],
   "source": [
    "matches"
   ]
  },
  {
   "cell_type": "code",
   "execution_count": 31,
   "metadata": {},
   "outputs": [
    {
     "data": {
      "text/plain": [
       "'Programming Languages'"
      ]
     },
     "execution_count": 31,
     "metadata": {},
     "output_type": "execute_result"
    }
   ],
   "source": [
    "extract_name(text)"
   ]
  },
  {
   "cell_type": "code",
   "execution_count": 33,
   "metadata": {},
   "outputs": [],
   "source": [
    "text = extract_text_from_docx('///Users/hocine/Documents/Imene/github_code/cv_pars/resume_006.docx')\n",
    "\n"
   ]
  },
  {
   "cell_type": "code",
   "execution_count": 34,
   "metadata": {},
   "outputs": [],
   "source": [
    "import re\n",
    "\n",
    "\n",
    "def extract_mobile_number(text):\n",
    "    phone = re.findall(re.compile(r'(?:(?:\\+?([1-9]|[0-9][0-9]|[0-9][0-9][0-9])\\s*(?:[.-]\\s*)?)?(?:\\(\\s*([2-9]1[02-9]|[2-9][02-8]1|[2-9][02-8][02-9])\\s*\\)|([0-9][1-9]|[0-9]1[02-9]|[2-9][02-8]1|[2-9][02-8][02-9]))\\s*(?:[.-]\\s*)?)?([2-9]1[02-9]|[2-9][02-9]1|[2-9][02-9]{2})\\s*(?:[.-]\\s*)?([0-9]{4})(?:\\s*(?:#|x\\.?|ext\\.?|extension)\\s*(\\d+))?'), text)\n",
    "    \n",
    "    if phone:\n",
    "        number = ''.join(phone[0])\n",
    "        if len(number) > 10:\n",
    "            return '+' + number\n",
    "        else:\n",
    "            return number"
   ]
  },
  {
   "cell_type": "code",
   "execution_count": 35,
   "metadata": {},
   "outputs": [
    {
     "data": {
      "text/plain": [
       "'3133078'"
      ]
     },
     "execution_count": 35,
     "metadata": {},
     "output_type": "execute_result"
    }
   ],
   "source": [
    "extract_mobile_number(text)"
   ]
  },
  {
   "cell_type": "code",
   "execution_count": null,
   "metadata": {},
   "outputs": [],
   "source": []
  },
  {
   "cell_type": "markdown",
   "metadata": {},
   "source": [
    "# Test with Regex"
   ]
  },
  {
   "cell_type": "code",
   "execution_count": 36,
   "metadata": {},
   "outputs": [],
   "source": [
    "import docx2txt\n",
    "\n"
   ]
  },
  {
   "cell_type": "code",
   "execution_count": 37,
   "metadata": {},
   "outputs": [],
   "source": [
    "def extract_text_from_docx(docx_path):\n",
    "    txt = docx2txt.process(docx_path)\n",
    "    if txt:\n",
    "        return txt.replace('\\t', ' ')\n",
    "    return None"
   ]
  },
  {
   "cell_type": "code",
   "execution_count": 39,
   "metadata": {},
   "outputs": [],
   "source": [
    "doc2tx=extract_text_from_docx('///Users/hocine/Documents/Imene/github_code/cv_pars/JG.docx')"
   ]
  },
  {
   "cell_type": "code",
   "execution_count": 40,
   "metadata": {
    "scrolled": true
   },
   "outputs": [
    {
     "data": {
      "text/plain": [
       "'JOHN GUY\\n\\n344 ELM STREET MADISON, SD 57042\\n\\n+1 (970) 333-3833 # John.guy@Mail.com # linkedin.com/JOHNGUY\\n\\n\\n\\nSummary \\n\\nSoftware Engineer with experience in all levels of testing, including performance, functional, integration, system, regression, and user acceptance testing. Supportive and enthusiastic team player dedicated to streamlining processes and efficiently resolving project issues.\\n\\nSkill Highlights\\n\\nAgile/Scrum methodology\\n\\nPerformance and scalability\\n\\nOptimization\\n\\nAPI design\\n\\nExperience\\n\\n Software Engineer - 09/2015 to 05/2019\\n\\n Luna Software, New York\\n\\n Investigation, design, and implement scalable applications for data identification, analysis, retrieval, and indexing.\\n\\n Software design and development while remaining concentrate on client needs.\\n\\n Cooperate diligently with other IT team members to plan, design, and develop smart solutions.\\n\\n Estimate interface between hardware and software.\\n\\n Interface with business analysts, developers, and technical support to determine optimal specifications.\\n\\n \\n\\n Junior Software Engineer - 09/2014 to 09/2015\\n\\n AdsPro Software, New York\\n\\n Consulted regularly with customers on project status, proposals and technical issues.\\n\\n Transformed existing software to correct errors, upgrade interfaces, and improve efficiency.\\n\\n Cooperate diligently with other IT team members to plan, design, and develop smart solutions.\\n\\n \\n\\n \\n\\nEducation\\n\\nBachelor of Science: Software Engineering - 2014\\n\\nColumbia University, NY\\n\\n\\n\\n\\n\\nProgramming Languages: Python, R, CSS, SQL.'"
      ]
     },
     "execution_count": 40,
     "metadata": {},
     "output_type": "execute_result"
    }
   ],
   "source": [
    "doc2tx"
   ]
  },
  {
   "cell_type": "code",
   "execution_count": 41,
   "metadata": {},
   "outputs": [],
   "source": [
    "doc2txspli=doc2tx.split(\"\\n\")"
   ]
  },
  {
   "cell_type": "code",
   "execution_count": 42,
   "metadata": {},
   "outputs": [
    {
     "data": {
      "text/plain": [
       "['JOHN GUY',\n",
       " '',\n",
       " '344 ELM STREET MADISON, SD 57042',\n",
       " '',\n",
       " '+1 (970) 333-3833 # John.guy@Mail.com # linkedin.com/JOHNGUY',\n",
       " '',\n",
       " '',\n",
       " '',\n",
       " 'Summary ',\n",
       " '',\n",
       " 'Software Engineer with experience in all levels of testing, including performance, functional, integration, system, regression, and user acceptance testing. Supportive and enthusiastic team player dedicated to streamlining processes and efficiently resolving project issues.',\n",
       " '',\n",
       " 'Skill Highlights',\n",
       " '',\n",
       " 'Agile/Scrum methodology',\n",
       " '',\n",
       " 'Performance and scalability',\n",
       " '',\n",
       " 'Optimization',\n",
       " '',\n",
       " 'API design',\n",
       " '',\n",
       " 'Experience',\n",
       " '',\n",
       " ' Software Engineer - 09/2015 to 05/2019',\n",
       " '',\n",
       " ' Luna Software, New York',\n",
       " '',\n",
       " ' Investigation, design, and implement scalable applications for data identification, analysis, retrieval, and indexing.',\n",
       " '',\n",
       " ' Software design and development while remaining concentrate on client needs.',\n",
       " '',\n",
       " ' Cooperate diligently with other IT team members to plan, design, and develop smart solutions.',\n",
       " '',\n",
       " ' Estimate interface between hardware and software.',\n",
       " '',\n",
       " ' Interface with business analysts, developers, and technical support to determine optimal specifications.',\n",
       " '',\n",
       " ' ',\n",
       " '',\n",
       " ' Junior Software Engineer - 09/2014 to 09/2015',\n",
       " '',\n",
       " ' AdsPro Software, New York',\n",
       " '',\n",
       " ' Consulted regularly with customers on project status, proposals and technical issues.',\n",
       " '',\n",
       " ' Transformed existing software to correct errors, upgrade interfaces, and improve efficiency.',\n",
       " '',\n",
       " ' Cooperate diligently with other IT team members to plan, design, and develop smart solutions.',\n",
       " '',\n",
       " ' ',\n",
       " '',\n",
       " ' ',\n",
       " '',\n",
       " 'Education',\n",
       " '',\n",
       " 'Bachelor of Science: Software Engineering - 2014',\n",
       " '',\n",
       " 'Columbia University, NY',\n",
       " '',\n",
       " '',\n",
       " '',\n",
       " '',\n",
       " '',\n",
       " 'Programming Languages: Python, R, CSS, SQL.']"
      ]
     },
     "execution_count": 42,
     "metadata": {},
     "output_type": "execute_result"
    }
   ],
   "source": [
    "doc2txspli"
   ]
  },
  {
   "cell_type": "code",
   "execution_count": 45,
   "metadata": {},
   "outputs": [],
   "source": [
    "import textract\n",
    "cvdoc = textract.process(\"///Users/hocine/Documents/Imene/github_code/cv_pars/JG.docx\")\n"
   ]
  },
  {
   "cell_type": "code",
   "execution_count": 46,
   "metadata": {},
   "outputs": [],
   "source": [
    "#to convert html (a byte-like object) into a string \n",
    "cvdocx = cvdoc.decode('utf-8')"
   ]
  },
  {
   "cell_type": "code",
   "execution_count": 47,
   "metadata": {},
   "outputs": [
    {
     "data": {
      "text/plain": [
       "'JOHN GUY\\n\\n344 ELM STREET MADISON, SD 57042\\n\\n+1 (970) 333-3833 # John.guy@Mail.com # linkedin.com/JOHNGUY\\n\\n\\n\\nSummary\\t\\n\\nSoftware Engineer with experience in all levels of testing, including performance, functional, integration, system, regression, and user acceptance testing. Supportive and enthusiastic team player dedicated to streamlining processes and efficiently resolving project issues.\\n\\nSkill Highlights\\n\\nAgile/Scrum methodology\\n\\nPerformance and scalability\\n\\nOptimization\\n\\nAPI design\\n\\nExperience\\n\\n\\tSoftware Engineer - 09/2015 to 05/2019\\n\\n\\tLuna Software, New York\\n\\n\\tInvestigation, design, and implement scalable applications for data identification, analysis, retrieval, and indexing.\\n\\n\\tSoftware design and development while remaining concentrate on client needs.\\n\\n\\tCooperate diligently with other IT team members to plan, design, and develop smart solutions.\\n\\n\\tEstimate interface between hardware and software.\\n\\n\\tInterface with business analysts, developers, and technical support to determine optimal specifications.\\n\\n\\t\\n\\n\\tJunior Software Engineer - 09/2014 to 09/2015\\n\\n\\tAdsPro Software, New York\\n\\n\\tConsulted regularly with customers on project status, proposals and technical issues.\\n\\n\\tTransformed existing software to correct errors, upgrade interfaces, and improve efficiency.\\n\\n\\tCooperate diligently with other IT team members to plan, design, and develop smart solutions.\\n\\n\\t\\n\\n\\t\\n\\nEducation\\n\\nBachelor of Science: Software Engineering - 2014\\n\\nColumbia University, NY\\n\\n\\n\\n\\n\\nProgramming Languages: Python, R, CSS, SQL.'"
      ]
     },
     "execution_count": 47,
     "metadata": {},
     "output_type": "execute_result"
    }
   ],
   "source": [
    "cvdocx"
   ]
  },
  {
   "cell_type": "code",
   "execution_count": 48,
   "metadata": {},
   "outputs": [],
   "source": [
    "cvdocxv=cvdocx.split(\"\\n\")"
   ]
  },
  {
   "cell_type": "code",
   "execution_count": 49,
   "metadata": {},
   "outputs": [
    {
     "name": "stdout",
     "output_type": "stream",
     "text": [
      "<class 'list'>\n"
     ]
    }
   ],
   "source": [
    "print(type(cvdocxv))"
   ]
  },
  {
   "cell_type": "code",
   "execution_count": 50,
   "metadata": {},
   "outputs": [
    {
     "data": {
      "text/plain": [
       "['JOHN GUY',\n",
       " '',\n",
       " '344 ELM STREET MADISON, SD 57042',\n",
       " '',\n",
       " '+1 (970) 333-3833 # John.guy@Mail.com # linkedin.com/JOHNGUY',\n",
       " '',\n",
       " '',\n",
       " '',\n",
       " 'Summary\\t',\n",
       " '',\n",
       " 'Software Engineer with experience in all levels of testing, including performance, functional, integration, system, regression, and user acceptance testing. Supportive and enthusiastic team player dedicated to streamlining processes and efficiently resolving project issues.',\n",
       " '',\n",
       " 'Skill Highlights',\n",
       " '',\n",
       " 'Agile/Scrum methodology',\n",
       " '',\n",
       " 'Performance and scalability',\n",
       " '',\n",
       " 'Optimization',\n",
       " '',\n",
       " 'API design',\n",
       " '',\n",
       " 'Experience',\n",
       " '',\n",
       " '\\tSoftware Engineer - 09/2015 to 05/2019',\n",
       " '',\n",
       " '\\tLuna Software, New York',\n",
       " '',\n",
       " '\\tInvestigation, design, and implement scalable applications for data identification, analysis, retrieval, and indexing.',\n",
       " '',\n",
       " '\\tSoftware design and development while remaining concentrate on client needs.',\n",
       " '',\n",
       " '\\tCooperate diligently with other IT team members to plan, design, and develop smart solutions.',\n",
       " '',\n",
       " '\\tEstimate interface between hardware and software.',\n",
       " '',\n",
       " '\\tInterface with business analysts, developers, and technical support to determine optimal specifications.',\n",
       " '',\n",
       " '\\t',\n",
       " '',\n",
       " '\\tJunior Software Engineer - 09/2014 to 09/2015',\n",
       " '',\n",
       " '\\tAdsPro Software, New York',\n",
       " '',\n",
       " '\\tConsulted regularly with customers on project status, proposals and technical issues.',\n",
       " '',\n",
       " '\\tTransformed existing software to correct errors, upgrade interfaces, and improve efficiency.',\n",
       " '',\n",
       " '\\tCooperate diligently with other IT team members to plan, design, and develop smart solutions.',\n",
       " '',\n",
       " '\\t',\n",
       " '',\n",
       " '\\t',\n",
       " '',\n",
       " 'Education',\n",
       " '',\n",
       " 'Bachelor of Science: Software Engineering - 2014',\n",
       " '',\n",
       " 'Columbia University, NY',\n",
       " '',\n",
       " '',\n",
       " '',\n",
       " '',\n",
       " '',\n",
       " 'Programming Languages: Python, R, CSS, SQL.']"
      ]
     },
     "execution_count": 50,
     "metadata": {},
     "output_type": "execute_result"
    }
   ],
   "source": [
    "cvdocxv"
   ]
  },
  {
   "cell_type": "markdown",
   "metadata": {},
   "source": [
    "# email"
   ]
  },
  {
   "cell_type": "code",
   "execution_count": 52,
   "metadata": {},
   "outputs": [
    {
     "data": {
      "text/plain": [
       "['Skills',\n",
       " '',\n",
       " 'I developed a toolbox in Python that help me in:',\n",
       " '',\n",
       " 'Parsing résumés. ',\n",
       " '',\n",
       " 'Recognizing similar domains and experiences.',\n",
       " '',\n",
       " 'Advanced candidate sourcing. ',\n",
       " '',\n",
       " 'Strong knowledge in Programming Languages:  ',\n",
       " '',\n",
       " 'Python, C++, MATLAB, SAS, SQL …',\n",
       " '',\n",
       " 'Strong knowledge in Financial market.',\n",
       " '',\n",
       " ' Mathematic modeling skills: Linear programming, ',\n",
       " '',\n",
       " 'Stochastic process, Machin learning…',\n",
       " '',\n",
       " 'Strong knowledge in MS Office and similar platforms.',\n",
       " '',\n",
       " 'Highly developed organization, project management',\n",
       " '',\n",
       " ' and presentation skills.',\n",
       " '',\n",
       " 'Effective communication skills in three languages: ',\n",
       " '',\n",
       " 'English, French, Arabic.',\n",
       " '',\n",
       " 'Interest',\n",
       " '',\n",
       " 'Data science models to maximize ',\n",
       " '',\n",
       " 'sourcing process through several strategies.',\n",
       " '',\n",
       " 'Automation phases of sourcing process.',\n",
       " '',\n",
       " 'Education & Certificate',\n",
       " '',\n",
       " 'Universite du Quebec a Montreal, Montreal, Canada, Master degree in mathematics option statistics.',\n",
       " '',\n",
       " 'Universite de Lorraine, France, Master 2, applied probability and statistics in Finance and Economics.',\n",
       " '',\n",
       " 'University of Science & Tech (USTHB), Algeria, Engineering degree in operational research.',\n",
       " '',\n",
       " 'Language',\n",
       " '',\n",
       " 'English, French, Arabic.',\n",
       " '',\n",
       " '',\n",
       " '',\n",
       " 'Skills',\n",
       " '',\n",
       " 'I developed a toolbox in Python that help me in:',\n",
       " '',\n",
       " 'Parsing résumés. ',\n",
       " '',\n",
       " 'Recognizing similar domains and experiences.',\n",
       " '',\n",
       " 'Advanced candidate sourcing. ',\n",
       " '',\n",
       " 'Strong knowledge in Programming Languages:  ',\n",
       " '',\n",
       " 'Python, C++, MATLAB, SAS, SQL …',\n",
       " '',\n",
       " 'Strong knowledge in Financial market.',\n",
       " '',\n",
       " ' Mathematic modeling skills: Linear programming, ',\n",
       " '',\n",
       " 'Stochastic process, Machin learning…',\n",
       " '',\n",
       " 'Strong knowledge in MS Office and similar platforms.',\n",
       " '',\n",
       " 'Highly developed organization, project management',\n",
       " '',\n",
       " ' and presentation skills.',\n",
       " '',\n",
       " 'Effective communication skills in three languages: ',\n",
       " '',\n",
       " 'English, French, Arabic.',\n",
       " '',\n",
       " 'Interest',\n",
       " '',\n",
       " 'Data science models to maximize ',\n",
       " '',\n",
       " 'sourcing process through several strategies.',\n",
       " '',\n",
       " 'Automation phases of sourcing process.',\n",
       " '',\n",
       " 'Education & Certificate',\n",
       " '',\n",
       " 'Universite du Quebec a Montreal, Montreal, Canada, Master degree in mathematics option statistics.',\n",
       " '',\n",
       " 'Universite de Lorraine, France, Master 2, applied probability and statistics in Finance and Economics.',\n",
       " '',\n",
       " 'University of Science & Tech (USTHB), Algeria, Engineering degree in operational research.',\n",
       " '',\n",
       " 'Language',\n",
       " '',\n",
       " 'English, French, Arabic.',\n",
       " '',\n",
       " '',\n",
       " '',\n",
       " '',\n",
       " '',\n",
       " '',\n",
       " '',\n",
       " '',\n",
       " '',\n",
       " 'Experience',\n",
       " '',\n",
       " 'Recruitment related work experience',\n",
       " '',\n",
       " 'Project manager, ',\n",
       " '',\n",
       " 'NSD Consulting, Algiers, Algeria, 2015 - 2018',\n",
       " '',\n",
       " '             Promoting job on web platforms.',\n",
       " '',\n",
       " '             Candidate sourcing.',\n",
       " '',\n",
       " '             Conducting interviews (in IT and other areas).',\n",
       " '',\n",
       " '             Planning operations for different teams for construction site supply   (Negotiations, Tracking logistic, Completion operations). ',\n",
       " '',\n",
       " '             Monitoring events (Tracking sponsors, Negotiations, Making the sponsor kit, Media Kit, planning media conferences, Managing brand promotion). ',\n",
       " '',\n",
       " '             ',\n",
       " '',\n",
       " '             Other work experience ',\n",
       " '',\n",
       " 'Co-elaborate and develop a Data Science Learning Web Platform (still in prep), Dubai, UAE, 2020',\n",
       " '',\n",
       " '             ',\n",
       " '',\n",
       " '             Supply chain Analyst, ',\n",
       " '',\n",
       " 'RONA, Montreal, Canada, 2014 – 2015',\n",
       " '',\n",
       " '             Extracting and analyzing raw data from Datawarehouse and data bases.',\n",
       " '',\n",
       " '             Creating several forecasting reports.',\n",
       " '',\n",
       " '',\n",
       " '',\n",
       " 'Teacher, ',\n",
       " '',\n",
       " 'Universite du Quebec a Montreal, Montreal, Canada, 2014 - 2015',\n",
       " '',\n",
       " 'MAT8512 Stochastic applications in computerized finance with MATLAB.               ',\n",
       " '',\n",
       " 'MAT2080 Statistics.',\n",
       " '',\n",
       " 'MAT0341 Calculus I.',\n",
       " '',\n",
       " '            ',\n",
       " '',\n",
       " 'Trainee research, ',\n",
       " '',\n",
       " 'Universite du Quebec a Montreal, Montreal, Canada, Apr 2011 - Sept 2011',\n",
       " '',\n",
       " \"Modeling the portfolio's wealth and Evaluate the performances through series of developed simulations.\",\n",
       " '',\n",
       " '',\n",
       " '',\n",
       " 'Trainee, ',\n",
       " '',\n",
       " 'Bank of Algeria, Algeria, Nov 2009 - Jul 2010',\n",
       " '',\n",
       " 'Modeling and forecasting interest rate of several bond markets. Building a tool to optimize the Risk & Yield.',\n",
       " '',\n",
       " '            ',\n",
       " '',\n",
       " '',\n",
       " '',\n",
       " '',\n",
       " '',\n",
       " 'Experience',\n",
       " '',\n",
       " 'Recruitment related work experience',\n",
       " '',\n",
       " 'Project manager, ',\n",
       " '',\n",
       " 'NSD Consulting, Algiers, Algeria, 2015 - 2018',\n",
       " '',\n",
       " '             Promoting job on web platforms.',\n",
       " '',\n",
       " '             Candidate sourcing.',\n",
       " '',\n",
       " '             Conducting interviews (in IT and other areas).',\n",
       " '',\n",
       " '             Planning operations for different teams for construction site supply   (Negotiations, Tracking logistic, Completion operations). ',\n",
       " '',\n",
       " '             Monitoring events (Tracking sponsors, Negotiations, Making the sponsor kit, Media Kit, planning media conferences, Managing brand promotion). ',\n",
       " '',\n",
       " '             ',\n",
       " '',\n",
       " '             Other work experience ',\n",
       " '',\n",
       " 'Co-elaborate and develop a Data Science Learning Web Platform (still in prep), Dubai, UAE, 2020',\n",
       " '',\n",
       " '             ',\n",
       " '',\n",
       " '             Supply chain Analyst, ',\n",
       " '',\n",
       " 'RONA, Montreal, Canada, 2014 – 2015',\n",
       " '',\n",
       " '             Extracting and analyzing raw data from Datawarehouse and data bases.',\n",
       " '',\n",
       " '             Creating several forecasting reports.',\n",
       " '',\n",
       " '',\n",
       " '',\n",
       " 'Teacher, ',\n",
       " '',\n",
       " 'Universite du Quebec a Montreal, Montreal, Canada, 2014 - 2015',\n",
       " '',\n",
       " 'MAT8512 Stochastic applications in computerized finance with MATLAB.               ',\n",
       " '',\n",
       " 'MAT2080 Statistics.',\n",
       " '',\n",
       " 'MAT0341 Calculus I.',\n",
       " '',\n",
       " '            ',\n",
       " '',\n",
       " 'Trainee research, ',\n",
       " '',\n",
       " 'Universite du Quebec a Montreal, Montreal, Canada, Apr 2011 - Sept 2011',\n",
       " '',\n",
       " \"Modeling the portfolio's wealth and Evaluate the performances through series of developed simulations.\",\n",
       " '',\n",
       " '',\n",
       " '',\n",
       " 'Trainee, ',\n",
       " '',\n",
       " 'Bank of Algeria, Algeria, Nov 2009 - Jul 2010',\n",
       " '',\n",
       " 'Modeling and forecasting interest rate of several bond markets. Building a tool to optimize the Risk & Yield.',\n",
       " '',\n",
       " '            ',\n",
       " '',\n",
       " '',\n",
       " '',\n",
       " 'Chahira Imene Allab',\n",
       " '',\n",
       " '+44 (0) 7742 742 495',\n",
       " '',\n",
       " 'imeneallab@gmail.com',\n",
       " '',\n",
       " ' www.linkedin.com/in/chahira-imene-allab-31330783',\n",
       " '',\n",
       " 'Lanterns, Saunders Lane, Awbridge. Romsey. SO510GP',\n",
       " '',\n",
       " '',\n",
       " '',\n",
       " 'Chahira Imene Allab',\n",
       " '',\n",
       " '+44 (0) 7742 742 495',\n",
       " '',\n",
       " 'imeneallab@gmail.com',\n",
       " '',\n",
       " ' www.linkedin.com/in/chahira-imene-allab-31330783',\n",
       " '',\n",
       " 'Lanterns, Saunders Lane, Awbridge. Romsey. SO510GP',\n",
       " '',\n",
       " '',\n",
       " '',\n",
       " 'Ambitious and fast learner, looking to gain employment within the recruitment industry in the UK. My knowledge and experience in recruitment are strong foundations that will help with the risks of this job. During my previous experiences (study, work, living in different places in the world) I have developed a great ability to easily integrate with multicultural people and teams.',\n",
       " '',\n",
       " 'Ambitious and fast learner, looking to gain employment within the recruitment industry in the UK. My knowledge and experience in recruitment are strong foundations that will help with the risks of this job. During my previous experiences (study, work, living in different places in the world) I have developed a great ability to easily integrate with multicultural people and teams.']"
      ]
     },
     "execution_count": 52,
     "metadata": {},
     "output_type": "execute_result"
    }
   ],
   "source": [
    "#in my cv case I need first to split the text into several sentences\n",
    "text1=text.split('\\n')\n",
    "text1"
   ]
  },
  {
   "cell_type": "code",
   "execution_count": 53,
   "metadata": {},
   "outputs": [
    {
     "name": "stdout",
     "output_type": "stream",
     "text": [
      "['imeneallab@gmail.com']\n"
     ]
    }
   ],
   "source": [
    "pattern = re.compile(r'[\\w\\.-]+@[\\w\\.-]+')\n",
    "\n",
    "for line in text1:    #cvdocxv\n",
    "    g=pattern.findall(line)\n",
    "    if len(g) == 0:# == []:\n",
    "        continue\n",
    "    print(g)\n",
    "    break\n",
    "    \n",
    "    \n",
    "    \n",
    "    #if g != []:\n",
    "     #len(g) == 0   \n",
    "    #if len(g) == 0:\n",
    "        #print('empty String')\n",
    "    #else:\n",
    "    #print(g)               #print(pattern.findall(line))"
   ]
  },
  {
   "cell_type": "code",
   "execution_count": null,
   "metadata": {},
   "outputs": [],
   "source": []
  },
  {
   "cell_type": "markdown",
   "metadata": {},
   "source": [
    "# Phone number"
   ]
  },
  {
   "cell_type": "code",
   "execution_count": 54,
   "metadata": {},
   "outputs": [],
   "source": [
    "import re\n",
    "\n",
    "\n",
    "def extract_mobile_number(text):\n",
    "    phone = re.findall(re.compile(r'(?:(?:\\+?([1-9]|[0-9][0-9]|[0-9][0-9][0-9])\\s*(?:[.-]\\s*)?)?(?:\\(\\s*([2-9]1[02-9]|[2-9][02-8]1|[2-9][02-8][02-9])\\s*\\)|([0-9][1-9]|[0-9]1[02-9]|[2-9][02-8]1|[2-9][02-8][02-9]))\\s*(?:[.-]\\s*)?)?([2-9]1[02-9]|[2-9][02-9]1|[2-9][02-9]{2})\\s*(?:[.-]\\s*)?([0-9]{4})(?:\\s*(?:#|x\\.?|ext\\.?|extension)\\s*(\\d+))?'), text)\n",
    "    \n",
    "    if phone:\n",
    "        number = ''.join(phone[0])\n",
    "        if len(number) > 10:\n",
    "            return '+' + number\n",
    "        else:\n",
    "            return number"
   ]
  },
  {
   "cell_type": "code",
   "execution_count": 55,
   "metadata": {},
   "outputs": [
    {
     "data": {
      "text/plain": [
       "'+19703333833'"
      ]
     },
     "execution_count": 55,
     "metadata": {},
     "output_type": "execute_result"
    }
   ],
   "source": [
    "extract_mobile_number(cvdocx)\n",
    "#cvdocx is a text and non a list"
   ]
  },
  {
   "cell_type": "code",
   "execution_count": 56,
   "metadata": {},
   "outputs": [
    {
     "name": "stdout",
     "output_type": "stream",
     "text": [
      "[('', '', '', '313', '3078', '')]\n"
     ]
    }
   ],
   "source": [
    "pattern1 = re.compile(r'(?:(?:\\+?([1-9]|[0-9][0-9]|[0-9][0-9][0-9])\\s*(?:[.-]\\s*)?)?(?:\\(\\s*([2-9]1[02-9]|[2-9][02-8]1|[2-9][02-8][02-9])\\s*\\)|([0-9][1-9]|[0-9]1[02-9]|[2-9][02-8]1|[2-9][02-8][02-9]))\\s*(?:[.-]\\s*)?)?([2-9]1[02-9]|[2-9][02-9]1|[2-9][02-9]{2})\\s*(?:[.-]\\s*)?([0-9]{4})(?:\\s*(?:#|x\\.?|ext\\.?|extension)\\s*(\\d+))?')\n",
    "\n",
    "\n",
    "for line in text1:    #cvdocxv\n",
    "    g=pattern1.findall(line)\n",
    "    if len(g) == 0:# == []:\n",
    "        continue\n",
    "    print(g)\n",
    "    break\n",
    "    "
   ]
  },
  {
   "cell_type": "code",
   "execution_count": 57,
   "metadata": {},
   "outputs": [
    {
     "name": "stdout",
     "output_type": "stream",
     "text": [
      "alice@google.com\n",
      "bob@abc.com\n"
     ]
    }
   ],
   "source": [
    "\n",
    "## Suppose we have a text with many email addresses\n",
    "str = 'purple alice@google.com, blah monkey bob@abc.com blah dishwasher'\n",
    "\n",
    "  ## Here re.findall() returns a list of all the found email strings\n",
    "emails = re.findall(r'[\\w\\.-]+@[\\w\\.-]+', str) ## ['alice@google.com', 'bob@abc.com']\n",
    "for email in emails:\n",
    "    # do something with each found email string\n",
    "    print(email) \n",
    "#revoir https://stackoverflow.com/questions/2842345/regular-expression-for-finding-phone-numbers"
   ]
  },
  {
   "cell_type": "code",
   "execution_count": null,
   "metadata": {},
   "outputs": [],
   "source": []
  },
  {
   "cell_type": "markdown",
   "metadata": {},
   "source": [
    "# Linkedin"
   ]
  },
  {
   "cell_type": "code",
   "execution_count": 59,
   "metadata": {},
   "outputs": [
    {
     "name": "stdout",
     "output_type": "stream",
     "text": [
      "['linkedin.com/in/chahira-imene-allab-31330783']\n"
     ]
    }
   ],
   "source": [
    "pattern = re.compile(r'linkedin[\\w\\.-]+.*')\n",
    "#pattern = re.compile(r'[\\w\\.-]+linkedin[\\w\\.-]+\\.[a-zA-Z0-9/~\\-_,&=\\?\\.;]')\n",
    "\n",
    "\n",
    "for line in text1:    #cvdocxv\n",
    "    g=pattern.findall(line)\n",
    "    if len(g) == 0:# == []:\n",
    "        continue\n",
    "    print(g)\n",
    "    break\n",
    "#dot mean every thing exept \\n that came after .com, \n",
    "# but if we add * that means every thing that is still connect to my string except \\n\n",
    " "
   ]
  },
  {
   "cell_type": "code",
   "execution_count": null,
   "metadata": {},
   "outputs": [],
   "source": [
    "this work aim to creat a CV parser for several type of document (txt, .docs, pdf), extracting basic informations \n",
    "(email, Linkedin...), there is also a text analysis part (cleaning text:lower sentences, tokenization, cleaning text, getting top ranking features)\n",
    "\n",
    "\n"
   ]
  },
  {
   "cell_type": "markdown",
   "metadata": {},
   "source": [
    "# Text CV processing"
   ]
  },
  {
   "cell_type": "code",
   "execution_count": 61,
   "metadata": {},
   "outputs": [
    {
     "name": "stderr",
     "output_type": "stream",
     "text": [
      "[nltk_data] Downloading package punkt to /Users/hocine/nltk_data...\n",
      "[nltk_data]   Package punkt is already up-to-date!\n",
      "[nltk_data] Downloading package stopwords to\n",
      "[nltk_data]     /Users/hocine/nltk_data...\n",
      "[nltk_data]   Package stopwords is already up-to-date!\n",
      "[nltk_data] Downloading package averaged_perceptron_tagger to\n",
      "[nltk_data]     /Users/hocine/nltk_data...\n",
      "[nltk_data]   Package averaged_perceptron_tagger is already up-to-\n",
      "[nltk_data]       date!\n"
     ]
    }
   ],
   "source": [
    "import pandas as pd \n",
    "from sklearn.feature_extraction.text import TfidfTransformer \n",
    "from sklearn.feature_extraction.text import CountVectorizer \n",
    "from gensim.models import Word2Vec\n",
    "from nltk.corpus import stopwords\n",
    "\n",
    "nltk.download('punkt')\n",
    "nltk.download('stopwords')\n",
    "nltk.download('averaged_perceptron_tagger')\n",
    "\n",
    "from gensim.models import Word2Vec\n",
    "from nltk.corpus import stopwords\n",
    "\n"
   ]
  },
  {
   "cell_type": "code",
   "execution_count": null,
   "metadata": {},
   "outputs": [],
   "source": []
  },
  {
   "cell_type": "code",
   "execution_count": 62,
   "metadata": {},
   "outputs": [
    {
     "name": "stdout",
     "output_type": "stream",
     "text": [
      "['2009', '2010', '2011', '2014', '2015', '2018', '2020', '31330783', '44', '495', '742', '7742', 'ability', 'advanced', 'algeria', 'algiers', 'allab', 'ambitious', 'analyst', 'analyzing', 'and', 'applications', 'applied', 'apr', 'arabic', 'are', 'areas', 'automation', 'awbridge', 'bank', 'bases', 'bond', 'brand', 'building', 'calculus', 'canada', 'candidate', 'certificate', 'chahira', 'chain', 'co', 'com', 'communication', 'completion', 'computerized', 'conducting', 'conferences', 'construction', 'consulting', 'creating', 'data', 'datawarehouse', 'de', 'degree', 'develop', 'developed', 'different', 'domains', 'du', 'dubai', 'during', 'easily', 'economics', 'education', 'effective', 'elaborate', 'employment', 'engineering', 'english', 'evaluate', 'events', 'experience', 'experiences', 'extracting', 'fast', 'finance', 'financial', 'for', 'forecasting', 'foundations', 'france', 'french', 'from', 'gain', 'gmail', 'great', 'have', 'help', 'highly', 'imene', 'imeneallab', 'in', 'industry', 'integrate', 'interest', 'interviews', 'it', 'job', 'jul', 'kit', 'knowledge', 'lane', 'language', 'languages', 'lanterns', 'learner', 'learning', 'linear', 'linkedin', 'living', 'logistic', 'looking', 'lorraine', 'machin', 'making', 'management', 'manager', 'managing', 'market', 'markets', 'master', 'mat0341', 'mat2080', 'mat8512', 'mathematic', 'mathematics', 'matlab', 'maximize', 'me', 'media', 'modeling', 'models', 'monitoring', 'montreal', 'ms', 'multicultural', 'my', 'negotiations', 'nov', 'nsd', 'of', 'office', 'on', 'operational', 'operations', 'optimize', 'option', 'organization', 'other', 'parsing', 'people', 'performances', 'phases', 'places', 'planning', 'platform', 'platforms', 'portfolio', 'prep', 'presentation', 'previous', 'probability', 'process', 'programming', 'project', 'promoting', 'promotion', 'python', 'quebec', 'rate', 'raw', 'recognizing', 'recruitment', 'related', 'reports', 'research', 'risk', 'risks', 'romsey', 'rona', 'résumés', 'sas', 'saunders', 'science', 'sept', 'series', 'several', 'similar', 'simulations', 'site', 'skills', 'so510gp', 'sourcing', 'sponsor', 'sponsors', 'sql', 'statistics', 'still', 'stochastic', 'strategies', 'strong', 'study', 'supply', 'teacher', 'teams', 'tech', 'that', 'the', 'this', 'three', 'through', 'to', 'tool', 'toolbox', 'tracking', 'trainee', 'uae', 'uk', 'universite', 'university', 'usthb', 'wealth', 'web', 'will', 'with', 'within', 'work', 'world', 'www', 'yield']\n"
     ]
    },
    {
     "name": "stderr",
     "output_type": "stream",
     "text": [
      "/Users/hocine/miniconda3/lib/python3.9/site-packages/sklearn/utils/deprecation.py:87: FutureWarning: Function get_feature_names is deprecated; get_feature_names is deprecated in 1.0 and will be removed in 1.2. Please use get_feature_names_out instead.\n",
      "  warnings.warn(msg, category=FutureWarning)\n"
     ]
    }
   ],
   "source": [
    "#Convert a collection of text documents to a matrix of token counts CountVectorizer()\n",
    "\n",
    "\n",
    "cv=CountVectorizer() \n",
    "word_count_vector=cv.fit_transform(text1)\n",
    "print(cv.get_feature_names())"
   ]
  },
  {
   "cell_type": "code",
   "execution_count": 64,
   "metadata": {},
   "outputs": [
    {
     "data": {
      "text/plain": [
       "'JOHN GUY\\n\\n344 ELM STREET MADISON, SD 57042\\n\\n+1 (970) 333-3833 # John.guy@Mail.com # linkedin.com/JOHNGUY\\n\\n\\n\\nSummary\\t\\n\\nSoftware Engineer with experience in all levels of testing, including performance, functional, integration, system, regression, and user acceptance testing. Supportive and enthusiastic team player dedicated to streamlining processes and efficiently resolving project issues.\\n\\nSkill Highlights\\n\\nAgile/Scrum methodology\\n\\nPerformance and scalability\\n\\nOptimization\\n\\nAPI design\\n\\nExperience\\n\\n\\tSoftware Engineer - 09/2015 to 05/2019\\n\\n\\tLuna Software, New York\\n\\n\\tInvestigation, design, and implement scalable applications for data identification, analysis, retrieval, and indexing.\\n\\n\\tSoftware design and development while remaining concentrate on client needs.\\n\\n\\tCooperate diligently with other IT team members to plan, design, and develop smart solutions.\\n\\n\\tEstimate interface between hardware and software.\\n\\n\\tInterface with business analysts, developers, and technical support to determine optimal specifications.\\n\\n\\t\\n\\n\\tJunior Software Engineer - 09/2014 to 09/2015\\n\\n\\tAdsPro Software, New York\\n\\n\\tConsulted regularly with customers on project status, proposals and technical issues.\\n\\n\\tTransformed existing software to correct errors, upgrade interfaces, and improve efficiency.\\n\\n\\tCooperate diligently with other IT team members to plan, design, and develop smart solutions.\\n\\n\\t\\n\\n\\t\\n\\nEducation\\n\\nBachelor of Science: Software Engineering - 2014\\n\\nColumbia University, NY\\n\\n\\n\\n\\n\\nProgramming Languages: Python, R, CSS, SQL.'"
      ]
     },
     "execution_count": 64,
     "metadata": {},
     "output_type": "execute_result"
    }
   ],
   "source": [
    "import textract\n",
    "cvdoc = textract.process(\"///Users/hocine/Documents/Imene/github_code/cv_pars/JG.docx\")\n",
    "\n",
    "cvdocx = cvdoc.decode('utf-8')\n",
    "cvdocx"
   ]
  },
  {
   "cell_type": "code",
   "execution_count": 65,
   "metadata": {},
   "outputs": [],
   "source": [
    "# Preprocessing the data\n",
    "text = re.sub(r'\\[[0-9]*\\]',' ',cvdocx)\n",
    "text = re.sub(r'\\s+',' ',cvdocx)\n",
    "text = text.lower()\n",
    "text = re.sub(r'\\d',' ',cvdocx)\n",
    "text = re.sub(r'\\s+',' ',cvdocx)"
   ]
  },
  {
   "cell_type": "code",
   "execution_count": 66,
   "metadata": {},
   "outputs": [
    {
     "data": {
      "text/plain": [
       "['JOHN GUY',\n",
       " '',\n",
       " '344 ELM STREET MADISON, SD 57042',\n",
       " '',\n",
       " '+1 (970) 333-3833 # John.guy@Mail.com # linkedin.com/JOHNGUY',\n",
       " '',\n",
       " '',\n",
       " '',\n",
       " 'Summary\\t',\n",
       " '',\n",
       " 'Software Engineer with experience in all levels of testing, including performance, functional, integration, system, regression, and user acceptance testing. Supportive and enthusiastic team player dedicated to streamlining processes and efficiently resolving project issues.',\n",
       " '',\n",
       " 'Skill Highlights',\n",
       " '',\n",
       " 'Agile/Scrum methodology',\n",
       " '',\n",
       " 'Performance and scalability',\n",
       " '',\n",
       " 'Optimization',\n",
       " '',\n",
       " 'API design',\n",
       " '',\n",
       " 'Experience',\n",
       " '',\n",
       " '\\tSoftware Engineer - 09/2015 to 05/2019',\n",
       " '',\n",
       " '\\tLuna Software, New York',\n",
       " '',\n",
       " '\\tInvestigation, design, and implement scalable applications for data identification, analysis, retrieval, and indexing.',\n",
       " '',\n",
       " '\\tSoftware design and development while remaining concentrate on client needs.',\n",
       " '',\n",
       " '\\tCooperate diligently with other IT team members to plan, design, and develop smart solutions.',\n",
       " '',\n",
       " '\\tEstimate interface between hardware and software.',\n",
       " '',\n",
       " '\\tInterface with business analysts, developers, and technical support to determine optimal specifications.',\n",
       " '',\n",
       " '\\t',\n",
       " '',\n",
       " '\\tJunior Software Engineer - 09/2014 to 09/2015',\n",
       " '',\n",
       " '\\tAdsPro Software, New York',\n",
       " '',\n",
       " '\\tConsulted regularly with customers on project status, proposals and technical issues.',\n",
       " '',\n",
       " '\\tTransformed existing software to correct errors, upgrade interfaces, and improve efficiency.',\n",
       " '',\n",
       " '\\tCooperate diligently with other IT team members to plan, design, and develop smart solutions.',\n",
       " '',\n",
       " '\\t',\n",
       " '',\n",
       " '\\t',\n",
       " '',\n",
       " 'Education',\n",
       " '',\n",
       " 'Bachelor of Science: Software Engineering - 2014',\n",
       " '',\n",
       " 'Columbia University, NY',\n",
       " '',\n",
       " '',\n",
       " '',\n",
       " '',\n",
       " '',\n",
       " 'Programming Languages: Python, R, CSS, SQL.']"
      ]
     },
     "execution_count": 66,
     "metadata": {},
     "output_type": "execute_result"
    }
   ],
   "source": [
    "text=cvdocx.split('\\n')\n",
    "\n",
    "text"
   ]
  },
  {
   "cell_type": "code",
   "execution_count": 67,
   "metadata": {},
   "outputs": [],
   "source": [
    "text = [x for x in text if (x != '') & (x!='\\t')]\n",
    "text = [x.replace('\\t','') for x in text]"
   ]
  },
  {
   "cell_type": "code",
   "execution_count": 68,
   "metadata": {},
   "outputs": [
    {
     "data": {
      "text/plain": [
       "['JOHN GUY',\n",
       " '344 ELM STREET MADISON, SD 57042',\n",
       " '+1 (970) 333-3833 # John.guy@Mail.com # linkedin.com/JOHNGUY',\n",
       " 'Summary',\n",
       " 'Software Engineer with experience in all levels of testing, including performance, functional, integration, system, regression, and user acceptance testing. Supportive and enthusiastic team player dedicated to streamlining processes and efficiently resolving project issues.',\n",
       " 'Skill Highlights',\n",
       " 'Agile/Scrum methodology',\n",
       " 'Performance and scalability',\n",
       " 'Optimization',\n",
       " 'API design',\n",
       " 'Experience',\n",
       " 'Software Engineer - 09/2015 to 05/2019',\n",
       " 'Luna Software, New York',\n",
       " 'Investigation, design, and implement scalable applications for data identification, analysis, retrieval, and indexing.',\n",
       " 'Software design and development while remaining concentrate on client needs.',\n",
       " 'Cooperate diligently with other IT team members to plan, design, and develop smart solutions.',\n",
       " 'Estimate interface between hardware and software.',\n",
       " 'Interface with business analysts, developers, and technical support to determine optimal specifications.',\n",
       " 'Junior Software Engineer - 09/2014 to 09/2015',\n",
       " 'AdsPro Software, New York',\n",
       " 'Consulted regularly with customers on project status, proposals and technical issues.',\n",
       " 'Transformed existing software to correct errors, upgrade interfaces, and improve efficiency.',\n",
       " 'Cooperate diligently with other IT team members to plan, design, and develop smart solutions.',\n",
       " 'Education',\n",
       " 'Bachelor of Science: Software Engineering - 2014',\n",
       " 'Columbia University, NY',\n",
       " 'Programming Languages: Python, R, CSS, SQL.']"
      ]
     },
     "execution_count": 68,
     "metadata": {},
     "output_type": "execute_result"
    }
   ],
   "source": [
    "text"
   ]
  },
  {
   "cell_type": "code",
   "execution_count": null,
   "metadata": {},
   "outputs": [],
   "source": []
  },
  {
   "cell_type": "markdown",
   "metadata": {},
   "source": [
    "# Creating a graph of fields"
   ]
  },
  {
   "cell_type": "code",
   "execution_count": 69,
   "metadata": {},
   "outputs": [],
   "source": [
    "import networkx as nx\n",
    "import matplotlib.pyplot as plt\n",
    "#creating graph\n",
    "G = nx.Graph()"
   ]
  },
  {
   "cell_type": "code",
   "execution_count": 70,
   "metadata": {},
   "outputs": [
    {
     "data": {
      "image/png": "[encoded data removed]",
      "text/plain": [
       "<Figure size 432x288 with 1 Axes>"
      ]
     },
     "metadata": {},
     "output_type": "display_data"
    }
   ],
   "source": [
    "G.add_node(\"Data science\")  \n",
    "G.add_node(\"Skills\")    \n",
    "G.add_edge(\"Data science\",\"Skills\")\n",
    "\n",
    "\n",
    "\n",
    "#skills needed\n",
    "G.add_node(\"Programation\")  \n",
    "G.add_edge(\"Programation\",\"Skills\")\n",
    "G.add_node(\"Statistic\") \n",
    "G.add_edge(\"Statistic\",\"Skills\")\n",
    "G.add_node(\"Machine learning\")    \n",
    "G.add_edge(\"Machine learning\",\"Skills\")\n",
    "G.add_node(\"Linear algebra\")    \n",
    "G.add_edge(\"Linear algebra\",\"Skills\")\n",
    "G.add_node(\"Data Wrangling\")    \n",
    "G.add_edge(\"Data Wrangling\",\"Skills\")\n",
    "G.add_node(\"Data Visualization\")   \n",
    "G.add_edge(\"Data Visualization\",\"Skills\")\n",
    "G.add_node(\"Software Engineering\") \n",
    "G.add_edge(\"Software Engineering\",\"Skills\")\n",
    "\n",
    "\n",
    "\n",
    "#skills tools\n",
    "#Prgram\n",
    "G.add_node(\"R\")  \n",
    "G.add_edge(\"R\",\"Programation\")\n",
    "G.add_node(\"Python\")    \n",
    "G.add_edge(\"Python\",\"Programation\")\n",
    "G.add_node(\"SQL\")    \n",
    "G.add_edge(\"SQL\",\"Programation\")\n",
    "G.add_node(\"SAS\")    \n",
    "G.add_edge(\"SAS\",\"Programation\")\n",
    "\n",
    "\n",
    "#Statistic\n",
    "G.add_node(\"statistical tests\") #stat test \n",
    "G.add_edge(\"statistical tests\",\"Statistic\")\n",
    "G.add_node(\"statistical distribution\")  #stat ditribution\n",
    "G.add_edge(\"statistical distribution\",\"Statistic\")\n",
    "G.add_node(\"estimation\")  #stat estimators\n",
    "G.add_edge(\"estimation\",\"Statistic\")\n",
    "\n",
    "\n",
    "#Machine learning\n",
    "G.add_node(\"regression\")  \n",
    "G.add_edge(\"regression\",\"Machine learning\")\n",
    "G.add_node(\"regression logistic\")  \n",
    "G.add_edge(\"regression logistic\",\"Machine learning\")\n",
    "G.add_node(\"neural network\")  \n",
    "G.add_edge(\"neural network\",\"Machine learning\")\n",
    "\n",
    "#Linear algebra\n",
    "G.add_node(\"Multivariable Calculus\")  \n",
    "G.add_edge(\"Multivariable Calculus\",\"Linear algebra\")\n",
    "\n",
    "\n",
    "#Data Wrangling\n",
    "G.add_node(\"JSON\")  \n",
    "G.add_edge(\"JSON\",\"Data Wrangling\")\n",
    "\n",
    "\n",
    "#Data Visualization\n",
    "G.add_node(\"matplotlib\")  \n",
    "G.add_edge(\"matplotlib\",\"Data Visualization\")\n",
    "\n",
    "G.add_node(\"ggplot\")  \n",
    "G.add_edge(\"ggplot\",\"Data Visualization\")\n",
    "\n",
    "G.add_node(\"d3.js\")  \n",
    "G.add_edge(\"d3.js\",\"Data Visualization\")\n",
    "\n",
    "\n",
    "##related fields\n",
    "G.add_node(\"Data Scientist\")  \n",
    "G.add_edge(\"Data Scientist\",\"Data science\")\n",
    "G.add_node(\"Machine Learning Engineer\")  \n",
    "G.add_edge(\"Machine Learning Engineer\",\"Data science\")\n",
    "G.add_node(\"Machine Learning Scientist\")  \n",
    "G.add_edge(\"Machine Learning Scientist\",\"Data science\")\n",
    "G.add_node(\"Applications Architect\")  \n",
    "G.add_edge(\"Applications Architect\",\"Data science\")\n",
    "G.add_node(\"Enterprise Architect\")  \n",
    "G.add_edge(\"Enterprise Architect\",\"Data science\")\n",
    "G.add_node(\"Data Architect\")  \n",
    "G.add_edge(\"Data Architect\",\"Data science\")\n",
    "G.add_node(\"Infrastructure Architect\")  \n",
    "G.add_edge(\"Infrastructure Architect\",\"Data science\")\n",
    "G.add_node(\"Data Engineer\")  \n",
    "G.add_edge(\"Data Engineer\",\"Data science\")\n",
    "G.add_node(\"Statistician\")  \n",
    "G.add_edge(\"Statistician\",\"Data science\")\n",
    "G.add_node(\"Data Analyst\")  \n",
    "G.add_edge(\"Data Analyst\",\"Data science\")\n",
    "\n",
    "\n",
    "G[\"Data science\"][\"Data Scientist\"][\"related fields\"] = \"related fields\"\n",
    "G[\"Data science\"][\"Machine Learning Engineer\"][\"related fields\"] = \"related fields\"\n",
    "G[\"Data science\"][\"Machine Learning Scientist\"][\"related fields\"] = \"related fields\"\n",
    "G[\"Data science\"][\"Applications Architect\"][\"related fields\"] = \"related fields\"\n",
    "\n",
    "G[\"Data science\"][\"Enterprise Architect\"][\"related fields\"] = \"related fields\"\n",
    "\n",
    "G[\"Data science\"][\"Data Architect\"][\"related fields\"] = \"related fields\"\n",
    "\n",
    "G[\"Data science\"][\"Infrastructure Architect\"][\"related fields\"] = \"related fields\"\n",
    "\n",
    "\n",
    "G[\"Data science\"][\"Data Engineer\"][\"related fields\"] = \"related fields\"\n",
    "\n",
    "G[\"Data science\"][\"Statistician\"][\"related fields\"] = \"related fields\"\n",
    "\n",
    "G[\"Data science\"][\"Data Analyst\"][\"related fields\"] = \"related fields\"\n",
    "\n",
    "\n",
    "\n",
    "\n",
    "\n",
    "\n",
    "\n",
    "\n",
    "\n",
    "\n",
    "\n",
    "\n",
    "nx.draw(G, with_labels=True, font_weight='bold') \n",
    "\n",
    "\n"
   ]
  },
  {
   "cell_type": "code",
   "execution_count": 71,
   "metadata": {},
   "outputs": [
    {
     "data": {
      "application/vnd.jupyter.widget-view+json": {
       "model_id": "8bc708af07ec4edbab66358c2b56e5b9",
       "version_major": 2,
       "version_minor": 0
      },
      "text/plain": [
       "Computing transition probabilities:   0%|          | 0/34 [00:00<?, ?it/s]"
      ]
     },
     "metadata": {},
     "output_type": "display_data"
    }
   ],
   "source": [
    "from node2vec import Node2Vec\n",
    "\n",
    "# Precompute probabilities and generate walks - **ON WINDOWS ONLY WORKS WITH workers=1**\n",
    "#node2vec = Node2Vec(G, dimensions=64, walk_length=30, num_walks=200, workers=4)  # Use temp_folder for big graphs\n",
    "node2vec = Node2Vec(G, dimensions=64, walk_length=30, num_walks=200, workers=4)\n",
    "\n",
    "# Embed nodes\n",
    "#model = node2vec.fit(window=10, min_count=1, batch_words=4)  # Any keywords acceptable by gensim.Word2Vec can be passed, `dimensions` and `workers` are automatically passed (from the Node2Vec constructor)\n",
    "model = node2vec.fit(window=10, min_count=1, batch_words=4)\n",
    "\n"
   ]
  },
  {
   "cell_type": "code",
   "execution_count": 72,
   "metadata": {},
   "outputs": [
    {
     "data": {
      "text/plain": [
       "array([ 0.25344276,  0.02235227,  0.11178123, -0.03326663, -0.11447776,\n",
       "       -0.20563707,  0.03298603,  0.28334618, -0.07401322, -0.12500466,\n",
       "       -0.01115925, -0.2553039 ,  0.10108873,  0.09317604, -0.04960312,\n",
       "        0.13694596, -0.2578504 , -0.16959862, -0.27555567, -0.30340746,\n",
       "        0.2531789 ,  0.20456983,  0.1831026 , -0.13674468,  0.11208284,\n",
       "        0.0493692 ,  0.02743143,  0.02021276,  0.18048358,  0.14079966,\n",
       "       -0.33023557,  0.19284073, -0.05579909, -0.43077207, -0.02179481,\n",
       "        0.24047215,  0.2410362 ,  0.25070432, -0.09285128, -0.11673182,\n",
       "       -0.15633337, -0.07687753, -0.22128066, -0.08664092,  0.05000079,\n",
       "        0.11753583, -0.30766076, -0.29384214,  0.16922358,  0.34840706,\n",
       "       -0.143613  ,  0.23167393, -0.07155211,  0.04649964,  0.17845929,\n",
       "        0.09099946,  0.30000255, -0.10137314, -0.24889675, -0.01378819,\n",
       "       -0.17544839, -0.10713544, -0.12010296, -0.11269452], dtype=float32)"
      ]
     },
     "execution_count": 72,
     "metadata": {},
     "output_type": "execute_result"
    }
   ],
   "source": [
    "model.wv.get_vector('Machine Learning Scientist')\n"
   ]
  },
  {
   "cell_type": "code",
   "execution_count": 73,
   "metadata": {},
   "outputs": [],
   "source": [
    "# Learn embeddings \n",
    "model = node2vec.fit(window=10, min_count=1)\n"
   ]
  },
  {
   "cell_type": "code",
   "execution_count": 74,
   "metadata": {},
   "outputs": [
    {
     "data": {
      "text/plain": [
       "[('Statistician', 0.9859862327575684),\n",
       " ('Machine Learning Engineer', 0.9843248724937439),\n",
       " ('Data Architect', 0.9805712699890137),\n",
       " ('Infrastructure Architect', 0.9764870405197144),\n",
       " ('Data Analyst', 0.9729412198066711),\n",
       " ('Data Engineer', 0.972497820854187),\n",
       " ('Applications Architect', 0.9714974164962769),\n",
       " ('Enterprise Architect', 0.9697596430778503),\n",
       " ('Data Scientist', 0.9649448990821838),\n",
       " ('Data science', 0.8934749960899353)]"
      ]
     },
     "execution_count": 74,
     "metadata": {},
     "output_type": "execute_result"
    }
   ],
   "source": [
    "#model.most_similar('Machine Learning Scientist')\n",
    "\n",
    "model.wv.most_similar('Machine Learning Scientist')\n"
   ]
  },
  {
   "cell_type": "code",
   "execution_count": 75,
   "metadata": {},
   "outputs": [
    {
     "data": {
      "text/plain": [
       "[('Data Scientist', 0.9227518439292908),\n",
       " ('Data Engineer', 0.9210842847824097),\n",
       " ('Enterprise Architect', 0.9175671339035034),\n",
       " ('Applications Architect', 0.9165979623794556),\n",
       " ('Machine Learning Engineer', 0.9127089977264404),\n",
       " ('Data Architect', 0.9013705253601074),\n",
       " ('Infrastructure Architect', 0.8952251076698303),\n",
       " ('Machine Learning Scientist', 0.8934749960899353),\n",
       " ('Data Analyst', 0.8894851803779602),\n",
       " ('Statistician', 0.8883546590805054)]"
      ]
     },
     "execution_count": 75,
     "metadata": {},
     "output_type": "execute_result"
    }
   ],
   "source": [
    "model.wv.most_similar('Data science')\n",
    "\n"
   ]
  },
  {
   "cell_type": "code",
   "execution_count": null,
   "metadata": {},
   "outputs": [],
   "source": []
  },
  {
   "cell_type": "code",
   "execution_count": 76,
   "metadata": {},
   "outputs": [
    {
     "data": {
      "application/vnd.jupyter.widget-view+json": {
       "model_id": "40faf633ba7449089ea1e1dd67d63bc8",
       "version_major": 2,
       "version_minor": 0
      },
      "text/plain": [
       "Computing transition probabilities:   0%|          | 0/100 [00:00<?, ?it/s]"
      ]
     },
     "metadata": {},
     "output_type": "display_data"
    },
    {
     "data": {
      "text/plain": [
       "[('16', 0.5134089589118958),\n",
       " ('72', 0.5089715123176575),\n",
       " ('29', 0.5004430413246155),\n",
       " ('60', 0.49542516469955444),\n",
       " ('44', 0.4897535741329193),\n",
       " ('93', 0.4874557852745056),\n",
       " ('39', 0.4750909209251404),\n",
       " ('68', 0.4744751453399658),\n",
       " ('97', 0.47159650921821594),\n",
       " ('1', 0.4621552526950836)]"
      ]
     },
     "execution_count": 76,
     "metadata": {},
     "output_type": "execute_result"
    }
   ],
   "source": [
    "import networkx as nx\n",
    "from node2vec import Node2Vec\n",
    "\n",
    "# Create a graph\n",
    "graph = nx.fast_gnp_random_graph(n=100, p=0.5)\n",
    "\n",
    "# Precompute probabilities and generate walks - **ON WINDOWS ONLY WORKS WITH workers=1**\n",
    "node2vec = Node2Vec(graph, dimensions=64, walk_length=30, num_walks=200, workers=4)  # Use temp_folder for big graphs\n",
    "\n",
    "# Embed nodes\n",
    "model = node2vec.fit(window=10, min_count=1, batch_words=4)  # Any keywords acceptable by gensim.Word2Vec can be passed, `dimensions` and `workers` are automatically passed (from the Node2Vec constructor)\n",
    "\n",
    "# Look for most similar nodes\n",
    "model.wv.most_similar('2')  # Output node names are always strings\n"
   ]
  },
  {
   "cell_type": "code",
   "execution_count": null,
   "metadata": {},
   "outputs": [],
   "source": []
  },
  {
   "cell_type": "code",
   "execution_count": null,
   "metadata": {},
   "outputs": [],
   "source": []
  },
  {
   "cell_type": "code",
   "execution_count": null,
   "metadata": {},
   "outputs": [],
   "source": []
  },
  {
   "cell_type": "code",
   "execution_count": null,
   "metadata": {},
   "outputs": [],
   "source": []
  },
  {
   "cell_type": "code",
   "execution_count": null,
   "metadata": {},
   "outputs": [],
   "source": []
  },
  {
   "cell_type": "code",
   "execution_count": null,
   "metadata": {},
   "outputs": [],
   "source": []
  },
  {
   "cell_type": "code",
   "execution_count": null,
   "metadata": {},
   "outputs": [],
   "source": []
  },
  {
   "cell_type": "code",
   "execution_count": null,
   "metadata": {},
   "outputs": [],
   "source": []
  },
  {
   "cell_type": "code",
   "execution_count": null,
   "metadata": {},
   "outputs": [],
   "source": []
  },
  {
   "cell_type": "code",
   "execution_count": null,
   "metadata": {},
   "outputs": [],
   "source": []
  },
  {
   "cell_type": "code",
   "execution_count": null,
   "metadata": {},
   "outputs": [],
   "source": []
  },
  {
   "cell_type": "code",
   "execution_count": null,
   "metadata": {},
   "outputs": [],
   "source": []
  },
  {
   "cell_type": "code",
   "execution_count": null,
   "metadata": {},
   "outputs": [],
   "source": []
  },
  {
   "cell_type": "code",
   "execution_count": null,
   "metadata": {},
   "outputs": [],
   "source": []
  },
  {
   "cell_type": "code",
   "execution_count": null,
   "metadata": {},
   "outputs": [],
   "source": []
  },
  {
   "cell_type": "code",
   "execution_count": null,
   "metadata": {},
   "outputs": [],
   "source": []
  },
  {
   "cell_type": "code",
   "execution_count": null,
   "metadata": {},
   "outputs": [],
   "source": []
  },
  {
   "cell_type": "code",
   "execution_count": null,
   "metadata": {},
   "outputs": [],
   "source": []
  },
  {
   "cell_type": "code",
   "execution_count": null,
   "metadata": {},
   "outputs": [],
   "source": []
  },
  {
   "cell_type": "code",
   "execution_count": null,
   "metadata": {},
   "outputs": [],
   "source": []
  },
  {
   "cell_type": "code",
   "execution_count": null,
   "metadata": {},
   "outputs": [],
   "source": []
  }
 ],
 "metadata": {
  "kernelspec": {
   "display_name": "Python 3",
   "language": "python",
   "name": "python3"
  },
  "language_info": {
   "codemirror_mode": {
    "name": "ipython",
    "version": 3
   },
   "file_extension": ".py",
   "mimetype": "text/x-python",
   "name": "python",
   "nbconvert_exporter": "python",
   "pygments_lexer": "ipython3",
   "version": "3.9.5"
  }
 },
 "nbformat": 4,
 "nbformat_minor": 4
}
