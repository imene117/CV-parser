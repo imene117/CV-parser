{
  "cells": [
    {
      "cell_type": "markdown",
      "metadata": {
        "id": "view-in-github",
        "colab_type": "text"
      },
      "source": [
        "<a href=\"https://colab.research.google.com/github/imene117/CV-parser/blob/main/4_1_resnet18_PyTorch.ipynb\" target=\"_parent\"><img src=\"https://colab.research.google.com/assets/colab-badge.svg\" alt=\"Open In Colab\"/></a>"
      ]
    },
    {
      "cell_type": "markdown",
      "metadata": {
        "id": "z6NSCdiGao8x"
      },
      "source": [
        "<a href=\"http://cocl.us/pytorch_link_top?utm_medium=Exinfluencer&utm_source=Exinfluencer&utm_content=000026UJ&utm_term=10006555&utm_id=NA-SkillsNetwork-Channel-SkillsNetworkCoursesIBMDeveloperSkillsNetworkDL0321ENSkillsNetwork20647850-2021-01-01\">\n",
        "    <img src=\"https://s3-api.us-geo.objectstorage.softlayer.net/cf-courses-data/CognitiveClass/DL0110EN/notebook_images%20/Pytochtop.png\" width=\"750\" alt=\"IBM Product \" />\n",
        "</a> \n"
      ]
    },
    {
      "cell_type": "markdown",
      "metadata": {
        "id": "85l8Yicqao82"
      },
      "source": [
        "<img src=\"https://s3-api.us-geo.objectstorage.softlayer.net/cf-courses-data/CognitiveClass/DL0110EN/notebook_images%20/cc-logo-square.png\" width=\"200\" alt=\"cognitiveclass.ai logo\" />\n"
      ]
    },
    {
      "cell_type": "markdown",
      "metadata": {
        "id": "pUukvBVyao83"
      },
      "source": [
        "<h1><h1>Pre-trained-Models with PyTorch </h1>\n"
      ]
    },
    {
      "cell_type": "markdown",
      "metadata": {
        "id": "CBu9Vm53ao83"
      },
      "source": [
        "In this lab, you will use pre-trained models to classify between the negative and positive samples; you will be provided with the dataset object. The particular pre-trained model will be resnet18; you will have three questions:\n",
        "\n",
        "<ul>\n",
        "<li>change the output layer</li>\n",
        "<li> train the model</li> \n",
        "<li>  identify  several  misclassified samples</li> \n",
        " </ul>\n",
        "You will take several screenshots of your work and share your notebook. \n"
      ]
    },
    {
      "cell_type": "markdown",
      "metadata": {
        "id": "e1j7Q-Qmao84"
      },
      "source": [
        "<h2>Table of Contents</h2>\n"
      ]
    },
    {
      "cell_type": "markdown",
      "metadata": {
        "id": "4oohPD0Jao84"
      },
      "source": [
        "<div class=\"alert alert-block alert-info\" style=\"margin-top: 20px\">\n",
        "\n",
        "<ul>\n",
        "    <li><a href=\"https://#download_data\"> Download Data</a></li>\n",
        "    <li><a href=\"https://#auxiliary\"> Imports and Auxiliary Functions </a></li>\n",
        "    <li><a href=\"https://#data_class\"> Dataset Class</a></li>\n",
        "    <li><a href=\"https://#Question_1\">Question 1</a></li>\n",
        "    <li><a href=\"https://#Question_2\">Question 2</a></li>\n",
        "    <li><a href=\"https://#Question_3\">Question 3</a></li>\n",
        "</ul>\n",
        "<p>Estimated Time Needed: <strong>120 min</strong></p>\n",
        " </div>\n",
        "<hr>\n"
      ]
    },
    {
      "cell_type": "markdown",
      "metadata": {
        "id": "pfVgru2_ao85"
      },
      "source": [
        "<h2 id=\"download_data\">Download Data</h2>\n"
      ]
    },
    {
      "cell_type": "markdown",
      "metadata": {
        "id": "2IxFn9lTao85"
      },
      "source": [
        "Download the dataset and unzip the files in your data directory, unlike the other labs, all the data will be deleted after you close  the lab, this may take some time:\n"
      ]
    },
    {
      "cell_type": "code",
      "execution_count": null,
      "metadata": {
        "colab": {
          "base_uri": "https://localhost:8080/"
        },
        "id": "H-ojMGT8ao86",
        "outputId": "3f9c0d3f-928b-435e-e101-ccfe34960900"
      },
      "outputs": [
        {
          "output_type": "stream",
          "name": "stdout",
          "text": [
            "--2022-05-26 08:13:43--  https://s3-api.us-geo.objectstorage.softlayer.net/cf-courses-data/CognitiveClass/DL0321EN/data/images/Positive_tensors.zip\n",
            "Resolving s3-api.us-geo.objectstorage.softlayer.net (s3-api.us-geo.objectstorage.softlayer.net)... 67.228.254.196\n",
            "Connecting to s3-api.us-geo.objectstorage.softlayer.net (s3-api.us-geo.objectstorage.softlayer.net)|67.228.254.196|:443... connected.\n",
            "HTTP request sent, awaiting response... 200 OK\n",
            "Length: 2598656062 (2.4G) [application/zip]\n",
            "Saving to: ‘Positive_tensors.zip’\n",
            "\n",
            "Positive_tensors.zi 100%[===================>]   2.42G  34.5MB/s    in 83s     \n",
            "\n",
            "2022-05-26 08:15:07 (29.9 MB/s) - ‘Positive_tensors.zip’ saved [2598656062/2598656062]\n",
            "\n"
          ]
        }
      ],
      "source": [
        "!wget https://s3-api.us-geo.objectstorage.softlayer.net/cf-courses-data/CognitiveClass/DL0321EN/data/images/Positive_tensors.zip "
      ]
    },
    {
      "cell_type": "code",
      "execution_count": null,
      "metadata": {
        "id": "w7V6Kh5gao88"
      },
      "outputs": [],
      "source": [
        "!unzip -q Positive_tensors.zip "
      ]
    },
    {
      "cell_type": "code",
      "execution_count": null,
      "metadata": {
        "colab": {
          "base_uri": "https://localhost:8080/"
        },
        "id": "KiDRp5Idao88",
        "outputId": "b930874d-444d-4d87-a26b-921bb7ca2eb7"
      },
      "outputs": [
        {
          "output_type": "stream",
          "name": "stdout",
          "text": [
            "--2022-05-26 08:17:19--  https://s3-api.us-geo.objectstorage.softlayer.net/cf-courses-data/CognitiveClass/DL0321EN/data/images/Negative_tensors.zip\n",
            "Resolving s3-api.us-geo.objectstorage.softlayer.net (s3-api.us-geo.objectstorage.softlayer.net)... 67.228.254.196\n",
            "Connecting to s3-api.us-geo.objectstorage.softlayer.net (s3-api.us-geo.objectstorage.softlayer.net)|67.228.254.196|:443... connected.\n",
            "HTTP request sent, awaiting response... 200 OK\n",
            "Length: 2111408108 (2.0G) [application/zip]\n",
            "Saving to: ‘Negative_tensors.zip’\n",
            "\n",
            "Negative_tensors.zi 100%[===================>]   1.97G  28.9MB/s    in 69s     \n",
            "\n",
            "2022-05-26 08:18:29 (29.3 MB/s) - ‘Negative_tensors.zip’ saved [2111408108/2111408108]\n",
            "\n"
          ]
        }
      ],
      "source": [
        "! wget https://s3-api.us-geo.objectstorage.softlayer.net/cf-courses-data/CognitiveClass/DL0321EN/data/images/Negative_tensors.zip\n",
        "!unzip -q Negative_tensors.zip"
      ]
    },
    {
      "cell_type": "code",
      "execution_count": null,
      "metadata": {
        "colab": {
          "base_uri": "https://localhost:8080/"
        },
        "id": "3Kp-OSVcfdNN",
        "outputId": "2419ee54-234c-4ec5-8996-28966fad755a"
      },
      "outputs": [
        {
          "output_type": "stream",
          "name": "stdout",
          "text": [
            "Negative_tensors      Positive_tensors\t    sample_data\n",
            "Negative_tensors.zip  Positive_tensors.zip\n"
          ]
        }
      ],
      "source": [
        "!ls /content/"
      ]
    },
    {
      "cell_type": "markdown",
      "metadata": {
        "id": "ckPJGAahao89"
      },
      "source": [
        "We will install torchvision:\n"
      ]
    },
    {
      "cell_type": "code",
      "execution_count": null,
      "metadata": {
        "colab": {
          "base_uri": "https://localhost:8080/"
        },
        "id": "azrWY0UPao8-",
        "outputId": "d6ab726d-a701-473a-c67d-8e3b363dc200"
      },
      "outputs": [
        {
          "output_type": "stream",
          "name": "stdout",
          "text": [
            "Looking in indexes: https://pypi.org/simple, https://us-python.pkg.dev/colab-wheels/public/simple/\n",
            "Requirement already satisfied: torchvision in /usr/local/lib/python3.7/dist-packages (0.12.0+cu113)\n",
            "Requirement already satisfied: pillow!=8.3.*,>=5.3.0 in /usr/local/lib/python3.7/dist-packages (from torchvision) (7.1.2)\n",
            "Requirement already satisfied: requests in /usr/local/lib/python3.7/dist-packages (from torchvision) (2.23.0)\n",
            "Requirement already satisfied: typing-extensions in /usr/local/lib/python3.7/dist-packages (from torchvision) (4.2.0)\n",
            "Requirement already satisfied: numpy in /usr/local/lib/python3.7/dist-packages (from torchvision) (1.21.6)\n",
            "Requirement already satisfied: torch==1.11.0 in /usr/local/lib/python3.7/dist-packages (from torchvision) (1.11.0+cu113)\n",
            "Requirement already satisfied: urllib3!=1.25.0,!=1.25.1,<1.26,>=1.21.1 in /usr/local/lib/python3.7/dist-packages (from requests->torchvision) (1.24.3)\n",
            "Requirement already satisfied: chardet<4,>=3.0.2 in /usr/local/lib/python3.7/dist-packages (from requests->torchvision) (3.0.4)\n",
            "Requirement already satisfied: certifi>=2017.4.17 in /usr/local/lib/python3.7/dist-packages (from requests->torchvision) (2022.5.18.1)\n",
            "Requirement already satisfied: idna<3,>=2.5 in /usr/local/lib/python3.7/dist-packages (from requests->torchvision) (2.10)\n"
          ]
        }
      ],
      "source": [
        "!pip install torchvision"
      ]
    },
    {
      "cell_type": "markdown",
      "metadata": {
        "id": "Rs78nPoXao8-"
      },
      "source": [
        "<h2 id=\"auxiliary\">Imports and Auxiliary Functions</h2>\n"
      ]
    },
    {
      "cell_type": "markdown",
      "metadata": {
        "id": "FEIshvU-ao8-"
      },
      "source": [
        "The following are the libraries we are going to use for this lab. The <code>torch.manual_seed()</code> is for forcing the random function to give the same number every time we try to recompile it.\n"
      ]
    },
    {
      "cell_type": "code",
      "execution_count": null,
      "metadata": {
        "colab": {
          "base_uri": "https://localhost:8080/"
        },
        "id": "fGoj0xsGao8_",
        "outputId": "b8f09be4-a878-4907-ec12-93f3e22265b3"
      },
      "outputs": [
        {
          "output_type": "execute_result",
          "data": {
            "text/plain": [
              "<torch._C.Generator at 0x7fdb3fe2ca70>"
            ]
          },
          "metadata": {},
          "execution_count": 7
        }
      ],
      "source": [
        "# These are the libraries will be used for this lab.\n",
        "import torchvision.models as models\n",
        "from PIL import Image\n",
        "import pandas\n",
        "from torchvision import transforms\n",
        "import torch.nn as nn\n",
        "import time\n",
        "import torch \n",
        "import matplotlib.pylab as plt\n",
        "import numpy as np\n",
        "from torch.utils.data import Dataset, DataLoader\n",
        "import h5py\n",
        "import os\n",
        "import glob\n",
        "torch.manual_seed(0)"
      ]
    },
    {
      "cell_type": "code",
      "execution_count": null,
      "metadata": {
        "id": "l7s5ALpAao9A"
      },
      "outputs": [],
      "source": [
        "from matplotlib.pyplot import imshow\n",
        "import matplotlib.pylab as plt\n",
        "from PIL import Image\n",
        "import pandas as pd\n",
        "import os"
      ]
    },
    {
      "cell_type": "markdown",
      "metadata": {
        "id": "baZM7d_Gao9A"
      },
      "source": [
        "<!--Empty Space for separating topics-->\n"
      ]
    },
    {
      "cell_type": "markdown",
      "metadata": {
        "id": "SZYc9BNcao9B"
      },
      "source": [
        "<h2 id=\"data_class\">Dataset Class</h2>\n"
      ]
    },
    {
      "cell_type": "markdown",
      "metadata": {
        "id": "BlfReihAao9B"
      },
      "source": [
        "This dataset class is essentially the same dataset you build in the previous section, but to speed things up, we are going to use tensors instead of jpeg images. Therefor for each iteration, you will skip the reshape step, conversion step to tensors and normalization step.\n"
      ]
    },
    {
      "cell_type": "code",
      "execution_count": null,
      "metadata": {
        "colab": {
          "base_uri": "https://localhost:8080/"
        },
        "id": "Re9Cd9eQao9C",
        "outputId": "b9153de2-02a9-4a15-b0b4-fc0ba79ab98b"
      },
      "outputs": [
        {
          "output_type": "stream",
          "name": "stdout",
          "text": [
            "done\n"
          ]
        }
      ],
      "source": [
        "# Create your own dataset object\n",
        "\n",
        "class Dataset(Dataset):\n",
        "\n",
        "    # Constructor\n",
        "    def __init__(self,transform=None,train=True):\n",
        "        directory=\"/content\"#\"/home/dsxuser/work\"\n",
        "        positive=\"Positive_tensors\"\n",
        "        negative='Negative_tensors'\n",
        "\n",
        "        positive_file_path=os.path.join(directory,positive)\n",
        "        negative_file_path=os.path.join(directory,negative)\n",
        "        positive_files=[os.path.join(positive_file_path,file) for file in os.listdir(positive_file_path) if file.endswith(\".pt\")]\n",
        "        negative_files=[os.path.join(negative_file_path,file) for file in os.listdir(negative_file_path) if file.endswith(\".pt\")]\n",
        "        number_of_samples=len(positive_files)+len(negative_files)\n",
        "        self.all_files=[None]*number_of_samples\n",
        "        self.all_files[::2]=positive_files\n",
        "        self.all_files[1::2]=negative_files \n",
        "        # The transform is goint to be used on image\n",
        "        self.transform = transform\n",
        "        #torch.LongTensor\n",
        "        self.Y=torch.zeros([number_of_samples]).type(torch.LongTensor)\n",
        "        self.Y[::2]=1\n",
        "        self.Y[1::2]=0\n",
        "        \n",
        "        if train:\n",
        "            self.all_files=self.all_files[0:30000]\n",
        "            self.Y=self.Y[0:30000]\n",
        "            self.len=len(self.all_files)\n",
        "        else:\n",
        "            self.all_files=self.all_files[30000:]\n",
        "            self.Y=self.Y[30000:]\n",
        "            self.len=len(self.all_files)     \n",
        "       \n",
        "    # Get the length\n",
        "    def __len__(self):\n",
        "        return self.len\n",
        "    \n",
        "    # Getter\n",
        "    def __getitem__(self, idx):\n",
        "               \n",
        "        image=torch.load(self.all_files[idx])\n",
        "        y=self.Y[idx]\n",
        "                  \n",
        "        # If there is any transform method, apply it onto the image\n",
        "        if self.transform:\n",
        "            image = self.transform(image)\n",
        "\n",
        "        return image, y\n",
        "    \n",
        "print(\"done\")"
      ]
    },
    {
      "cell_type": "markdown",
      "metadata": {
        "id": "ENuz55E1ao9C"
      },
      "source": [
        "We create two dataset objects, one for the training data and one for the validation data.\n"
      ]
    },
    {
      "cell_type": "code",
      "execution_count": null,
      "metadata": {
        "colab": {
          "base_uri": "https://localhost:8080/"
        },
        "id": "3eQ1GZanao9D",
        "outputId": "89adca3d-559e-44b7-f0df-b4f197dcb49b"
      },
      "outputs": [
        {
          "output_type": "stream",
          "name": "stdout",
          "text": [
            "done\n"
          ]
        }
      ],
      "source": [
        "train_dataset = Dataset(train=True)\n",
        "validation_dataset = Dataset(train=False)\n",
        "print(\"done\")"
      ]
    },
    {
      "cell_type": "code",
      "execution_count": null,
      "metadata": {
        "colab": {
          "base_uri": "https://localhost:8080/"
        },
        "id": "Irpdjl2inRI0",
        "outputId": "5441b6ed-5264-413d-948a-aecced7da89d"
      },
      "outputs": [
        {
          "output_type": "stream",
          "name": "stdout",
          "text": [
            "PyTorch version :  1.11.0+cu113\n"
          ]
        }
      ],
      "source": [
        "print(\"PyTorch version : \", torch.__version__)\n"
      ]
    },
    {
      "cell_type": "code",
      "execution_count": null,
      "metadata": {
        "id": "NdQWcw79nTkh"
      },
      "outputs": [],
      "source": [
        "def get_default_device():\n",
        "  \"\"\" Pick GPU if available else CPU. In Google Colab, we should change parameter \"Hardware Accelerator\" in menu item \"Edit > Notebook Settings\"\n",
        "  \"\"\"\n",
        "  if torch.cuda.is_available():  \n",
        "    print(\"Using GPU\")\n",
        "    return torch.device(\"cuda\")  \n",
        "\n",
        "  print(\"Using CPU\")\n",
        "  return torch.device(\"cpu\")\n",
        "# end def\n"
      ]
    },
    {
      "cell_type": "code",
      "execution_count": null,
      "metadata": {
        "colab": {
          "base_uri": "https://localhost:8080/"
        },
        "id": "Tzhsft6tneLT",
        "outputId": "1670aeda-f1ec-4de5-a5c8-e21370087e80"
      },
      "outputs": [
        {
          "output_type": "stream",
          "name": "stdout",
          "text": [
            "Using CPU\n"
          ]
        }
      ],
      "source": [
        "\n",
        "use_cuda = True  # Use GPU\n",
        "device = torch.device(\"cpu\")\n",
        "if use_cuda:\n",
        "  device = get_default_device()"
      ]
    },
    {
      "cell_type": "code",
      "execution_count": null,
      "metadata": {
        "id": "59RHbqB7netT"
      },
      "outputs": [],
      "source": [
        ""
      ]
    },
    {
      "cell_type": "markdown",
      "metadata": {
        "id": "8eUJElgSao9D"
      },
      "source": [
        "<h2 id=\"Question_1\">Question 1</h2>\n"
      ]
    },
    {
      "cell_type": "code",
      "execution_count": null,
      "metadata": {
        "id": "nWJnmrrOndbk"
      },
      "outputs": [],
      "source": [
        ""
      ]
    },
    {
      "cell_type": "markdown",
      "metadata": {
        "id": "9i3iqk67ao9D"
      },
      "source": [
        "<b>Prepare a pre-trained resnet18 model :</b>\n"
      ]
    },
    {
      "cell_type": "markdown",
      "metadata": {
        "id": "z28330thao9E"
      },
      "source": [
        "<b>Step 1</b>: Load the pre-trained model <code>resnet18</code> Set the parameter <code>pretrained</code> to true:\n"
      ]
    },
    {
      "cell_type": "code",
      "execution_count": null,
      "metadata": {
        "colab": {
          "base_uri": "https://localhost:8080/",
          "height": 66,
          "referenced_widgets": [
            "5ceae1cd73bb4933a8408d96c8dbc0d7",
            "c268d1f96821433db086f88277a13e5a",
            "41fc70b3824f491da613787ef9d2974b",
            "9ececd2ff630414e85062b3d1626f8b5",
            "05b0871a57114dcfbb7ebb37859adc8b",
            "9c00dbce81394dc7b9128d6d5cae90cb",
            "faf2bc7d160b442c91434eb2852220fd",
            "a7505f0748a145a5999db67af6ca4a59",
            "18d61b080bb84875a3ca19eb5a4d25c1",
            "10ff2549d16d4a5c8308eb1bfd3b5839",
            "2a2a04a63d7e47c99c2cf15673100032"
          ]
        },
        "id": "O3LK8k3iao9E",
        "outputId": "9d576589-5e60-4216-d447-1a4faf1e1a6d"
      },
      "outputs": [
        {
          "output_type": "stream",
          "name": "stderr",
          "text": [
            "Downloading: \"https://download.pytorch.org/models/resnet18-f37072fd.pth\" to /root/.cache/torch/hub/checkpoints/resnet18-f37072fd.pth\n"
          ]
        },
        {
          "output_type": "display_data",
          "data": {
            "text/plain": [
              "  0%|          | 0.00/44.7M [00:00<?, ?B/s]"
            ],
            "application/vnd.jupyter.widget-view+json": {
              "version_major": 2,
              "version_minor": 0,
              "model_id": "5ceae1cd73bb4933a8408d96c8dbc0d7"
            }
          },
          "metadata": {}
        }
      ],
      "source": [
        "# Step 1: Load the pre-trained model resnet18\n",
        "\n",
        "# Type your code here\n",
        "import torchvision.models as models\n",
        "\n",
        "model = models.resnet18(pretrained=True)\n"
      ]
    },
    {
      "cell_type": "markdown",
      "metadata": {
        "id": "0uBl7IrDao9E"
      },
      "source": [
        "<b>Step 2</b>: Set the attribute <code>requires_grad</code> to <code>False</code>. As a result, the parameters will not be affected by training.\n"
      ]
    },
    {
      "cell_type": "code",
      "execution_count": null,
      "metadata": {
        "colab": {
          "base_uri": "https://localhost:8080/"
        },
        "id": "ipmkvHmtao9F",
        "outputId": "e50ec48f-9f53-4add-9dd7-7d5d65cace65"
      },
      "outputs": [
        {
          "output_type": "execute_result",
          "data": {
            "text/plain": [
              "ResNet(\n",
              "  (conv1): Conv2d(3, 64, kernel_size=(7, 7), stride=(2, 2), padding=(3, 3), bias=False)\n",
              "  (bn1): BatchNorm2d(64, eps=1e-05, momentum=0.1, affine=True, track_running_stats=True)\n",
              "  (relu): ReLU(inplace=True)\n",
              "  (maxpool): MaxPool2d(kernel_size=3, stride=2, padding=1, dilation=1, ceil_mode=False)\n",
              "  (layer1): Sequential(\n",
              "    (0): BasicBlock(\n",
              "      (conv1): Conv2d(64, 64, kernel_size=(3, 3), stride=(1, 1), padding=(1, 1), bias=False)\n",
              "      (bn1): BatchNorm2d(64, eps=1e-05, momentum=0.1, affine=True, track_running_stats=True)\n",
              "      (relu): ReLU(inplace=True)\n",
              "      (conv2): Conv2d(64, 64, kernel_size=(3, 3), stride=(1, 1), padding=(1, 1), bias=False)\n",
              "      (bn2): BatchNorm2d(64, eps=1e-05, momentum=0.1, affine=True, track_running_stats=True)\n",
              "    )\n",
              "    (1): BasicBlock(\n",
              "      (conv1): Conv2d(64, 64, kernel_size=(3, 3), stride=(1, 1), padding=(1, 1), bias=False)\n",
              "      (bn1): BatchNorm2d(64, eps=1e-05, momentum=0.1, affine=True, track_running_stats=True)\n",
              "      (relu): ReLU(inplace=True)\n",
              "      (conv2): Conv2d(64, 64, kernel_size=(3, 3), stride=(1, 1), padding=(1, 1), bias=False)\n",
              "      (bn2): BatchNorm2d(64, eps=1e-05, momentum=0.1, affine=True, track_running_stats=True)\n",
              "    )\n",
              "  )\n",
              "  (layer2): Sequential(\n",
              "    (0): BasicBlock(\n",
              "      (conv1): Conv2d(64, 128, kernel_size=(3, 3), stride=(2, 2), padding=(1, 1), bias=False)\n",
              "      (bn1): BatchNorm2d(128, eps=1e-05, momentum=0.1, affine=True, track_running_stats=True)\n",
              "      (relu): ReLU(inplace=True)\n",
              "      (conv2): Conv2d(128, 128, kernel_size=(3, 3), stride=(1, 1), padding=(1, 1), bias=False)\n",
              "      (bn2): BatchNorm2d(128, eps=1e-05, momentum=0.1, affine=True, track_running_stats=True)\n",
              "      (downsample): Sequential(\n",
              "        (0): Conv2d(64, 128, kernel_size=(1, 1), stride=(2, 2), bias=False)\n",
              "        (1): BatchNorm2d(128, eps=1e-05, momentum=0.1, affine=True, track_running_stats=True)\n",
              "      )\n",
              "    )\n",
              "    (1): BasicBlock(\n",
              "      (conv1): Conv2d(128, 128, kernel_size=(3, 3), stride=(1, 1), padding=(1, 1), bias=False)\n",
              "      (bn1): BatchNorm2d(128, eps=1e-05, momentum=0.1, affine=True, track_running_stats=True)\n",
              "      (relu): ReLU(inplace=True)\n",
              "      (conv2): Conv2d(128, 128, kernel_size=(3, 3), stride=(1, 1), padding=(1, 1), bias=False)\n",
              "      (bn2): BatchNorm2d(128, eps=1e-05, momentum=0.1, affine=True, track_running_stats=True)\n",
              "    )\n",
              "  )\n",
              "  (layer3): Sequential(\n",
              "    (0): BasicBlock(\n",
              "      (conv1): Conv2d(128, 256, kernel_size=(3, 3), stride=(2, 2), padding=(1, 1), bias=False)\n",
              "      (bn1): BatchNorm2d(256, eps=1e-05, momentum=0.1, affine=True, track_running_stats=True)\n",
              "      (relu): ReLU(inplace=True)\n",
              "      (conv2): Conv2d(256, 256, kernel_size=(3, 3), stride=(1, 1), padding=(1, 1), bias=False)\n",
              "      (bn2): BatchNorm2d(256, eps=1e-05, momentum=0.1, affine=True, track_running_stats=True)\n",
              "      (downsample): Sequential(\n",
              "        (0): Conv2d(128, 256, kernel_size=(1, 1), stride=(2, 2), bias=False)\n",
              "        (1): BatchNorm2d(256, eps=1e-05, momentum=0.1, affine=True, track_running_stats=True)\n",
              "      )\n",
              "    )\n",
              "    (1): BasicBlock(\n",
              "      (conv1): Conv2d(256, 256, kernel_size=(3, 3), stride=(1, 1), padding=(1, 1), bias=False)\n",
              "      (bn1): BatchNorm2d(256, eps=1e-05, momentum=0.1, affine=True, track_running_stats=True)\n",
              "      (relu): ReLU(inplace=True)\n",
              "      (conv2): Conv2d(256, 256, kernel_size=(3, 3), stride=(1, 1), padding=(1, 1), bias=False)\n",
              "      (bn2): BatchNorm2d(256, eps=1e-05, momentum=0.1, affine=True, track_running_stats=True)\n",
              "    )\n",
              "  )\n",
              "  (layer4): Sequential(\n",
              "    (0): BasicBlock(\n",
              "      (conv1): Conv2d(256, 512, kernel_size=(3, 3), stride=(2, 2), padding=(1, 1), bias=False)\n",
              "      (bn1): BatchNorm2d(512, eps=1e-05, momentum=0.1, affine=True, track_running_stats=True)\n",
              "      (relu): ReLU(inplace=True)\n",
              "      (conv2): Conv2d(512, 512, kernel_size=(3, 3), stride=(1, 1), padding=(1, 1), bias=False)\n",
              "      (bn2): BatchNorm2d(512, eps=1e-05, momentum=0.1, affine=True, track_running_stats=True)\n",
              "      (downsample): Sequential(\n",
              "        (0): Conv2d(256, 512, kernel_size=(1, 1), stride=(2, 2), bias=False)\n",
              "        (1): BatchNorm2d(512, eps=1e-05, momentum=0.1, affine=True, track_running_stats=True)\n",
              "      )\n",
              "    )\n",
              "    (1): BasicBlock(\n",
              "      (conv1): Conv2d(512, 512, kernel_size=(3, 3), stride=(1, 1), padding=(1, 1), bias=False)\n",
              "      (bn1): BatchNorm2d(512, eps=1e-05, momentum=0.1, affine=True, track_running_stats=True)\n",
              "      (relu): ReLU(inplace=True)\n",
              "      (conv2): Conv2d(512, 512, kernel_size=(3, 3), stride=(1, 1), padding=(1, 1), bias=False)\n",
              "      (bn2): BatchNorm2d(512, eps=1e-05, momentum=0.1, affine=True, track_running_stats=True)\n",
              "    )\n",
              "  )\n",
              "  (avgpool): AdaptiveAvgPool2d(output_size=(1, 1))\n",
              "  (fc): Linear(in_features=512, out_features=1000, bias=True)\n",
              ")"
            ]
          },
          "metadata": {},
          "execution_count": 15
        }
      ],
      "source": [
        "# Step 2: Set the parameter cannot be trained for the pre-trained model\n",
        "\n",
        "\n",
        "model = model.to(device)\n",
        "model\n"
      ]
    },
    {
      "cell_type": "code",
      "execution_count": null,
      "metadata": {
        "id": "ioypRuC7p5tl"
      },
      "outputs": [],
      "source": [
        "for param in model.parameters():\n",
        "    param.requires_grad = False"
      ]
    },
    {
      "cell_type": "markdown",
      "metadata": {
        "id": "e79jauFXao9F"
      },
      "source": [
        "<code>resnet18</code> is used to classify 1000 different objects; as a result, the last layer has 1000 outputs.  The 512 inputs come from the fact that the previously hidden layer has 512 outputs.\n"
      ]
    },
    {
      "cell_type": "markdown",
      "metadata": {
        "id": "Fk6KFbRZao9G"
      },
      "source": [
        "<b>Step 3</b>: Replace the output layer <code>model.fc</code> of the neural network with a <code>nn.Linear</code> object, to classify 2 different classes. For the parameters <code>in_features </code> remember the last hidden layer has 512 neurons.\n"
      ]
    },
    {
      "cell_type": "code",
      "execution_count": null,
      "metadata": {
        "id": "Rt-zi6fjao9G"
      },
      "outputs": [],
      "source": [
        "# Dimension of last layer\n",
        "d_hidden = 512\n",
        "d_out = 2\n",
        "\n",
        "model.fc = nn.Linear(d_hidden, d_out)  # replace the output layer"
      ]
    },
    {
      "cell_type": "markdown",
      "metadata": {
        "id": "Ft7YWtX5ao9H"
      },
      "source": [
        "Print out the model in order to show whether you get the correct answer.<br> <b>(Your peer reviewer is going to mark based on what you print here.)</b>\n"
      ]
    },
    {
      "cell_type": "code",
      "execution_count": null,
      "metadata": {
        "colab": {
          "base_uri": "https://localhost:8080/"
        },
        "id": "Vi3KgD-pao9I",
        "outputId": "5ae00483-341d-4931-dc9a-805302a354e4"
      },
      "outputs": [
        {
          "output_type": "stream",
          "name": "stdout",
          "text": [
            "ResNet(\n",
            "  (conv1): Conv2d(3, 64, kernel_size=(7, 7), stride=(2, 2), padding=(3, 3), bias=False)\n",
            "  (bn1): BatchNorm2d(64, eps=1e-05, momentum=0.1, affine=True, track_running_stats=True)\n",
            "  (relu): ReLU(inplace=True)\n",
            "  (maxpool): MaxPool2d(kernel_size=3, stride=2, padding=1, dilation=1, ceil_mode=False)\n",
            "  (layer1): Sequential(\n",
            "    (0): BasicBlock(\n",
            "      (conv1): Conv2d(64, 64, kernel_size=(3, 3), stride=(1, 1), padding=(1, 1), bias=False)\n",
            "      (bn1): BatchNorm2d(64, eps=1e-05, momentum=0.1, affine=True, track_running_stats=True)\n",
            "      (relu): ReLU(inplace=True)\n",
            "      (conv2): Conv2d(64, 64, kernel_size=(3, 3), stride=(1, 1), padding=(1, 1), bias=False)\n",
            "      (bn2): BatchNorm2d(64, eps=1e-05, momentum=0.1, affine=True, track_running_stats=True)\n",
            "    )\n",
            "    (1): BasicBlock(\n",
            "      (conv1): Conv2d(64, 64, kernel_size=(3, 3), stride=(1, 1), padding=(1, 1), bias=False)\n",
            "      (bn1): BatchNorm2d(64, eps=1e-05, momentum=0.1, affine=True, track_running_stats=True)\n",
            "      (relu): ReLU(inplace=True)\n",
            "      (conv2): Conv2d(64, 64, kernel_size=(3, 3), stride=(1, 1), padding=(1, 1), bias=False)\n",
            "      (bn2): BatchNorm2d(64, eps=1e-05, momentum=0.1, affine=True, track_running_stats=True)\n",
            "    )\n",
            "  )\n",
            "  (layer2): Sequential(\n",
            "    (0): BasicBlock(\n",
            "      (conv1): Conv2d(64, 128, kernel_size=(3, 3), stride=(2, 2), padding=(1, 1), bias=False)\n",
            "      (bn1): BatchNorm2d(128, eps=1e-05, momentum=0.1, affine=True, track_running_stats=True)\n",
            "      (relu): ReLU(inplace=True)\n",
            "      (conv2): Conv2d(128, 128, kernel_size=(3, 3), stride=(1, 1), padding=(1, 1), bias=False)\n",
            "      (bn2): BatchNorm2d(128, eps=1e-05, momentum=0.1, affine=True, track_running_stats=True)\n",
            "      (downsample): Sequential(\n",
            "        (0): Conv2d(64, 128, kernel_size=(1, 1), stride=(2, 2), bias=False)\n",
            "        (1): BatchNorm2d(128, eps=1e-05, momentum=0.1, affine=True, track_running_stats=True)\n",
            "      )\n",
            "    )\n",
            "    (1): BasicBlock(\n",
            "      (conv1): Conv2d(128, 128, kernel_size=(3, 3), stride=(1, 1), padding=(1, 1), bias=False)\n",
            "      (bn1): BatchNorm2d(128, eps=1e-05, momentum=0.1, affine=True, track_running_stats=True)\n",
            "      (relu): ReLU(inplace=True)\n",
            "      (conv2): Conv2d(128, 128, kernel_size=(3, 3), stride=(1, 1), padding=(1, 1), bias=False)\n",
            "      (bn2): BatchNorm2d(128, eps=1e-05, momentum=0.1, affine=True, track_running_stats=True)\n",
            "    )\n",
            "  )\n",
            "  (layer3): Sequential(\n",
            "    (0): BasicBlock(\n",
            "      (conv1): Conv2d(128, 256, kernel_size=(3, 3), stride=(2, 2), padding=(1, 1), bias=False)\n",
            "      (bn1): BatchNorm2d(256, eps=1e-05, momentum=0.1, affine=True, track_running_stats=True)\n",
            "      (relu): ReLU(inplace=True)\n",
            "      (conv2): Conv2d(256, 256, kernel_size=(3, 3), stride=(1, 1), padding=(1, 1), bias=False)\n",
            "      (bn2): BatchNorm2d(256, eps=1e-05, momentum=0.1, affine=True, track_running_stats=True)\n",
            "      (downsample): Sequential(\n",
            "        (0): Conv2d(128, 256, kernel_size=(1, 1), stride=(2, 2), bias=False)\n",
            "        (1): BatchNorm2d(256, eps=1e-05, momentum=0.1, affine=True, track_running_stats=True)\n",
            "      )\n",
            "    )\n",
            "    (1): BasicBlock(\n",
            "      (conv1): Conv2d(256, 256, kernel_size=(3, 3), stride=(1, 1), padding=(1, 1), bias=False)\n",
            "      (bn1): BatchNorm2d(256, eps=1e-05, momentum=0.1, affine=True, track_running_stats=True)\n",
            "      (relu): ReLU(inplace=True)\n",
            "      (conv2): Conv2d(256, 256, kernel_size=(3, 3), stride=(1, 1), padding=(1, 1), bias=False)\n",
            "      (bn2): BatchNorm2d(256, eps=1e-05, momentum=0.1, affine=True, track_running_stats=True)\n",
            "    )\n",
            "  )\n",
            "  (layer4): Sequential(\n",
            "    (0): BasicBlock(\n",
            "      (conv1): Conv2d(256, 512, kernel_size=(3, 3), stride=(2, 2), padding=(1, 1), bias=False)\n",
            "      (bn1): BatchNorm2d(512, eps=1e-05, momentum=0.1, affine=True, track_running_stats=True)\n",
            "      (relu): ReLU(inplace=True)\n",
            "      (conv2): Conv2d(512, 512, kernel_size=(3, 3), stride=(1, 1), padding=(1, 1), bias=False)\n",
            "      (bn2): BatchNorm2d(512, eps=1e-05, momentum=0.1, affine=True, track_running_stats=True)\n",
            "      (downsample): Sequential(\n",
            "        (0): Conv2d(256, 512, kernel_size=(1, 1), stride=(2, 2), bias=False)\n",
            "        (1): BatchNorm2d(512, eps=1e-05, momentum=0.1, affine=True, track_running_stats=True)\n",
            "      )\n",
            "    )\n",
            "    (1): BasicBlock(\n",
            "      (conv1): Conv2d(512, 512, kernel_size=(3, 3), stride=(1, 1), padding=(1, 1), bias=False)\n",
            "      (bn1): BatchNorm2d(512, eps=1e-05, momentum=0.1, affine=True, track_running_stats=True)\n",
            "      (relu): ReLU(inplace=True)\n",
            "      (conv2): Conv2d(512, 512, kernel_size=(3, 3), stride=(1, 1), padding=(1, 1), bias=False)\n",
            "      (bn2): BatchNorm2d(512, eps=1e-05, momentum=0.1, affine=True, track_running_stats=True)\n",
            "    )\n",
            "  )\n",
            "  (avgpool): AdaptiveAvgPool2d(output_size=(1, 1))\n",
            "  (fc): Linear(in_features=512, out_features=2, bias=True)\n",
            ")\n"
          ]
        }
      ],
      "source": [
        "print(model)"
      ]
    },
    {
      "cell_type": "markdown",
      "metadata": {
        "id": "MXuSXJtbao9J"
      },
      "source": [
        "<h2 id=\"Question_2\">Question 2: Train the Model</h2>\n"
      ]
    },
    {
      "cell_type": "markdown",
      "metadata": {
        "id": "Mxd6O2-Eao9K"
      },
      "source": [
        "In this question you will train your, model:\n"
      ]
    },
    {
      "cell_type": "markdown",
      "metadata": {
        "id": "rhdHfPRsao9K"
      },
      "source": [
        "<b>Step 1</b>: Create a cross entropy criterion function\n"
      ]
    },
    {
      "cell_type": "code",
      "execution_count": null,
      "metadata": {
        "id": "CWZgDriNao9L"
      },
      "outputs": [],
      "source": [
        "# Step 1: Create the loss function\n",
        "\n",
        "criterion = nn.CrossEntropyLoss()\n"
      ]
    },
    {
      "cell_type": "markdown",
      "metadata": {
        "id": "3ZlJwJQxao9L"
      },
      "source": [
        "<b>Step 2</b>: Create a training loader and validation loader object, the batch size should have 100 samples each.\n"
      ]
    },
    {
      "cell_type": "code",
      "execution_count": null,
      "metadata": {
        "id": "o82hAqUrao9L"
      },
      "outputs": [],
      "source": [
        "batch_size = 100\n",
        "\n",
        "train_loader = torch.utils.data.DataLoader(dataset=train_dataset, batch_size=batch_size)\n",
        "validation_loader = torch.utils.data.DataLoader(dataset=validation_dataset, batch_size=batch_size)"
      ]
    },
    {
      "cell_type": "markdown",
      "metadata": {
        "id": "kxzRPh-fao9M"
      },
      "source": [
        "<b>Step 3</b>: Use the following optimizer to minimize the loss\n"
      ]
    },
    {
      "cell_type": "code",
      "execution_count": null,
      "metadata": {
        "id": "aezsZlSnao9M"
      },
      "outputs": [],
      "source": [
        "optimizer = torch.optim.Adam([parameters  for parameters in model.parameters() if parameters.requires_grad],lr=0.001)"
      ]
    },
    {
      "cell_type": "markdown",
      "metadata": {
        "id": "UVsShvigao9N"
      },
      "source": [
        "<!--Empty Space for separating topics-->\n"
      ]
    },
    {
      "cell_type": "markdown",
      "metadata": {
        "id": "xlziJ1VBao9N"
      },
      "source": [
        "**Complete the following code to calculate  the accuracy on the validation data for one epoch; this should take about 45 minutes. Make sure you calculate the accuracy on the validation data.**\n"
      ]
    },
    {
      "cell_type": "code",
      "execution_count": null,
      "metadata": {
        "colab": {
          "base_uri": "https://localhost:8080/",
          "height": 1000
        },
        "id": "BIY5EWJ-ao9O",
        "outputId": "4e4ab777-e5ea-4236-eca6-072f3b15a2dc"
      },
      "outputs": [
        {
          "output_type": "stream",
          "name": "stdout",
          "text": [
            "Number of items in training set :  30000\n",
            "Number of items in testing set :  10000\n",
            "------------------------------\n",
            "Iteration (train phase) 1/300\n",
            "Finished in 12.195298194885254 (s)\n",
            "------------------------------\n",
            "Iteration (train phase) 2/300\n",
            "Finished in 9.594351053237915 (s)\n",
            "------------------------------\n",
            "Iteration (train phase) 3/300\n",
            "Finished in 8.921295642852783 (s)\n",
            "------------------------------\n",
            "Iteration (train phase) 4/300\n",
            "Finished in 8.672719955444336 (s)\n",
            "------------------------------\n",
            "Iteration (train phase) 5/300\n",
            "Finished in 8.709271907806396 (s)\n",
            "------------------------------\n",
            "Iteration (train phase) 6/300\n",
            "Finished in 8.781465768814087 (s)\n",
            "------------------------------\n",
            "Iteration (train phase) 7/300\n",
            "Finished in 8.88674020767212 (s)\n",
            "------------------------------\n",
            "Iteration (train phase) 8/300\n",
            "Finished in 8.714310884475708 (s)\n",
            "------------------------------\n",
            "Iteration (train phase) 9/300\n",
            "Finished in 8.687001466751099 (s)\n",
            "------------------------------\n",
            "Iteration (train phase) 10/300\n",
            "Finished in 8.66031789779663 (s)\n",
            "------------------------------\n",
            "Iteration (train phase) 11/300\n",
            "Finished in 8.825045585632324 (s)\n",
            "------------------------------\n",
            "Iteration (train phase) 12/300\n",
            "Finished in 8.697976112365723 (s)\n",
            "------------------------------\n",
            "Iteration (train phase) 13/300\n",
            "Finished in 8.668145895004272 (s)\n",
            "------------------------------\n",
            "Iteration (train phase) 14/300\n",
            "Finished in 8.6922128200531 (s)\n",
            "------------------------------\n",
            "Iteration (train phase) 15/300\n",
            "Finished in 8.736953735351562 (s)\n",
            "------------------------------\n",
            "Iteration (train phase) 16/300\n",
            "Finished in 8.69132113456726 (s)\n",
            "------------------------------\n",
            "Iteration (train phase) 17/300\n",
            "Finished in 8.73174786567688 (s)\n",
            "------------------------------\n",
            "Iteration (train phase) 18/300\n",
            "Finished in 8.7390456199646 (s)\n",
            "------------------------------\n",
            "Iteration (train phase) 19/300\n",
            "Finished in 8.75974726676941 (s)\n",
            "------------------------------\n",
            "Iteration (train phase) 20/300\n",
            "Finished in 8.704132795333862 (s)\n",
            "------------------------------\n",
            "Iteration (train phase) 21/300\n",
            "Finished in 8.870695114135742 (s)\n",
            "------------------------------\n",
            "Iteration (train phase) 22/300\n",
            "Finished in 8.773640632629395 (s)\n",
            "------------------------------\n",
            "Iteration (train phase) 23/300\n",
            "Finished in 8.751880407333374 (s)\n",
            "------------------------------\n",
            "Iteration (train phase) 24/300\n",
            "Finished in 8.738988637924194 (s)\n",
            "------------------------------\n",
            "Iteration (train phase) 25/300\n",
            "Finished in 8.810426950454712 (s)\n",
            "------------------------------\n",
            "Iteration (train phase) 26/300\n",
            "Finished in 8.68179988861084 (s)\n",
            "------------------------------\n",
            "Iteration (train phase) 27/300\n",
            "Finished in 8.803683757781982 (s)\n",
            "------------------------------\n",
            "Iteration (train phase) 28/300\n",
            "Finished in 8.76304030418396 (s)\n",
            "------------------------------\n",
            "Iteration (train phase) 29/300\n",
            "Finished in 8.705737352371216 (s)\n",
            "------------------------------\n",
            "Iteration (train phase) 30/300\n",
            "Finished in 8.736069917678833 (s)\n",
            "------------------------------\n",
            "Iteration (train phase) 31/300\n",
            "Finished in 8.69772219657898 (s)\n",
            "------------------------------\n",
            "Iteration (train phase) 32/300\n",
            "Finished in 8.69422197341919 (s)\n",
            "------------------------------\n",
            "Iteration (train phase) 33/300\n",
            "Finished in 8.682742357254028 (s)\n",
            "------------------------------\n",
            "Iteration (train phase) 34/300\n",
            "Finished in 8.771062850952148 (s)\n",
            "------------------------------\n",
            "Iteration (train phase) 35/300\n",
            "Finished in 8.737921714782715 (s)\n",
            "------------------------------\n",
            "Iteration (train phase) 36/300\n",
            "Finished in 8.661484241485596 (s)\n",
            "------------------------------\n",
            "Iteration (train phase) 37/300\n",
            "Finished in 8.734371185302734 (s)\n",
            "------------------------------\n",
            "Iteration (train phase) 38/300\n",
            "Finished in 8.744691133499146 (s)\n",
            "------------------------------\n",
            "Iteration (train phase) 39/300\n",
            "Finished in 8.652291774749756 (s)\n",
            "------------------------------\n",
            "Iteration (train phase) 40/300\n",
            "Finished in 8.803983449935913 (s)\n",
            "------------------------------\n",
            "Iteration (train phase) 41/300\n",
            "Finished in 8.70262336730957 (s)\n",
            "------------------------------\n",
            "Iteration (train phase) 42/300\n",
            "Finished in 8.708003282546997 (s)\n",
            "------------------------------\n",
            "Iteration (train phase) 43/300\n",
            "Finished in 8.72854995727539 (s)\n",
            "------------------------------\n",
            "Iteration (train phase) 44/300\n",
            "Finished in 8.685104131698608 (s)\n",
            "------------------------------\n",
            "Iteration (train phase) 45/300\n",
            "Finished in 8.664556741714478 (s)\n",
            "------------------------------\n",
            "Iteration (train phase) 46/300\n",
            "Finished in 8.78200626373291 (s)\n",
            "------------------------------\n",
            "Iteration (train phase) 47/300\n",
            "Finished in 8.692750453948975 (s)\n",
            "------------------------------\n",
            "Iteration (train phase) 48/300\n",
            "Finished in 8.694125413894653 (s)\n",
            "------------------------------\n",
            "Iteration (train phase) 49/300\n",
            "Finished in 8.707020282745361 (s)\n",
            "------------------------------\n",
            "Iteration (train phase) 50/300\n",
            "Finished in 8.64493179321289 (s)\n",
            "------------------------------\n",
            "Iteration (train phase) 51/300\n",
            "Finished in 8.657488584518433 (s)\n",
            "------------------------------\n",
            "Iteration (train phase) 52/300\n",
            "Finished in 8.670779943466187 (s)\n",
            "------------------------------\n",
            "Iteration (train phase) 53/300\n",
            "Finished in 8.659892320632935 (s)\n",
            "------------------------------\n",
            "Iteration (train phase) 54/300\n",
            "Finished in 8.655856847763062 (s)\n",
            "------------------------------\n",
            "Iteration (train phase) 55/300\n",
            "Finished in 8.695366144180298 (s)\n",
            "------------------------------\n",
            "Iteration (train phase) 56/300\n",
            "Finished in 8.623072385787964 (s)\n",
            "------------------------------\n",
            "Iteration (train phase) 57/300\n",
            "Finished in 8.645435094833374 (s)\n",
            "------------------------------\n",
            "Iteration (train phase) 58/300\n",
            "Finished in 8.638047695159912 (s)\n",
            "------------------------------\n",
            "Iteration (train phase) 59/300\n",
            "Finished in 8.69840669631958 (s)\n",
            "------------------------------\n",
            "Iteration (train phase) 60/300\n",
            "Finished in 8.599684238433838 (s)\n",
            "------------------------------\n",
            "Iteration (train phase) 61/300\n",
            "Finished in 8.642266750335693 (s)\n",
            "------------------------------\n",
            "Iteration (train phase) 62/300\n",
            "Finished in 8.65091323852539 (s)\n",
            "------------------------------\n",
            "Iteration (train phase) 63/300\n",
            "Finished in 8.711316108703613 (s)\n",
            "------------------------------\n",
            "Iteration (train phase) 64/300\n",
            "Finished in 9.45586609840393 (s)\n",
            "------------------------------\n",
            "Iteration (train phase) 65/300\n",
            "Finished in 11.282599210739136 (s)\n",
            "------------------------------\n",
            "Iteration (train phase) 66/300\n",
            "Finished in 8.91129755973816 (s)\n",
            "------------------------------\n",
            "Iteration (train phase) 67/300\n",
            "Finished in 8.671193838119507 (s)\n",
            "------------------------------\n",
            "Iteration (train phase) 68/300\n",
            "Finished in 8.764394521713257 (s)\n",
            "------------------------------\n",
            "Iteration (train phase) 69/300\n",
            "Finished in 8.722841501235962 (s)\n",
            "------------------------------\n",
            "Iteration (train phase) 70/300\n",
            "Finished in 8.685471296310425 (s)\n",
            "------------------------------\n",
            "Iteration (train phase) 71/300\n",
            "Finished in 8.75809907913208 (s)\n",
            "------------------------------\n",
            "Iteration (train phase) 72/300\n",
            "Finished in 8.730386734008789 (s)\n",
            "------------------------------\n",
            "Iteration (train phase) 73/300\n",
            "Finished in 8.741934299468994 (s)\n",
            "------------------------------\n",
            "Iteration (train phase) 74/300\n",
            "Finished in 8.811087846755981 (s)\n",
            "------------------------------\n",
            "Iteration (train phase) 75/300\n",
            "Finished in 8.766173124313354 (s)\n",
            "------------------------------\n",
            "Iteration (train phase) 76/300\n",
            "Finished in 8.595676183700562 (s)\n",
            "------------------------------\n",
            "Iteration (train phase) 77/300\n",
            "Finished in 8.70445442199707 (s)\n",
            "------------------------------\n",
            "Iteration (train phase) 78/300\n",
            "Finished in 8.641116380691528 (s)\n",
            "------------------------------\n",
            "Iteration (train phase) 79/300\n",
            "Finished in 8.668771266937256 (s)\n",
            "------------------------------\n",
            "Iteration (train phase) 80/300\n",
            "Finished in 8.620163679122925 (s)\n",
            "------------------------------\n",
            "Iteration (train phase) 81/300\n",
            "Finished in 8.711910963058472 (s)\n",
            "------------------------------\n",
            "Iteration (train phase) 82/300\n",
            "Finished in 8.6760892868042 (s)\n",
            "------------------------------\n",
            "Iteration (train phase) 83/300\n",
            "Finished in 8.686702966690063 (s)\n",
            "------------------------------\n",
            "Iteration (train phase) 84/300\n",
            "Finished in 8.712120294570923 (s)\n",
            "------------------------------\n",
            "Iteration (train phase) 85/300\n",
            "Finished in 8.66137409210205 (s)\n",
            "------------------------------\n",
            "Iteration (train phase) 86/300\n",
            "Finished in 8.646662950515747 (s)\n",
            "------------------------------\n",
            "Iteration (train phase) 87/300\n",
            "Finished in 8.647277116775513 (s)\n",
            "------------------------------\n",
            "Iteration (train phase) 88/300\n",
            "Finished in 8.662100553512573 (s)\n",
            "------------------------------\n",
            "Iteration (train phase) 89/300\n",
            "Finished in 8.728926420211792 (s)\n",
            "------------------------------\n",
            "Iteration (train phase) 90/300\n",
            "Finished in 8.76255202293396 (s)\n",
            "------------------------------\n",
            "Iteration (train phase) 91/300\n",
            "Finished in 8.636155843734741 (s)\n",
            "------------------------------\n",
            "Iteration (train phase) 92/300\n",
            "Finished in 8.62534785270691 (s)\n",
            "------------------------------\n",
            "Iteration (train phase) 93/300\n",
            "Finished in 8.647477626800537 (s)\n",
            "------------------------------\n",
            "Iteration (train phase) 94/300\n",
            "Finished in 8.681256771087646 (s)\n",
            "------------------------------\n",
            "Iteration (train phase) 95/300\n",
            "Finished in 8.655093908309937 (s)\n",
            "------------------------------\n",
            "Iteration (train phase) 96/300\n",
            "Finished in 8.826026916503906 (s)\n",
            "------------------------------\n",
            "Iteration (train phase) 97/300\n",
            "Finished in 8.663431882858276 (s)\n",
            "------------------------------\n",
            "Iteration (train phase) 98/300\n",
            "Finished in 8.626009702682495 (s)\n",
            "------------------------------\n",
            "Iteration (train phase) 99/300\n",
            "Finished in 8.688941240310669 (s)\n",
            "------------------------------\n",
            "Iteration (train phase) 100/300\n",
            "Finished in 8.670243501663208 (s)\n",
            "------------------------------\n",
            "Iteration (train phase) 101/300\n",
            "Finished in 8.615262746810913 (s)\n",
            "------------------------------\n",
            "Iteration (train phase) 102/300\n",
            "Finished in 8.606441497802734 (s)\n",
            "------------------------------\n",
            "Iteration (train phase) 103/300\n",
            "Finished in 8.671414136886597 (s)\n",
            "------------------------------\n",
            "Iteration (train phase) 104/300\n",
            "Finished in 8.61073088645935 (s)\n",
            "------------------------------\n",
            "Iteration (train phase) 105/300\n",
            "Finished in 8.683372259140015 (s)\n",
            "------------------------------\n",
            "Iteration (train phase) 106/300\n",
            "Finished in 8.90440845489502 (s)\n",
            "------------------------------\n",
            "Iteration (train phase) 107/300\n",
            "Finished in 8.694140911102295 (s)\n",
            "------------------------------\n",
            "Iteration (train phase) 108/300\n",
            "Finished in 8.620628595352173 (s)\n",
            "------------------------------\n",
            "Iteration (train phase) 109/300\n",
            "Finished in 8.658953666687012 (s)\n",
            "------------------------------\n",
            "Iteration (train phase) 110/300\n",
            "Finished in 8.625863790512085 (s)\n",
            "------------------------------\n",
            "Iteration (train phase) 111/300\n",
            "Finished in 8.61567234992981 (s)\n",
            "------------------------------\n",
            "Iteration (train phase) 112/300\n",
            "Finished in 8.648168802261353 (s)\n",
            "------------------------------\n",
            "Iteration (train phase) 113/300\n",
            "Finished in 8.702239513397217 (s)\n",
            "------------------------------\n",
            "Iteration (train phase) 114/300\n",
            "Finished in 8.650603532791138 (s)\n",
            "------------------------------\n",
            "Iteration (train phase) 115/300\n",
            "Finished in 8.672192096710205 (s)\n",
            "------------------------------\n",
            "Iteration (train phase) 116/300\n",
            "Finished in 8.654015064239502 (s)\n",
            "------------------------------\n",
            "Iteration (train phase) 117/300\n",
            "Finished in 8.658309698104858 (s)\n",
            "------------------------------\n",
            "Iteration (train phase) 118/300\n",
            "Finished in 8.606137752532959 (s)\n",
            "------------------------------\n",
            "Iteration (train phase) 119/300\n",
            "Finished in 8.651087522506714 (s)\n",
            "------------------------------\n",
            "Iteration (train phase) 120/300\n",
            "Finished in 8.64345097541809 (s)\n",
            "------------------------------\n",
            "Iteration (train phase) 121/300\n",
            "Finished in 8.650599718093872 (s)\n",
            "------------------------------\n",
            "Iteration (train phase) 122/300\n",
            "Finished in 8.65885066986084 (s)\n",
            "------------------------------\n",
            "Iteration (train phase) 123/300\n",
            "Finished in 8.636558771133423 (s)\n",
            "------------------------------\n",
            "Iteration (train phase) 124/300\n",
            "Finished in 8.62635612487793 (s)\n",
            "------------------------------\n",
            "Iteration (train phase) 125/300\n",
            "Finished in 8.61825442314148 (s)\n",
            "------------------------------\n",
            "Iteration (train phase) 126/300\n",
            "Finished in 8.66875696182251 (s)\n",
            "------------------------------\n",
            "Iteration (train phase) 127/300\n",
            "Finished in 8.676378726959229 (s)\n",
            "------------------------------\n",
            "Iteration (train phase) 128/300\n",
            "Finished in 11.544983386993408 (s)\n",
            "------------------------------\n",
            "Iteration (train phase) 129/300\n",
            "Finished in 10.114783763885498 (s)\n",
            "------------------------------\n",
            "Iteration (train phase) 130/300\n",
            "Finished in 8.728844404220581 (s)\n",
            "------------------------------\n",
            "Iteration (train phase) 131/300\n",
            "Finished in 8.854272603988647 (s)\n",
            "------------------------------\n",
            "Iteration (train phase) 132/300\n",
            "Finished in 8.886749029159546 (s)\n",
            "------------------------------\n",
            "Iteration (train phase) 133/300\n",
            "Finished in 8.74366545677185 (s)\n",
            "------------------------------\n",
            "Iteration (train phase) 134/300\n",
            "Finished in 8.786820650100708 (s)\n",
            "------------------------------\n",
            "Iteration (train phase) 135/300\n",
            "Finished in 8.732482194900513 (s)\n",
            "------------------------------\n",
            "Iteration (train phase) 136/300\n",
            "Finished in 8.847262382507324 (s)\n",
            "------------------------------\n",
            "Iteration (train phase) 137/300\n",
            "Finished in 8.860618829727173 (s)\n",
            "------------------------------\n",
            "Iteration (train phase) 138/300\n",
            "Finished in 8.862820625305176 (s)\n",
            "------------------------------\n",
            "Iteration (train phase) 139/300\n",
            "Finished in 8.740169763565063 (s)\n",
            "------------------------------\n",
            "Iteration (train phase) 140/300\n",
            "Finished in 8.943040609359741 (s)\n",
            "------------------------------\n",
            "Iteration (train phase) 141/300\n",
            "Finished in 8.790650367736816 (s)\n",
            "------------------------------\n",
            "Iteration (train phase) 142/300\n",
            "Finished in 8.787473201751709 (s)\n",
            "------------------------------\n",
            "Iteration (train phase) 143/300\n",
            "Finished in 8.756133317947388 (s)\n",
            "------------------------------\n",
            "Iteration (train phase) 144/300\n",
            "Finished in 8.886297225952148 (s)\n",
            "------------------------------\n",
            "Iteration (train phase) 145/300\n",
            "Finished in 8.725859642028809 (s)\n",
            "------------------------------\n",
            "Iteration (train phase) 146/300\n",
            "Finished in 8.900709390640259 (s)\n",
            "------------------------------\n",
            "Iteration (train phase) 147/300\n",
            "Finished in 8.774255752563477 (s)\n",
            "------------------------------\n",
            "Iteration (train phase) 148/300\n",
            "Finished in 9.095367908477783 (s)\n",
            "------------------------------\n",
            "Iteration (train phase) 149/300\n",
            "Finished in 8.995585918426514 (s)\n",
            "------------------------------\n",
            "Iteration (train phase) 150/300\n",
            "Finished in 8.939213514328003 (s)\n",
            "------------------------------\n",
            "Iteration (train phase) 151/300\n",
            "Finished in 8.797780752182007 (s)\n",
            "------------------------------\n",
            "Iteration (train phase) 152/300\n",
            "Finished in 8.709498405456543 (s)\n",
            "------------------------------\n",
            "Iteration (train phase) 153/300\n",
            "Finished in 8.700185298919678 (s)\n",
            "------------------------------\n",
            "Iteration (train phase) 154/300\n",
            "Finished in 8.66323447227478 (s)\n",
            "------------------------------\n",
            "Iteration (train phase) 155/300\n",
            "Finished in 8.735734462738037 (s)\n",
            "------------------------------\n",
            "Iteration (train phase) 156/300\n",
            "Finished in 8.706130743026733 (s)\n",
            "------------------------------\n",
            "Iteration (train phase) 157/300\n",
            "Finished in 8.748087406158447 (s)\n",
            "------------------------------\n",
            "Iteration (train phase) 158/300\n",
            "Finished in 8.714592218399048 (s)\n",
            "------------------------------\n",
            "Iteration (train phase) 159/300\n",
            "Finished in 8.789927244186401 (s)\n",
            "------------------------------\n",
            "Iteration (train phase) 160/300\n",
            "Finished in 8.706607818603516 (s)\n",
            "------------------------------\n",
            "Iteration (train phase) 161/300\n",
            "Finished in 8.709677457809448 (s)\n",
            "------------------------------\n",
            "Iteration (train phase) 162/300\n",
            "Finished in 8.70740032196045 (s)\n",
            "------------------------------\n",
            "Iteration (train phase) 163/300\n",
            "Finished in 8.98752737045288 (s)\n",
            "------------------------------\n",
            "Iteration (train phase) 164/300\n",
            "Finished in 8.637492656707764 (s)\n",
            "------------------------------\n",
            "Iteration (train phase) 165/300\n",
            "Finished in 8.692846536636353 (s)\n",
            "------------------------------\n",
            "Iteration (train phase) 166/300\n",
            "Finished in 8.640719652175903 (s)\n",
            "------------------------------\n",
            "Iteration (train phase) 167/300\n",
            "Finished in 8.671672582626343 (s)\n",
            "------------------------------\n",
            "Iteration (train phase) 168/300\n",
            "Finished in 8.731269359588623 (s)\n",
            "------------------------------\n",
            "Iteration (train phase) 169/300\n",
            "Finished in 8.67246150970459 (s)\n",
            "------------------------------\n",
            "Iteration (train phase) 170/300\n",
            "Finished in 8.635835647583008 (s)\n",
            "------------------------------\n",
            "Iteration (train phase) 171/300\n",
            "Finished in 8.685980796813965 (s)\n",
            "------------------------------\n",
            "Iteration (train phase) 172/300\n",
            "Finished in 8.6813063621521 (s)\n",
            "------------------------------\n",
            "Iteration (train phase) 173/300\n",
            "Finished in 8.659223556518555 (s)\n",
            "------------------------------\n",
            "Iteration (train phase) 174/300\n",
            "Finished in 8.634302377700806 (s)\n",
            "------------------------------\n",
            "Iteration (train phase) 175/300\n",
            "Finished in 8.6913423538208 (s)\n",
            "------------------------------\n",
            "Iteration (train phase) 176/300\n",
            "Finished in 8.740716934204102 (s)\n",
            "------------------------------\n",
            "Iteration (train phase) 177/300\n",
            "Finished in 8.647000789642334 (s)\n",
            "------------------------------\n",
            "Iteration (train phase) 178/300\n",
            "Finished in 8.667661905288696 (s)\n",
            "------------------------------\n",
            "Iteration (train phase) 179/300\n",
            "Finished in 8.683720827102661 (s)\n",
            "------------------------------\n",
            "Iteration (train phase) 180/300\n",
            "Finished in 8.607393503189087 (s)\n",
            "------------------------------\n",
            "Iteration (train phase) 181/300\n",
            "Finished in 8.652297019958496 (s)\n",
            "------------------------------\n",
            "Iteration (train phase) 182/300\n",
            "Finished in 8.663786888122559 (s)\n",
            "------------------------------\n",
            "Iteration (train phase) 183/300\n",
            "Finished in 8.68712592124939 (s)\n",
            "------------------------------\n",
            "Iteration (train phase) 184/300\n",
            "Finished in 8.709351778030396 (s)\n",
            "------------------------------\n",
            "Iteration (train phase) 185/300\n",
            "Finished in 8.652133226394653 (s)\n",
            "------------------------------\n",
            "Iteration (train phase) 186/300\n",
            "Finished in 8.646326541900635 (s)\n",
            "------------------------------\n",
            "Iteration (train phase) 187/300\n",
            "Finished in 8.647935152053833 (s)\n",
            "------------------------------\n",
            "Iteration (train phase) 188/300\n",
            "Finished in 8.858431816101074 (s)\n",
            "------------------------------\n",
            "Iteration (train phase) 189/300\n",
            "Finished in 8.692723035812378 (s)\n",
            "------------------------------\n",
            "Iteration (train phase) 190/300\n",
            "Finished in 8.64186716079712 (s)\n",
            "------------------------------\n",
            "Iteration (train phase) 191/300\n",
            "Finished in 8.668888330459595 (s)\n",
            "------------------------------\n",
            "Iteration (train phase) 192/300\n",
            "Finished in 12.710135221481323 (s)\n",
            "------------------------------\n",
            "Iteration (train phase) 193/300\n",
            "Finished in 9.259358882904053 (s)\n",
            "------------------------------\n",
            "Iteration (train phase) 194/300\n",
            "Finished in 8.629103899002075 (s)\n",
            "------------------------------\n",
            "Iteration (train phase) 195/300\n",
            "Finished in 8.67789340019226 (s)\n",
            "------------------------------\n",
            "Iteration (train phase) 196/300\n",
            "Finished in 8.688520908355713 (s)\n",
            "------------------------------\n",
            "Iteration (train phase) 197/300\n",
            "Finished in 8.64996075630188 (s)\n",
            "------------------------------\n",
            "Iteration (train phase) 198/300\n",
            "Finished in 8.634275197982788 (s)\n",
            "------------------------------\n",
            "Iteration (train phase) 199/300\n",
            "Finished in 8.744106531143188 (s)\n",
            "------------------------------\n",
            "Iteration (train phase) 200/300\n",
            "Finished in 8.734368085861206 (s)\n",
            "------------------------------\n",
            "Iteration (train phase) 201/300\n",
            "Finished in 8.644542455673218 (s)\n",
            "------------------------------\n",
            "Iteration (train phase) 202/300\n",
            "Finished in 8.634302616119385 (s)\n",
            "------------------------------\n",
            "Iteration (train phase) 203/300\n",
            "Finished in 8.700137376785278 (s)\n",
            "------------------------------\n",
            "Iteration (train phase) 204/300\n",
            "Finished in 8.62277889251709 (s)\n",
            "------------------------------\n",
            "Iteration (train phase) 205/300\n",
            "Finished in 8.63034701347351 (s)\n",
            "------------------------------\n",
            "Iteration (train phase) 206/300\n",
            "Finished in 8.646761894226074 (s)\n",
            "------------------------------\n",
            "Iteration (train phase) 207/300\n",
            "Finished in 8.652881145477295 (s)\n",
            "------------------------------\n",
            "Iteration (train phase) 208/300\n",
            "Finished in 8.656255006790161 (s)\n",
            "------------------------------\n",
            "Iteration (train phase) 209/300\n",
            "Finished in 8.702593326568604 (s)\n",
            "------------------------------\n",
            "Iteration (train phase) 210/300\n",
            "Finished in 8.692071199417114 (s)\n",
            "------------------------------\n",
            "Iteration (train phase) 211/300\n",
            "Finished in 8.65358591079712 (s)\n",
            "------------------------------\n",
            "Iteration (train phase) 212/300\n",
            "Finished in 8.65941596031189 (s)\n",
            "------------------------------\n",
            "Iteration (train phase) 213/300\n",
            "Finished in 9.439451217651367 (s)\n",
            "------------------------------\n",
            "Iteration (train phase) 214/300\n",
            "Finished in 8.658886432647705 (s)\n",
            "------------------------------\n",
            "Iteration (train phase) 215/300\n",
            "Finished in 8.678634643554688 (s)\n",
            "------------------------------\n",
            "Iteration (train phase) 216/300\n",
            "Finished in 8.61821460723877 (s)\n",
            "------------------------------\n",
            "Iteration (train phase) 217/300\n",
            "Finished in 8.672367572784424 (s)\n",
            "------------------------------\n",
            "Iteration (train phase) 218/300\n",
            "Finished in 8.619879245758057 (s)\n",
            "------------------------------\n",
            "Iteration (train phase) 219/300\n",
            "Finished in 8.642862558364868 (s)\n",
            "------------------------------\n",
            "Iteration (train phase) 220/300\n",
            "Finished in 8.651473999023438 (s)\n",
            "------------------------------\n",
            "Iteration (train phase) 221/300\n",
            "Finished in 8.659756422042847 (s)\n",
            "------------------------------\n",
            "Iteration (train phase) 222/300\n",
            "Finished in 8.687816619873047 (s)\n",
            "------------------------------\n",
            "Iteration (train phase) 223/300\n",
            "Finished in 8.644356727600098 (s)\n",
            "------------------------------\n",
            "Iteration (train phase) 224/300\n",
            "Finished in 8.67623496055603 (s)\n",
            "------------------------------\n",
            "Iteration (train phase) 225/300\n",
            "Finished in 8.765529155731201 (s)\n",
            "------------------------------\n",
            "Iteration (train phase) 226/300\n",
            "Finished in 8.672396659851074 (s)\n",
            "------------------------------\n",
            "Iteration (train phase) 227/300\n",
            "Finished in 8.671985626220703 (s)\n",
            "------------------------------\n",
            "Iteration (train phase) 228/300\n",
            "Finished in 8.765426874160767 (s)\n",
            "------------------------------\n",
            "Iteration (train phase) 229/300\n",
            "Finished in 8.693128108978271 (s)\n",
            "------------------------------\n",
            "Iteration (train phase) 230/300\n",
            "Finished in 8.672834634780884 (s)\n",
            "------------------------------\n",
            "Iteration (train phase) 231/300\n",
            "Finished in 8.753530740737915 (s)\n",
            "------------------------------\n",
            "Iteration (train phase) 232/300\n",
            "Finished in 8.686039686203003 (s)\n",
            "------------------------------\n",
            "Iteration (train phase) 233/300\n",
            "Finished in 8.742929697036743 (s)\n",
            "------------------------------\n",
            "Iteration (train phase) 234/300\n",
            "Finished in 8.714381217956543 (s)\n",
            "------------------------------\n",
            "Iteration (train phase) 235/300\n",
            "Finished in 8.661028623580933 (s)\n",
            "------------------------------\n",
            "Iteration (train phase) 236/300\n",
            "Finished in 8.72813892364502 (s)\n",
            "------------------------------\n",
            "Iteration (train phase) 237/300\n",
            "Finished in 8.725604772567749 (s)\n",
            "------------------------------\n",
            "Iteration (train phase) 238/300\n",
            "Finished in 8.694501876831055 (s)\n",
            "------------------------------\n",
            "Iteration (train phase) 239/300\n",
            "Finished in 8.690757036209106 (s)\n",
            "------------------------------\n",
            "Iteration (train phase) 240/300\n",
            "Finished in 8.70083999633789 (s)\n",
            "------------------------------\n",
            "Iteration (train phase) 241/300\n",
            "Finished in 8.73550009727478 (s)\n",
            "------------------------------\n",
            "Iteration (train phase) 242/300\n",
            "Finished in 8.67084288597107 (s)\n",
            "------------------------------\n",
            "Iteration (train phase) 243/300\n",
            "Finished in 8.650365352630615 (s)\n",
            "------------------------------\n",
            "Iteration (train phase) 244/300\n",
            "Finished in 8.676767110824585 (s)\n",
            "------------------------------\n",
            "Iteration (train phase) 245/300\n",
            "Finished in 8.69335412979126 (s)\n",
            "------------------------------\n",
            "Iteration (train phase) 246/300\n",
            "Finished in 8.681269407272339 (s)\n",
            "------------------------------\n",
            "Iteration (train phase) 247/300\n",
            "Finished in 8.74804401397705 (s)\n",
            "------------------------------\n",
            "Iteration (train phase) 248/300\n",
            "Finished in 8.67832064628601 (s)\n",
            "------------------------------\n",
            "Iteration (train phase) 249/300\n",
            "Finished in 8.686110973358154 (s)\n",
            "------------------------------\n",
            "Iteration (train phase) 250/300\n",
            "Finished in 8.677318334579468 (s)\n",
            "------------------------------\n",
            "Iteration (train phase) 251/300\n",
            "Finished in 8.665274381637573 (s)\n",
            "------------------------------\n",
            "Iteration (train phase) 252/300\n",
            "Finished in 8.695558786392212 (s)\n",
            "------------------------------\n",
            "Iteration (train phase) 253/300\n",
            "Finished in 8.786881685256958 (s)\n",
            "------------------------------\n",
            "Iteration (train phase) 254/300\n",
            "Finished in 8.681898593902588 (s)\n",
            "------------------------------\n",
            "Iteration (train phase) 255/300\n",
            "Finished in 10.766092538833618 (s)\n",
            "------------------------------\n",
            "Iteration (train phase) 256/300\n",
            "Finished in 11.242756366729736 (s)\n",
            "------------------------------\n",
            "Iteration (train phase) 257/300\n",
            "Finished in 8.985859155654907 (s)\n",
            "------------------------------\n",
            "Iteration (train phase) 258/300\n",
            "Finished in 8.738486766815186 (s)\n",
            "------------------------------\n",
            "Iteration (train phase) 259/300\n",
            "Finished in 8.77609372138977 (s)\n",
            "------------------------------\n",
            "Iteration (train phase) 260/300\n",
            "Finished in 8.736276865005493 (s)\n",
            "------------------------------\n",
            "Iteration (train phase) 261/300\n",
            "Finished in 8.793888330459595 (s)\n",
            "------------------------------\n",
            "Iteration (train phase) 262/300\n",
            "Finished in 8.825029611587524 (s)\n",
            "------------------------------\n",
            "Iteration (train phase) 263/300\n",
            "Finished in 8.76798939704895 (s)\n",
            "------------------------------\n",
            "Iteration (train phase) 264/300\n",
            "Finished in 8.715101480484009 (s)\n",
            "------------------------------\n",
            "Iteration (train phase) 265/300\n",
            "Finished in 8.81420636177063 (s)\n",
            "------------------------------\n",
            "Iteration (train phase) 266/300\n",
            "Finished in 8.698364019393921 (s)\n",
            "------------------------------\n",
            "Iteration (train phase) 267/300\n",
            "Finished in 8.706541538238525 (s)\n",
            "------------------------------\n",
            "Iteration (train phase) 268/300\n",
            "Finished in 8.680164575576782 (s)\n",
            "------------------------------\n",
            "Iteration (train phase) 269/300\n",
            "Finished in 8.700199127197266 (s)\n",
            "------------------------------\n",
            "Iteration (train phase) 270/300\n",
            "Finished in 8.706689834594727 (s)\n",
            "------------------------------\n",
            "Iteration (train phase) 271/300\n",
            "Finished in 8.759292125701904 (s)\n",
            "------------------------------\n",
            "Iteration (train phase) 272/300\n",
            "Finished in 8.723669528961182 (s)\n",
            "------------------------------\n",
            "Iteration (train phase) 273/300\n",
            "Finished in 8.717986106872559 (s)\n",
            "------------------------------\n",
            "Iteration (train phase) 274/300\n",
            "Finished in 8.677383661270142 (s)\n",
            "------------------------------\n",
            "Iteration (train phase) 275/300\n",
            "Finished in 8.721364259719849 (s)\n",
            "------------------------------\n",
            "Iteration (train phase) 276/300\n",
            "Finished in 8.730075359344482 (s)\n",
            "------------------------------\n",
            "Iteration (train phase) 277/300\n",
            "Finished in 8.682916164398193 (s)\n",
            "------------------------------\n",
            "Iteration (train phase) 278/300\n",
            "Finished in 8.725128173828125 (s)\n",
            "------------------------------\n",
            "Iteration (train phase) 279/300\n",
            "Finished in 8.762387037277222 (s)\n",
            "------------------------------\n",
            "Iteration (train phase) 280/300\n",
            "Finished in 8.645812749862671 (s)\n",
            "------------------------------\n",
            "Iteration (train phase) 281/300\n",
            "Finished in 8.711498498916626 (s)\n",
            "------------------------------\n",
            "Iteration (train phase) 282/300\n",
            "Finished in 8.750444173812866 (s)\n",
            "------------------------------\n",
            "Iteration (train phase) 283/300\n",
            "Finished in 8.701227188110352 (s)\n",
            "------------------------------\n",
            "Iteration (train phase) 284/300\n",
            "Finished in 8.748030185699463 (s)\n",
            "------------------------------\n",
            "Iteration (train phase) 285/300\n",
            "Finished in 8.677828550338745 (s)\n",
            "------------------------------\n",
            "Iteration (train phase) 286/300\n",
            "Finished in 8.686984300613403 (s)\n",
            "------------------------------\n",
            "Iteration (train phase) 287/300\n",
            "Finished in 8.721601009368896 (s)\n",
            "------------------------------\n",
            "Iteration (train phase) 288/300\n",
            "Finished in 8.650927066802979 (s)\n",
            "------------------------------\n",
            "Iteration (train phase) 289/300\n",
            "Finished in 10.06264615058899 (s)\n",
            "------------------------------\n",
            "Iteration (train phase) 290/300\n",
            "Finished in 8.717813730239868 (s)\n",
            "------------------------------\n",
            "Iteration (train phase) 291/300\n",
            "Finished in 8.673930644989014 (s)\n",
            "------------------------------\n",
            "Iteration (train phase) 292/300\n",
            "Finished in 8.66000771522522 (s)\n",
            "------------------------------\n",
            "Iteration (train phase) 293/300\n",
            "Finished in 8.841346502304077 (s)\n",
            "------------------------------\n",
            "Iteration (train phase) 294/300\n",
            "Finished in 8.726325511932373 (s)\n",
            "------------------------------\n",
            "Iteration (train phase) 295/300\n",
            "Finished in 8.740347385406494 (s)\n",
            "------------------------------\n",
            "Iteration (train phase) 296/300\n",
            "Finished in 8.68240213394165 (s)\n",
            "------------------------------\n",
            "Iteration (train phase) 297/300\n",
            "Finished in 8.694629430770874 (s)\n",
            "------------------------------\n",
            "Iteration (train phase) 298/300\n",
            "Finished in 8.650366067886353 (s)\n",
            "------------------------------\n",
            "Iteration (train phase) 299/300\n",
            "Finished in 8.671508073806763 (s)\n",
            "------------------------------\n",
            "Iteration (train phase) 300/300\n",
            "Finished in 8.68544864654541 (s)\n",
            "------------------------------\n",
            "Iteration (validation phase) 1/100\n",
            "Finished in 7.81281852722168 (s)\n",
            "------------------------------\n",
            "Iteration (validation phase) 2/100\n",
            "Finished in 7.739491701126099 (s)\n",
            "------------------------------\n",
            "Iteration (validation phase) 3/100\n",
            "Finished in 7.823468446731567 (s)\n",
            "------------------------------\n",
            "Iteration (validation phase) 4/100\n",
            "Finished in 7.7957093715667725 (s)\n",
            "------------------------------\n",
            "Iteration (validation phase) 5/100\n",
            "Finished in 7.796925067901611 (s)\n",
            "------------------------------\n",
            "Iteration (validation phase) 6/100\n",
            "Finished in 7.735812187194824 (s)\n",
            "------------------------------\n",
            "Iteration (validation phase) 7/100\n",
            "Finished in 7.809513092041016 (s)\n",
            "------------------------------\n",
            "Iteration (validation phase) 8/100\n",
            "Finished in 7.7736194133758545 (s)\n",
            "------------------------------\n",
            "Iteration (validation phase) 9/100\n",
            "Finished in 7.778557538986206 (s)\n",
            "------------------------------\n",
            "Iteration (validation phase) 10/100\n",
            "Finished in 7.79545259475708 (s)\n",
            "------------------------------\n",
            "Iteration (validation phase) 11/100\n",
            "Finished in 7.796405076980591 (s)\n",
            "------------------------------\n",
            "Iteration (validation phase) 12/100\n",
            "Finished in 7.778112411499023 (s)\n",
            "------------------------------\n",
            "Iteration (validation phase) 13/100\n",
            "Finished in 7.775527000427246 (s)\n",
            "------------------------------\n",
            "Iteration (validation phase) 14/100\n",
            "Finished in 7.790670156478882 (s)\n",
            "------------------------------\n",
            "Iteration (validation phase) 15/100\n",
            "Finished in 7.838130712509155 (s)\n",
            "------------------------------\n",
            "Iteration (validation phase) 16/100\n",
            "Finished in 8.259007692337036 (s)\n",
            "------------------------------\n",
            "Iteration (validation phase) 17/100\n",
            "Finished in 7.85208797454834 (s)\n",
            "------------------------------\n",
            "Iteration (validation phase) 18/100\n",
            "Finished in 7.79525089263916 (s)\n",
            "------------------------------\n",
            "Iteration (validation phase) 19/100\n",
            "Finished in 7.791949987411499 (s)\n",
            "------------------------------\n",
            "Iteration (validation phase) 20/100\n",
            "Finished in 7.768762826919556 (s)\n",
            "------------------------------\n",
            "Iteration (validation phase) 21/100\n",
            "Finished in 13.367516040802002 (s)\n",
            "------------------------------\n",
            "Iteration (validation phase) 22/100\n",
            "Finished in 8.61098861694336 (s)\n",
            "------------------------------\n",
            "Iteration (validation phase) 23/100\n",
            "Finished in 7.80789852142334 (s)\n",
            "------------------------------\n",
            "Iteration (validation phase) 24/100\n",
            "Finished in 7.791360855102539 (s)\n",
            "------------------------------\n",
            "Iteration (validation phase) 25/100\n",
            "Finished in 7.780031204223633 (s)\n",
            "------------------------------\n",
            "Iteration (validation phase) 26/100\n",
            "Finished in 7.825018405914307 (s)\n",
            "------------------------------\n",
            "Iteration (validation phase) 27/100\n",
            "Finished in 7.872107028961182 (s)\n",
            "------------------------------\n",
            "Iteration (validation phase) 28/100\n",
            "Finished in 7.803322076797485 (s)\n",
            "------------------------------\n",
            "Iteration (validation phase) 29/100\n",
            "Finished in 7.808878421783447 (s)\n",
            "------------------------------\n",
            "Iteration (validation phase) 30/100\n",
            "Finished in 7.8183674812316895 (s)\n",
            "------------------------------\n",
            "Iteration (validation phase) 31/100\n",
            "Finished in 7.806805849075317 (s)\n",
            "------------------------------\n",
            "Iteration (validation phase) 32/100\n",
            "Finished in 7.749336242675781 (s)\n",
            "------------------------------\n",
            "Iteration (validation phase) 33/100\n",
            "Finished in 7.768639326095581 (s)\n",
            "------------------------------\n",
            "Iteration (validation phase) 34/100\n",
            "Finished in 7.749842166900635 (s)\n",
            "------------------------------\n",
            "Iteration (validation phase) 35/100\n",
            "Finished in 7.784336566925049 (s)\n",
            "------------------------------\n",
            "Iteration (validation phase) 36/100\n",
            "Finished in 7.7534730434417725 (s)\n",
            "------------------------------\n",
            "Iteration (validation phase) 37/100\n",
            "Finished in 7.780633211135864 (s)\n",
            "------------------------------\n",
            "Iteration (validation phase) 38/100\n",
            "Finished in 7.823441505432129 (s)\n",
            "------------------------------\n",
            "Iteration (validation phase) 39/100\n",
            "Finished in 7.806008577346802 (s)\n",
            "------------------------------\n",
            "Iteration (validation phase) 40/100\n",
            "Finished in 7.766242027282715 (s)\n",
            "------------------------------\n",
            "Iteration (validation phase) 41/100\n",
            "Finished in 7.799405336380005 (s)\n",
            "------------------------------\n",
            "Iteration (validation phase) 42/100\n",
            "Finished in 7.782405853271484 (s)\n",
            "------------------------------\n",
            "Iteration (validation phase) 43/100\n",
            "Finished in 8.868476390838623 (s)\n",
            "------------------------------\n",
            "Iteration (validation phase) 44/100\n",
            "Finished in 7.812673807144165 (s)\n",
            "------------------------------\n",
            "Iteration (validation phase) 45/100\n",
            "Finished in 7.787953853607178 (s)\n",
            "------------------------------\n",
            "Iteration (validation phase) 46/100\n",
            "Finished in 7.744509696960449 (s)\n",
            "------------------------------\n",
            "Iteration (validation phase) 47/100\n",
            "Finished in 7.736161947250366 (s)\n",
            "------------------------------\n",
            "Iteration (validation phase) 48/100\n",
            "Finished in 7.744052886962891 (s)\n",
            "------------------------------\n",
            "Iteration (validation phase) 49/100\n",
            "Finished in 7.808240652084351 (s)\n",
            "------------------------------\n",
            "Iteration (validation phase) 50/100\n",
            "Finished in 7.776795864105225 (s)\n",
            "------------------------------\n",
            "Iteration (validation phase) 51/100\n",
            "Finished in 7.843876600265503 (s)\n",
            "------------------------------\n",
            "Iteration (validation phase) 52/100\n",
            "Finished in 7.813101530075073 (s)\n",
            "------------------------------\n",
            "Iteration (validation phase) 53/100\n",
            "Finished in 7.796924829483032 (s)\n",
            "------------------------------\n",
            "Iteration (validation phase) 54/100\n",
            "Finished in 7.748333692550659 (s)\n",
            "------------------------------\n",
            "Iteration (validation phase) 55/100\n",
            "Finished in 7.779485702514648 (s)\n",
            "------------------------------\n",
            "Iteration (validation phase) 56/100\n",
            "Finished in 7.813078880310059 (s)\n",
            "------------------------------\n",
            "Iteration (validation phase) 57/100\n",
            "Finished in 7.77790904045105 (s)\n",
            "------------------------------\n",
            "Iteration (validation phase) 58/100\n",
            "Finished in 7.816594362258911 (s)\n",
            "------------------------------\n",
            "Iteration (validation phase) 59/100\n",
            "Finished in 7.767379283905029 (s)\n",
            "------------------------------\n",
            "Iteration (validation phase) 60/100\n",
            "Finished in 7.749140977859497 (s)\n",
            "------------------------------\n",
            "Iteration (validation phase) 61/100\n",
            "Finished in 7.811591863632202 (s)\n",
            "------------------------------\n",
            "Iteration (validation phase) 62/100\n",
            "Finished in 7.8501136302948 (s)\n",
            "------------------------------\n",
            "Iteration (validation phase) 63/100\n",
            "Finished in 7.764228582382202 (s)\n",
            "------------------------------\n",
            "Iteration (validation phase) 64/100\n",
            "Finished in 7.79475474357605 (s)\n",
            "------------------------------\n",
            "Iteration (validation phase) 65/100\n",
            "Finished in 7.776507616043091 (s)\n",
            "------------------------------\n",
            "Iteration (validation phase) 66/100\n",
            "Finished in 7.797816276550293 (s)\n",
            "------------------------------\n",
            "Iteration (validation phase) 67/100\n",
            "Finished in 7.773136615753174 (s)\n",
            "------------------------------\n",
            "Iteration (validation phase) 68/100\n",
            "Finished in 7.796598434448242 (s)\n",
            "------------------------------\n",
            "Iteration (validation phase) 69/100\n",
            "Finished in 7.812932968139648 (s)\n",
            "------------------------------\n",
            "Iteration (validation phase) 70/100\n",
            "Finished in 7.741102457046509 (s)\n",
            "------------------------------\n",
            "Iteration (validation phase) 71/100\n",
            "Finished in 7.779667615890503 (s)\n",
            "------------------------------\n",
            "Iteration (validation phase) 72/100\n",
            "Finished in 8.953416109085083 (s)\n",
            "------------------------------\n",
            "Iteration (validation phase) 73/100\n",
            "Finished in 7.823104619979858 (s)\n",
            "------------------------------\n",
            "Iteration (validation phase) 74/100\n",
            "Finished in 7.801025629043579 (s)\n",
            "------------------------------\n",
            "Iteration (validation phase) 75/100\n",
            "Finished in 7.812117576599121 (s)\n",
            "------------------------------\n",
            "Iteration (validation phase) 76/100\n",
            "Finished in 7.861448049545288 (s)\n",
            "------------------------------\n",
            "Iteration (validation phase) 77/100\n",
            "Finished in 7.794298410415649 (s)\n",
            "------------------------------\n",
            "Iteration (validation phase) 78/100\n",
            "Finished in 7.816451072692871 (s)\n",
            "------------------------------\n",
            "Iteration (validation phase) 79/100\n",
            "Finished in 7.8053953647613525 (s)\n",
            "------------------------------\n",
            "Iteration (validation phase) 80/100\n",
            "Finished in 7.776359558105469 (s)\n",
            "------------------------------\n",
            "Iteration (validation phase) 81/100\n",
            "Finished in 7.774871587753296 (s)\n",
            "------------------------------\n",
            "Iteration (validation phase) 82/100\n",
            "Finished in 7.736747741699219 (s)\n",
            "------------------------------\n",
            "Iteration (validation phase) 83/100\n",
            "Finished in 7.791048765182495 (s)\n",
            "------------------------------\n",
            "Iteration (validation phase) 84/100\n",
            "Finished in 7.757137060165405 (s)\n",
            "------------------------------\n",
            "Iteration (validation phase) 85/100\n",
            "Finished in 7.765674114227295 (s)\n",
            "------------------------------\n",
            "Iteration (validation phase) 86/100\n",
            "Finished in 7.797592401504517 (s)\n",
            "------------------------------\n",
            "Iteration (validation phase) 87/100\n",
            "Finished in 7.770968198776245 (s)\n",
            "------------------------------\n",
            "Iteration (validation phase) 88/100\n",
            "Finished in 7.787219285964966 (s)\n",
            "------------------------------\n",
            "Iteration (validation phase) 89/100\n",
            "Finished in 7.7408246994018555 (s)\n",
            "------------------------------\n",
            "Iteration (validation phase) 90/100\n",
            "Finished in 7.746893882751465 (s)\n",
            "------------------------------\n",
            "Iteration (validation phase) 91/100\n",
            "Finished in 10.86249828338623 (s)\n",
            "------------------------------\n",
            "Iteration (validation phase) 92/100\n",
            "Finished in 9.944291830062866 (s)\n",
            "------------------------------\n",
            "Iteration (validation phase) 93/100\n",
            "Finished in 7.845427751541138 (s)\n",
            "------------------------------\n",
            "Iteration (validation phase) 94/100\n",
            "Finished in 7.749663591384888 (s)\n",
            "------------------------------\n",
            "Iteration (validation phase) 95/100\n",
            "Finished in 7.805174350738525 (s)\n",
            "------------------------------\n",
            "Iteration (validation phase) 96/100\n",
            "Finished in 7.802763223648071 (s)\n",
            "------------------------------\n",
            "Iteration (validation phase) 97/100\n",
            "Finished in 7.770274639129639 (s)\n",
            "------------------------------\n",
            "Iteration (validation phase) 98/100\n",
            "Finished in 7.735263109207153 (s)\n",
            "------------------------------\n",
            "Iteration (validation phase) 99/100\n",
            "Finished in 7.780771732330322 (s)\n",
            "------------------------------\n",
            "Iteration (validation phase) 100/100\n",
            "Finished in 7.7641801834106445 (s)\n",
            "Epoch 1 - accuracy: 0.994\n",
            "------------------------------------------------------------------------\n"
          ]
        },
        {
          "output_type": "error",
          "ename": "NameError",
          "evalue": "ignored",
          "traceback": [
            "\u001b[0;31m---------------------------------------------------------------------------\u001b[0m",
            "\u001b[0;31mNameError\u001b[0m                                 Traceback (most recent call last)",
            "\u001b[0;32m<ipython-input-22-a5f4be1d5894>\u001b[0m in \u001b[0;36m<module>\u001b[0;34m()\u001b[0m\n\u001b[1;32m     79\u001b[0m \u001b[0;34m\u001b[0m\u001b[0m\n\u001b[1;32m     80\u001b[0m     \u001b[0;31m# Save model\u001b[0m\u001b[0;34m\u001b[0m\u001b[0;34m\u001b[0m\u001b[0;34m\u001b[0m\u001b[0m\n\u001b[0;32m---> 81\u001b[0;31m     \u001b[0mmodel_file_path\u001b[0m \u001b[0;34m=\u001b[0m \u001b[0mmodel_path\u001b[0m \u001b[0;34m+\u001b[0m \u001b[0;34m\"resnet18_trained_model_epoch_{}.pth\"\u001b[0m\u001b[0;34m.\u001b[0m\u001b[0mformat\u001b[0m\u001b[0;34m(\u001b[0m\u001b[0mepoch\u001b[0m\u001b[0;34m+\u001b[0m\u001b[0;36m1\u001b[0m\u001b[0;34m)\u001b[0m\u001b[0;34m\u001b[0m\u001b[0;34m\u001b[0m\u001b[0m\n\u001b[0m\u001b[1;32m     82\u001b[0m     \u001b[0mtorch\u001b[0m\u001b[0;34m.\u001b[0m\u001b[0msave\u001b[0m\u001b[0;34m(\u001b[0m\u001b[0mmodel\u001b[0m\u001b[0;34m.\u001b[0m\u001b[0mstate_dict\u001b[0m\u001b[0;34m(\u001b[0m\u001b[0;34m)\u001b[0m\u001b[0;34m,\u001b[0m \u001b[0mmodel_file_path\u001b[0m\u001b[0;34m)\u001b[0m\u001b[0;34m\u001b[0m\u001b[0;34m\u001b[0m\u001b[0m\n\u001b[1;32m     83\u001b[0m \u001b[0;34m\u001b[0m\u001b[0m\n",
            "\u001b[0;31mNameError\u001b[0m: name 'model_path' is not defined"
          ]
        }
      ],
      "source": [
        "n_epochs = 1\n",
        "loss_list = []\n",
        "accuracy_list = []\n",
        "accuracy = 0\n",
        "correct = 0\n",
        "N_test = len(validation_dataset)\n",
        "N_train = len(train_dataset)\n",
        "start_time = time.time()\n",
        "#n_epochs\n",
        "\n",
        "print(\"Number of items in training set : \", N_train)\n",
        "print(\"Number of items in testing set : \", N_test)\n",
        "\n",
        "running_loss = 0\n",
        "start_time = time.time()\n",
        "for epoch in range(n_epochs):\n",
        "    for i, (x, y) in enumerate(train_loader):        \n",
        "        print('-' * 30)\n",
        "        print('Iteration (train phase) {}/{}'.format(i+1, int(N_train/batch_size)))\n",
        "        i_start_time = time.time()\n",
        "        \n",
        "        x = x.to(device)\n",
        "        y = y.to(device)\n",
        "            \n",
        "        # set model to train \n",
        "        model.train() \n",
        "        \n",
        "        # clear gradient \n",
        "        optimizer.zero_grad()\n",
        "     \n",
        "        # make a prediction \n",
        "        z = model(x)\n",
        "   \n",
        "        # calculate loss \n",
        "        loss = criterion(z, y) \n",
        "        # loss.requires_grad = True\n",
        "    \n",
        "        # calculate gradients of parameters \n",
        "        loss.backward()\n",
        "        \n",
        "        # update parameters \n",
        "        optimizer.step()\n",
        "        \n",
        "        loss_list.append(loss.data)\n",
        "        print(\"Finished in {} (s)\".format(time.time()-i_start_time))\n",
        "    # end for\n",
        "        \n",
        "    correct=0\n",
        "    for i, (x_test, y_test) in enumerate(validation_loader):\n",
        "        print('-' * 30)\n",
        "        print('Iteration (validation phase) {}/{}'.format(i+1, int(N_test/batch_size)))\n",
        "        i_start_time = time.time()\n",
        "        \n",
        "        x_test = x_test.to(device)\n",
        "        y_test = y_test.to(device)\n",
        "        \n",
        "        # set model to eval \n",
        "        model.eval()\n",
        "       \n",
        "        # make a prediction \n",
        "        z = model(x_test)\n",
        "        \n",
        "        # find max \n",
        "        _, yhat = torch.max(z.data, 1)\n",
        "       \n",
        "       \n",
        "        #Calculate misclassified  samples in mini-batch \n",
        "        #hint +=(yhat==y_test).sum().item()\n",
        "        correct += (yhat==y_test).sum().item()  \n",
        "        \n",
        "        print(\"Finished in {} (s)\".format(time.time()-i_start_time))\n",
        "    # end for\n",
        "    \n",
        "    accuracy=correct/N_test\n",
        "    print(\"Epoch %d - accuracy: %.3f\" % (epoch+1, accuracy))\n",
        "    \n",
        "    accuracy_list.append(accuracy)\n",
        "    print(\"-\" * 72)\n",
        "    \n",
        "    # Save model\n",
        "    model_file_path = model_path + \"resnet18_trained_model_epoch_{}.pth\".format(epoch+1)\n",
        "    torch.save(model.state_dict(), model_file_path)\n",
        "    \n",
        "    # Duration for epoch\n",
        "    print(\"Finished epoch {} in {} (s).\".format(epoch+1, time.time()-start_time))\n",
        "# end for"
      ]
    },
    {
      "cell_type": "markdown",
      "source": [
        "Finished in 7.735263109207153 (s)\n"
      ],
      "metadata": {
        "id": "vaqvr1N61guG"
      }
    },
    {
      "cell_type": "markdown",
      "metadata": {
        "id": "WSDuF6moao9O"
      },
      "source": [
        "<b>Print out the Accuracy and plot the loss stored in the list <code>loss_list</code> for every iteration and take a screen shot.</b>\n"
      ]
    },
    {
      "cell_type": "code",
      "execution_count": null,
      "metadata": {
        "id": "u8K8iZidao9O",
        "colab": {
          "base_uri": "https://localhost:8080/"
        },
        "outputId": "4a6a51e2-ff1d-46da-d7e8-6fa9bb1a2b64"
      },
      "outputs": [
        {
          "output_type": "execute_result",
          "data": {
            "text/plain": [
              "0.9944"
            ]
          },
          "metadata": {},
          "execution_count": 23
        }
      ],
      "source": [
        "accuracy"
      ]
    },
    {
      "cell_type": "code",
      "execution_count": null,
      "metadata": {
        "id": "6BYm6HKkao9P",
        "colab": {
          "base_uri": "https://localhost:8080/",
          "height": 279
        },
        "outputId": "6c203b6d-e8db-4c7c-bbdf-82727c316f57"
      },
      "outputs": [
        {
          "output_type": "display_data",
          "data": {
            "text/plain": [
              "<Figure size 432x288 with 1 Axes>"
            ],
            "image/png": "[encoded data removed]"
          },
          "metadata": {
            "needs_background": "light"
          }
        }
      ],
      "source": [
        "plt.plot(loss_list)\n",
        "plt.xlabel(\"iteration\")\n",
        "plt.ylabel(\"loss\")\n",
        "plt.show()\n"
      ]
    },
    {
      "cell_type": "markdown",
      "metadata": {
        "id": "Nzb0Zh0qao9P"
      },
      "source": [
        "<h2 id=\"Question_3\">Question 3:Find the misclassified samples</h2> \n"
      ]
    },
    {
      "cell_type": "markdown",
      "metadata": {
        "id": "WaIeNGKOao9P"
      },
      "source": [
        "<b>Identify the first four misclassified samples using the validation data:</b>\n"
      ]
    },
    {
      "cell_type": "code",
      "execution_count": null,
      "metadata": {
        "id": "FsGAWNcSao9Q",
        "colab": {
          "base_uri": "https://localhost:8080/"
        },
        "outputId": "ddebb91a-ca67-4344-e1df-e030d5375895"
      },
      "outputs": [
        {
          "output_type": "stream",
          "name": "stdout",
          "text": [
            "Sample : 254; Expected Label: tensor([1]); Obtained Label: tensor([0])\n",
            "Sample : 627; Expected Label: tensor([0]); Obtained Label: tensor([1])\n",
            "Sample : 891; Expected Label: tensor([0]); Obtained Label: tensor([1])\n",
            "Sample : 1029; Expected Label: tensor([0]); Obtained Label: tensor([1])\n"
          ]
        }
      ],
      "source": [
        "count = 0\n",
        "max_num_of_items = 4  # first four mis-classified samples\n",
        "validation_loader_batch_one = torch.utils.data.DataLoader(dataset=validation_dataset, batch_size=1)\n",
        "\n",
        "for i, (x_test, y_test) in enumerate(validation_loader_batch_one):\n",
        "    # set model to eval\n",
        "    model.eval()\n",
        "    \n",
        "    # make a prediction\n",
        "    z = model(x_test)\n",
        "    \n",
        "    # find max\n",
        "    _, yhat = torch.max(z.data, 1)\n",
        "    \n",
        "    # print mis-classified samples\n",
        "    if yhat != y_test:\n",
        "        print(\"Sample : {}; Expected Label: {}; Obtained Label: {}\".format(str(i), str(y_test), str(yhat)))\n",
        "        count += 1\n",
        "        if count >= max_num_of_items:\n",
        "            break"
      ]
    },
    {
      "cell_type": "markdown",
      "source": [
        "Sample : 134; Expected Label: tensor([0]); Obtained Label: tensor([1])\n",
        "Sample : 364; Expected Label: tensor([0]); Obtained Label: tensor([1])\n",
        "Sample : 452; Expected Label: tensor([0]); Obtained Label: tensor([1])\n",
        "Sample : 546; Expected Label: tensor([0]); Obtained Label: tensor([1])"
      ],
      "metadata": {
        "id": "C2Z_IfYL1kGb"
      }
    },
    {
      "cell_type": "markdown",
      "metadata": {
        "id": "3idUu17Mao9Q"
      },
      "source": [
        "<a href=\"https://dataplatform.cloud.ibm.com/docs/content/wsj/analyze-data/share-notebooks.html?utm_medium=Exinfluencer&utm_source=Exinfluencer&utm_content=000026UJ&utm_term=10006555&utm_id=NA-SkillsNetwork-Channel-SkillsNetworkCoursesIBMDeveloperSkillsNetworkDL0321ENSkillsNetwork20647850-2021-01-01\"> CLICK HERE </a> Click here to see how to share your notebook.\n"
      ]
    },
    {
      "cell_type": "markdown",
      "metadata": {
        "id": "9jgWnd9jao9Q"
      },
      "source": [
        "<h2>About the Authors:</h2> \n",
        "\n",
        "<a href=\"https://www.linkedin.com/in/joseph-s-50398b136/?utm_medium=Exinfluencer&utm_source=Exinfluencer&utm_content=000026UJ&utm_term=10006555&utm_id=NA-SkillsNetwork-Channel-SkillsNetworkCoursesIBMDeveloperSkillsNetworkDL0321ENSkillsNetwork20647850-2021-01-01\">Joseph Santarcangelo</a> has a PhD in Electrical Engineering, his research focused on using machine learning, signal processing, and computer vision to determine how videos impact human cognition. Joseph has been working for IBM since he completed his PhD.\n"
      ]
    },
    {
      "cell_type": "markdown",
      "metadata": {
        "id": "olC_R9QSao9Q"
      },
      "source": [
        "## Change Log\n",
        "\n",
        "| Date (YYYY-MM-DD) | Version | Changed By | Change Description                                          |\n",
        "| ----------------- | ------- | ---------- | ----------------------------------------------------------- |\n",
        "| 2020-09-21        | 2.0     | Shubham    | Migrated Lab to Markdown and added to course repo in GitLab |\n",
        "\n",
        "<hr>\n",
        "\n",
        "## <h3 align=\"center\"> © IBM Corporation 2020. All rights reserved. <h3/>\n"
      ]
    },
    {
      "cell_type": "markdown",
      "metadata": {
        "id": "PSwBXpWeao9R"
      },
      "source": [
        "Copyright © 2018 <a href=\"https://cognitiveclass.ai/?utm_medium=dswb&utm_source=bducopyrightlink&utm_content=000026UJ&utm_term=10006555&utm_id=NA-SkillsNetwork-Channel-SkillsNetworkCoursesIBMDeveloperSkillsNetworkDL0321ENSkillsNetwork20647850-2021-01-01&utm_campaign=bdu\">cognitiveclass.ai</a>. This notebook and its source code are released under the terms of the <a href=\"https://bigdatauniversity.com/mit-license/?utm_medium=Exinfluencer&utm_source=Exinfluencer&utm_content=000026UJ&utm_term=10006555&utm_id=NA-SkillsNetwork-Channel-SkillsNetworkCoursesIBMDeveloperSkillsNetworkDL0321ENSkillsNetwork20647850-2021-01-01\">MIT License</a>.\n"
      ]
    }
  ],
  "metadata": {
    "colab": {
      "name": "4.1_resnet18_PyTorch.ipynb",
      "provenance": [],
      "include_colab_link": true
    },
    "kernelspec": {
      "display_name": "Python 3",
      "language": "python",
      "name": "python3"
    },
    "language_info": {
      "codemirror_mode": {
        "name": "ipython",
        "version": 3
      },
      "file_extension": ".py",
      "mimetype": "text/x-python",
      "name": "python",
      "nbconvert_exporter": "python",
      "pygments_lexer": "ipython3",
      "version": "3.9.5"
    },
    "widgets": {
      "application/vnd.jupyter.widget-state+json": {
        "5ceae1cd73bb4933a8408d96c8dbc0d7": {
          "model_module": "@jupyter-widgets/controls",
          "model_name": "HBoxModel",
          "model_module_version": "1.5.0",
          "state": {
            "_dom_classes": [],
            "_model_module": "@jupyter-widgets/controls",
            "_model_module_version": "1.5.0",
            "_model_name": "HBoxModel",
            "_view_count": null,
            "_view_module": "@jupyter-widgets/controls",
            "_view_module_version": "1.5.0",
            "_view_name": "HBoxView",
            "box_style": "",
            "children": [
              "IPY_MODEL_c268d1f96821433db086f88277a13e5a",
              "IPY_MODEL_41fc70b3824f491da613787ef9d2974b",
              "IPY_MODEL_9ececd2ff630414e85062b3d1626f8b5"
            ],
            "layout": "IPY_MODEL_05b0871a57114dcfbb7ebb37859adc8b"
          }
        },
        "c268d1f96821433db086f88277a13e5a": {
          "model_module": "@jupyter-widgets/controls",
          "model_name": "HTMLModel",
          "model_module_version": "1.5.0",
          "state": {
            "_dom_classes": [],
            "_model_module": "@jupyter-widgets/controls",
            "_model_module_version": "1.5.0",
            "_model_name": "HTMLModel",
            "_view_count": null,
            "_view_module": "@jupyter-widgets/controls",
            "_view_module_version": "1.5.0",
            "_view_name": "HTMLView",
            "description": "",
            "description_tooltip": null,
            "layout": "IPY_MODEL_9c00dbce81394dc7b9128d6d5cae90cb",
            "placeholder": "​",
            "style": "IPY_MODEL_faf2bc7d160b442c91434eb2852220fd",
            "value": "100%"
          }
        },
        "41fc70b3824f491da613787ef9d2974b": {
          "model_module": "@jupyter-widgets/controls",
          "model_name": "FloatProgressModel",
          "model_module_version": "1.5.0",
          "state": {
            "_dom_classes": [],
            "_model_module": "@jupyter-widgets/controls",
            "_model_module_version": "1.5.0",
            "_model_name": "FloatProgressModel",
            "_view_count": null,
            "_view_module": "@jupyter-widgets/controls",
            "_view_module_version": "1.5.0",
            "_view_name": "ProgressView",
            "bar_style": "success",
            "description": "",
            "description_tooltip": null,
            "layout": "IPY_MODEL_a7505f0748a145a5999db67af6ca4a59",
            "max": 46830571,
            "min": 0,
            "orientation": "horizontal",
            "style": "IPY_MODEL_18d61b080bb84875a3ca19eb5a4d25c1",
            "value": 46830571
          }
        },
        "9ececd2ff630414e85062b3d1626f8b5": {
          "model_module": "@jupyter-widgets/controls",
          "model_name": "HTMLModel",
          "model_module_version": "1.5.0",
          "state": {
            "_dom_classes": [],
            "_model_module": "@jupyter-widgets/controls",
            "_model_module_version": "1.5.0",
            "_model_name": "HTMLModel",
            "_view_count": null,
            "_view_module": "@jupyter-widgets/controls",
            "_view_module_version": "1.5.0",
            "_view_name": "HTMLView",
            "description": "",
            "description_tooltip": null,
            "layout": "IPY_MODEL_10ff2549d16d4a5c8308eb1bfd3b5839",
            "placeholder": "​",
            "style": "IPY_MODEL_2a2a04a63d7e47c99c2cf15673100032",
            "value": " 44.7M/44.7M [00:00&lt;00:00, 106MB/s]"
          }
        },
        "05b0871a57114dcfbb7ebb37859adc8b": {
          "model_module": "@jupyter-widgets/base",
          "model_name": "LayoutModel",
          "model_module_version": "1.2.0",
          "state": {
            "_model_module": "@jupyter-widgets/base",
            "_model_module_version": "1.2.0",
            "_model_name": "LayoutModel",
            "_view_count": null,
            "_view_module": "@jupyter-widgets/base",
            "_view_module_version": "1.2.0",
            "_view_name": "LayoutView",
            "align_content": null,
            "align_items": null,
            "align_self": null,
            "border": null,
            "bottom": null,
            "display": null,
            "flex": null,
            "flex_flow": null,
            "grid_area": null,
            "grid_auto_columns": null,
            "grid_auto_flow": null,
            "grid_auto_rows": null,
            "grid_column": null,
            "grid_gap": null,
            "grid_row": null,
            "grid_template_areas": null,
            "grid_template_columns": null,
            "grid_template_rows": null,
            "height": null,
            "justify_content": null,
            "justify_items": null,
            "left": null,
            "margin": null,
            "max_height": null,
            "max_width": null,
            "min_height": null,
            "min_width": null,
            "object_fit": null,
            "object_position": null,
            "order": null,
            "overflow": null,
            "overflow_x": null,
            "overflow_y": null,
            "padding": null,
            "right": null,
            "top": null,
            "visibility": null,
            "width": null
          }
        },
        "9c00dbce81394dc7b9128d6d5cae90cb": {
          "model_module": "@jupyter-widgets/base",
          "model_name": "LayoutModel",
          "model_module_version": "1.2.0",
          "state": {
            "_model_module": "@jupyter-widgets/base",
            "_model_module_version": "1.2.0",
            "_model_name": "LayoutModel",
            "_view_count": null,
            "_view_module": "@jupyter-widgets/base",
            "_view_module_version": "1.2.0",
            "_view_name": "LayoutView",
            "align_content": null,
            "align_items": null,
            "align_self": null,
            "border": null,
            "bottom": null,
            "display": null,
            "flex": null,
            "flex_flow": null,
            "grid_area": null,
            "grid_auto_columns": null,
            "grid_auto_flow": null,
            "grid_auto_rows": null,
            "grid_column": null,
            "grid_gap": null,
            "grid_row": null,
            "grid_template_areas": null,
            "grid_template_columns": null,
            "grid_template_rows": null,
            "height": null,
            "justify_content": null,
            "justify_items": null,
            "left": null,
            "margin": null,
            "max_height": null,
            "max_width": null,
            "min_height": null,
            "min_width": null,
            "object_fit": null,
            "object_position": null,
            "order": null,
            "overflow": null,
            "overflow_x": null,
            "overflow_y": null,
            "padding": null,
            "right": null,
            "top": null,
            "visibility": null,
            "width": null
          }
        },
        "faf2bc7d160b442c91434eb2852220fd": {
          "model_module": "@jupyter-widgets/controls",
          "model_name": "DescriptionStyleModel",
          "model_module_version": "1.5.0",
          "state": {
            "_model_module": "@jupyter-widgets/controls",
            "_model_module_version": "1.5.0",
            "_model_name": "DescriptionStyleModel",
            "_view_count": null,
            "_view_module": "@jupyter-widgets/base",
            "_view_module_version": "1.2.0",
            "_view_name": "StyleView",
            "description_width": ""
          }
        },
        "a7505f0748a145a5999db67af6ca4a59": {
          "model_module": "@jupyter-widgets/base",
          "model_name": "LayoutModel",
          "model_module_version": "1.2.0",
          "state": {
            "_model_module": "@jupyter-widgets/base",
            "_model_module_version": "1.2.0",
            "_model_name": "LayoutModel",
            "_view_count": null,
            "_view_module": "@jupyter-widgets/base",
            "_view_module_version": "1.2.0",
            "_view_name": "LayoutView",
            "align_content": null,
            "align_items": null,
            "align_self": null,
            "border": null,
            "bottom": null,
            "display": null,
            "flex": null,
            "flex_flow": null,
            "grid_area": null,
            "grid_auto_columns": null,
            "grid_auto_flow": null,
            "grid_auto_rows": null,
            "grid_column": null,
            "grid_gap": null,
            "grid_row": null,
            "grid_template_areas": null,
            "grid_template_columns": null,
            "grid_template_rows": null,
            "height": null,
            "justify_content": null,
            "justify_items": null,
            "left": null,
            "margin": null,
            "max_height": null,
            "max_width": null,
            "min_height": null,
            "min_width": null,
            "object_fit": null,
            "object_position": null,
            "order": null,
            "overflow": null,
            "overflow_x": null,
            "overflow_y": null,
            "padding": null,
            "right": null,
            "top": null,
            "visibility": null,
            "width": null
          }
        },
        "18d61b080bb84875a3ca19eb5a4d25c1": {
          "model_module": "@jupyter-widgets/controls",
          "model_name": "ProgressStyleModel",
          "model_module_version": "1.5.0",
          "state": {
            "_model_module": "@jupyter-widgets/controls",
            "_model_module_version": "1.5.0",
            "_model_name": "ProgressStyleModel",
            "_view_count": null,
            "_view_module": "@jupyter-widgets/base",
            "_view_module_version": "1.2.0",
            "_view_name": "StyleView",
            "bar_color": null,
            "description_width": ""
          }
        },
        "10ff2549d16d4a5c8308eb1bfd3b5839": {
          "model_module": "@jupyter-widgets/base",
          "model_name": "LayoutModel",
          "model_module_version": "1.2.0",
          "state": {
            "_model_module": "@jupyter-widgets/base",
            "_model_module_version": "1.2.0",
            "_model_name": "LayoutModel",
            "_view_count": null,
            "_view_module": "@jupyter-widgets/base",
            "_view_module_version": "1.2.0",
            "_view_name": "LayoutView",
            "align_content": null,
            "align_items": null,
            "align_self": null,
            "border": null,
            "bottom": null,
            "display": null,
            "flex": null,
            "flex_flow": null,
            "grid_area": null,
            "grid_auto_columns": null,
            "grid_auto_flow": null,
            "grid_auto_rows": null,
            "grid_column": null,
            "grid_gap": null,
            "grid_row": null,
            "grid_template_areas": null,
            "grid_template_columns": null,
            "grid_template_rows": null,
            "height": null,
            "justify_content": null,
            "justify_items": null,
            "left": null,
            "margin": null,
            "max_height": null,
            "max_width": null,
            "min_height": null,
            "min_width": null,
            "object_fit": null,
            "object_position": null,
            "order": null,
            "overflow": null,
            "overflow_x": null,
            "overflow_y": null,
            "padding": null,
            "right": null,
            "top": null,
            "visibility": null,
            "width": null
          }
        },
        "2a2a04a63d7e47c99c2cf15673100032": {
          "model_module": "@jupyter-widgets/controls",
          "model_name": "DescriptionStyleModel",
          "model_module_version": "1.5.0",
          "state": {
            "_model_module": "@jupyter-widgets/controls",
            "_model_module_version": "1.5.0",
            "_model_name": "DescriptionStyleModel",
            "_view_count": null,
            "_view_module": "@jupyter-widgets/base",
            "_view_module_version": "1.2.0",
            "_view_name": "StyleView",
            "description_width": ""
          }
        }
      }
    }
  },
  "nbformat": 4,
  "nbformat_minor": 0
}